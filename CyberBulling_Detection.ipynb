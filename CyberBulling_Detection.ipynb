{
  "nbformat": 4,
  "nbformat_minor": 0,
  "metadata": {
    "colab": {
      "name": "CyberBulling_Detection.ipynb",
      "provenance": []
    },
    "kernelspec": {
      "name": "python3",
      "display_name": "Python 3"
    }
  },
  "cells": [
    {
      "cell_type": "markdown",
      "metadata": {
        "id": "kTUk3ch57xOs",
        "colab_type": "text"
      },
      "source": [
        "**Loading the dataset**"
      ]
    },
    {
      "cell_type": "code",
      "metadata": {
        "id": "V5XJA9zNnS1X",
        "colab_type": "code",
        "colab": {
          "base_uri": "https://localhost:8080/",
          "height": 141
        },
        "outputId": "d8bc5760-4ec9-4a0a-9276-af6fa053e644"
      },
      "source": [
        "from google.colab import drive\n",
        "drive.mount('/gdrive')\n",
        "%cd /gdrive"
      ],
      "execution_count": 1,
      "outputs": [
        {
          "output_type": "stream",
          "text": [
            "Go to this URL in a browser: https://accounts.google.com/o/oauth2/auth?client_id=947318989803-6bn6qk8qdgf4n4g3pfee6491hc0brc4i.apps.googleusercontent.com&redirect_uri=urn%3aietf%3awg%3aoauth%3a2.0%3aoob&response_type=code&scope=email%20https%3a%2f%2fwww.googleapis.com%2fauth%2fdocs.test%20https%3a%2f%2fwww.googleapis.com%2fauth%2fdrive%20https%3a%2f%2fwww.googleapis.com%2fauth%2fdrive.photos.readonly%20https%3a%2f%2fwww.googleapis.com%2fauth%2fpeopleapi.readonly\n",
            "\n",
            "Enter your authorization code:\n",
            "··········\n",
            "Mounted at /gdrive\n",
            "/gdrive\n"
          ],
          "name": "stdout"
        }
      ]
    },
    {
      "cell_type": "code",
      "metadata": {
        "id": "hdHFb3ZBoJF3",
        "colab_type": "code",
        "colab": {
          "base_uri": "https://localhost:8080/",
          "height": 34
        },
        "outputId": "184d3908-bd9a-4a44-98b6-35eda4924b6f"
      },
      "source": [
        "#go to the location of the dataset on your drive\n",
        "%cd 'My Drive'"
      ],
      "execution_count": 2,
      "outputs": [
        {
          "output_type": "stream",
          "text": [
            "/gdrive/My Drive\n"
          ],
          "name": "stdout"
        }
      ]
    },
    {
      "cell_type": "code",
      "metadata": {
        "id": "UdVdNxUK_5E7",
        "colab_type": "code",
        "colab": {
          "base_uri": "https://localhost:8080/",
          "height": 34
        },
        "outputId": "0dbb957f-ef21-4885-f39f-d8f8f1c709c3"
      },
      "source": [
        "%cd FYP"
      ],
      "execution_count": 3,
      "outputs": [
        {
          "output_type": "stream",
          "text": [
            "/gdrive/My Drive/FYP\n"
          ],
          "name": "stdout"
        }
      ]
    },
    {
      "cell_type": "code",
      "metadata": {
        "id": "DP_px2dh1qK8",
        "colab_type": "code",
        "colab": {
          "base_uri": "https://localhost:8080/",
          "height": 424
        },
        "outputId": "4488bd16-4d3c-4a1f-969d-d8addc00ad9c"
      },
      "source": [
        "import pandas as pd\n",
        "tweets_df = pd.read_csv('HOT_dataset1.csv')\n",
        "tweets_df = tweets_df[['Label', 'Tweet']]\n",
        "tweets_df.head(100)"
      ],
      "execution_count": 4,
      "outputs": [
        {
          "output_type": "execute_result",
          "data": {
            "text/html": [
              "<div>\n",
              "<style scoped>\n",
              "    .dataframe tbody tr th:only-of-type {\n",
              "        vertical-align: middle;\n",
              "    }\n",
              "\n",
              "    .dataframe tbody tr th {\n",
              "        vertical-align: top;\n",
              "    }\n",
              "\n",
              "    .dataframe thead th {\n",
              "        text-align: right;\n",
              "    }\n",
              "</style>\n",
              "<table border=\"1\" class=\"dataframe\">\n",
              "  <thead>\n",
              "    <tr style=\"text-align: right;\">\n",
              "      <th></th>\n",
              "      <th>Label</th>\n",
              "      <th>Tweet</th>\n",
              "    </tr>\n",
              "  </thead>\n",
              "  <tbody>\n",
              "    <tr>\n",
              "      <th>0</th>\n",
              "      <td>0</td>\n",
              "      <td>@saud5683 @Mutayyab410 @shivang598 @Ranask35 @...</td>\n",
              "    </tr>\n",
              "    <tr>\n",
              "      <th>1</th>\n",
              "      <td>1</td>\n",
              "      <td>Banti hai empowered woman, feminism pe gyan pe...</td>\n",
              "    </tr>\n",
              "    <tr>\n",
              "      <th>2</th>\n",
              "      <td>1</td>\n",
              "      <td>RT @kim_jong_korea: @updatingwait @Acutereply ...</td>\n",
              "    </tr>\n",
              "    <tr>\n",
              "      <th>3</th>\n",
              "      <td>1</td>\n",
              "      <td>@InviSibleSold @mabkhan86 @dridadahn Punjab in...</td>\n",
              "    </tr>\n",
              "    <tr>\n",
              "      <th>4</th>\n",
              "      <td>1</td>\n",
              "      <td>RT @MrMonsterSaid: Agar koi bole ki ja ke chil...</td>\n",
              "    </tr>\n",
              "    <tr>\n",
              "      <th>...</th>\n",
              "      <td>...</td>\n",
              "      <td>...</td>\n",
              "    </tr>\n",
              "    <tr>\n",
              "      <th>95</th>\n",
              "      <td>1</td>\n",
              "      <td>Anushka: baby tum mujhe shadi bad kis nam se b...</td>\n",
              "    </tr>\n",
              "    <tr>\n",
              "      <th>96</th>\n",
              "      <td>1</td>\n",
              "      <td>@AvijitEmmi Bahenchod .... experienced lagte h...</td>\n",
              "    </tr>\n",
              "    <tr>\n",
              "      <th>97</th>\n",
              "      <td>1</td>\n",
              "      <td>@behenchodabhay @sarita_beta @parvatikhan1 @sh...</td>\n",
              "    </tr>\n",
              "    <tr>\n",
              "      <th>98</th>\n",
              "      <td>1</td>\n",
              "      <td>Or koi gaali bhi nahi dega bahenchod\\xf0\\x9f\\x...</td>\n",
              "    </tr>\n",
              "    <tr>\n",
              "      <th>99</th>\n",
              "      <td>1</td>\n",
              "      <td>@Mehreenansari95 @ColorsTV @JJROCKXX @eyehinak...</td>\n",
              "    </tr>\n",
              "  </tbody>\n",
              "</table>\n",
              "<p>100 rows × 2 columns</p>\n",
              "</div>"
            ],
            "text/plain": [
              "    Label                                              Tweet\n",
              "0       0  @saud5683 @Mutayyab410 @shivang598 @Ranask35 @...\n",
              "1       1  Banti hai empowered woman, feminism pe gyan pe...\n",
              "2       1  RT @kim_jong_korea: @updatingwait @Acutereply ...\n",
              "3       1  @InviSibleSold @mabkhan86 @dridadahn Punjab in...\n",
              "4       1  RT @MrMonsterSaid: Agar koi bole ki ja ke chil...\n",
              "..    ...                                                ...\n",
              "95      1  Anushka: baby tum mujhe shadi bad kis nam se b...\n",
              "96      1  @AvijitEmmi Bahenchod .... experienced lagte h...\n",
              "97      1  @behenchodabhay @sarita_beta @parvatikhan1 @sh...\n",
              "98      1  Or koi gaali bhi nahi dega bahenchod\\xf0\\x9f\\x...\n",
              "99      1  @Mehreenansari95 @ColorsTV @JJROCKXX @eyehinak...\n",
              "\n",
              "[100 rows x 2 columns]"
            ]
          },
          "metadata": {
            "tags": []
          },
          "execution_count": 4
        }
      ]
    },
    {
      "cell_type": "markdown",
      "metadata": {
        "id": "h5qxxXHSEYln",
        "colab_type": "text"
      },
      "source": [
        "# **Data Preprocessing** "
      ]
    },
    {
      "cell_type": "markdown",
      "metadata": {
        "id": "GMYfzjidFFwr",
        "colab_type": "text"
      },
      "source": [
        "**Simple cleaning function to remove all irrelevant html tags, twitter mentions and retweets.**"
      ]
    },
    {
      "cell_type": "code",
      "metadata": {
        "id": "iTl3ZC7mGruh",
        "colab_type": "code",
        "colab": {}
      },
      "source": [
        "import re\n",
        "from bs4 import BeautifulSoup\n",
        "from nltk.tokenize import WordPunctTokenizer\n",
        "\n",
        "def tweet_cleaner_updated(text):\n",
        "\n",
        "    soup = BeautifulSoup(text, 'lxml')\n",
        "    souped = soup.get_text()\n",
        "\n",
        "    clean = re.sub(r'@\\S+|(https?://[^ ]+)|(RT)|(\\\\x[a-zA-z0-9]+)|(www.[^ ]+)','',souped)\n",
        "    clean_lower_case = clean.lower()\n",
        "    clean_letters_only = re.sub(\"[^a-zA-Z]\", \" \", clean_lower_case)\n",
        "  \n",
        "    #unnecessary white spaces may have been created due to cleaning\n",
        "    #Therefore it is necessary to tokenize the string and then join them together to eliminate extra spaces\n",
        "    tokenizer  = WordPunctTokenizer()\n",
        "    words = [x for x  in tokenizer.tokenize(clean_letters_only) if len(x) > 1]\n",
        "    return (\" \".join(words)).strip()"
      ],
      "execution_count": 5,
      "outputs": []
    },
    {
      "cell_type": "code",
      "metadata": {
        "id": "KYPKMMM0C7q2",
        "colab_type": "code",
        "colab": {
          "base_uri": "https://localhost:8080/",
          "height": 124
        },
        "outputId": "d07fd9a1-8f7a-4896-8202-766112cb6ff9"
      },
      "source": [
        "# cleaned_tweet is used to store the tweets after they have been cleaned\n",
        "cleaned_tweet = []\n",
        "for tweet in tweets_df['Tweet']:\n",
        "  cleaned_tweet.append(tweet_cleaner_updated(tweet))\n",
        "print(cleaned_tweet)"
      ],
      "execution_count": 6,
      "outputs": [
        {
          "output_type": "stream",
          "text": [
            "/usr/local/lib/python3.6/dist-packages/bs4/__init__.py:336: UserWarning: \"https://t.co/V9XtBDyp7x\" looks like a URL. Beautiful Soup is not an HTTP client. You should probably use an HTTP client like requests to get the document behind the URL, and feed that document to Beautiful Soup.\n",
            "  ' that document to Beautiful Soup.' % decoded_markup\n",
            "/usr/local/lib/python3.6/dist-packages/bs4/__init__.py:336: UserWarning: \"https://t.co/BvOJOfhHVj\" looks like a URL. Beautiful Soup is not an HTTP client. You should probably use an HTTP client like requests to get the document behind the URL, and feed that document to Beautiful Soup.\n",
            "  ' that document to Beautiful Soup.' % decoded_markup\n"
          ],
          "name": "stderr"
        },
        {
          "output_type": "stream",
          "text": [
            "['haa jaise tum bhi abhi', 'banti hai empowered woman feminism pe gyan pelti hai aur din bhar roti rehti hai pahle rona band kar madarchod', 'ab usko chhod mjse bat kr tera baap aa gya hai ab to ldki ko beech me la ra hai madarchod', 'punjab in madarchodon ko khila raha hai nokrian day raha hai aur yeh imran ma', 'agar koi bole ki ja ke chill maar to madarchod ki gand maar lene ka', 'main jutt punjabi hoon aur paka league madarchod imran ki punjab say nafrat clear hai', 'to bhosdike tere baap ka kya ja raha hai tu apna ghar dekh na madarchod', 'sunny leone bana ke chodege teri maa ko samjh me aaya madarchod neem ka patta kadva hai', 'pata nahi aise sanghi kutte ko bha', 'screw the law of the land if find this chutiya madarchod mulla will lynch him murder him cut into millions of pieces and ha', 'boy donated blood to his gf ntwo months later they broke up nboy mujhe mera khoon lauta de ngirl throw', 'bc madarchod south africa england main man of the match award le chuke', 'madarchod congresi or bjp dono ki sarkar bani baad me wade bhul gye rajasthan me hamri city tak singal', 'madarchod socialify wale log', 'madarchod kya hai yeh', 'kis madarchod ki he giri hui harkt', 'teri maa behan ko har rooj chood rahe hai tum khayal rakho warnna aise hi chudawati rahati hai madarchod', 'deewar superhit nai aaj ke time ke hisaab se atbb hai chutye dont compa', 'virat and anushka future kid nanushka mamma bolo beta mammaaaa nkid mm ma maa madarchod', 'madarchod brahmno se mafi mango', 'suwar ke bache madar chod teri maa ki chut me ghungru bajaunga madarchod bhar', 'fuck off chal bhag yahan se madarchod', 'teri maa ko our ben ko chudva sale benchod madarchod gabbar', 'ya bakrichod jyada ni uchal rhe bhosdi vale madarchod nbawasir shakal ki ye nand bhokti', 'kidhar chupe hai re madarchod peta wale gandu log', 'tu waha kya kar raha ha madarchod bahan lode kaha comarision kar raha ha tu kaha no ka madarchod', 'madarchod maar dalo', 'isme embarassing kya hai bey madarchod ahmedabad commissioner has not given permission to hold rall', 'madarchod musalman aaiysha aur wo hai', 'madarchod randi ke bache gali kisko de rha hai gand phar dunga bharve bhosrike aukat me reh', 'bollywoodians are madarchod ye to kai saalon se bata raha hoon main tum logon ko', 'cranko madarchod you unfollowed me tu dekh ab kya karta hun main', 'teri ammi ko chodne wala insaan hai ye icc kya pure world isko badhai dekha bc hat mulle madarchod', 'rafel deal rafel deal rafel deal tum madarchod congressio ke raj mai fighter deal kyu nahi hue chu', 'saniya must say you are most madarchod randi on twitter cum ki pyassi abtak na jane loundo ne', 'never donate to any madarchod hindu priests they are chors', 'you madarchod in screwed air india and still have audacity to question government kya khate ho aur kya sochte ho', 'is madarchod sajid khan ko jayvijay se kya problem khud ko to kuch aata ni uski performance ko bekar bolta', 'teri maaa ko kuttey se chudwaya tera suwar baaap tab jakar tu madarchod paida huwa randi ka aulaaad madarchod', 'ambani supporter madarchod mar ja', 'bhadva madarchod bhakt', 'ab usko chhod mjse bat kr tera baap aa gya hai ab to ldki ko beech me la ra hai madarch', 'teri ammi sath first inning virat khela tha tb tu paida hua aur tera abbu abhi us result ka gum mana rha madarchod', 'oh the madarchod liberal manjrekar retweeted bhadwa congress ka dalal', 'madarchod jalta hai mujhse', 'modi madarchod hai na maa ko khara kar diya note ki line yr old maa modi is harami chutiya pm', 'teri ammi free ki raandi thi madarchod tu free ka thinker paida huwa free mey hi randi devil ko chod', 'kutte jite nahi madarchod dusro ko bhi nahi jeene deti', 'teri maa ka bhosra bharve ki aulad madarchod aukat me rahe nahi gand phar dunga bharve', 'abe madarchod bhagode multi starrer ese to daava me naseer ka equal', 'madarchod kya chahta hai', 'kis madarchod ki he giri hui harkt', 'madarchod shilpa randi rona band kar', 'madarchod bhenchod bsdk bhikhari jihadi porkistani aab theek', 'abe chup chutye ye to congress bhi kar sakti thi madarchod ahmedabad me aake marunga apna kam kar', 'bhag madarchod', 'bhak machod mullo ke abbu', 'bhadwe ki aulad ho tum sale madarchod ki wajah se ye zait failta hai hindu muslim ka bhen ke', 'madarchod why did your mom meet in gb road and get screwed by her', 'kyu ki ye tere bap ka nay hai tweeter madarchod bhosdike teri ma hogi zopdi wali bhen ke lode nikal yaha', 'terrorist madarchod humse baat karta hai', 'madarchod he saala', 'randi ki beti madarchod baaap se chuda moti bhains', 'madarchod chutiya tum ho sale', 'katra hotel owners madarchod hote hain', 'teri ammi ko se chudwa madarchod minus minus plus hota hai dimaag thikaney aajaye kahi', 'narad muni hai madarchod', 'madarchod karamfoot gaandu father of congress', 'abe behsaram madarchod madarjaat tu abhi tak mara nahi tu to suiside karne waala tha kutte harami madarchoddddddddddddddd', 'when any virtue signalling chutiya comes to your tl grab his collar and say they are not playing by any rules saala baap ko sikhata hai fucki', 'sab madarchod neta hai sb', 'arrey madarchod ky bacchey terko inko congrates karney ka time hain but ek tweet kar', 'chal is baat me tu zaira waseem ki tatti kha le hutiye warna ek baa', 'madarchod teri kon sunega', 'teri maa randi madarchod saale pakistani', 'madarchod tera ghar ka nahi khati hai voh chutiye', 'agree with you behanchod madarchod log bhosdi wali log gali se hi baat smjjhane kaa', 'madarchod choro hindustan chodo', 'madarchod tum vote ke liye apne bet tak ki dalali kar sake ho', 'tu madarchod haii dosti ke namm par sala dhoka deta hai', 'madarchod fawad ko toh try ball khelaya gya tha usey hi tum log first inning samjh liye grow up morons bhabhi se', 'ye bahenchod achhe khase lund ko bekar karenge itna bada risk le rahe hain', 'kya zindagi yaar bahenchod ndimag khrb ng sb sb ngood night', 'ladke wale kya karti hai aapki beti nladki papa twitter par logo ko bahenchod bolkar gender equality me apna yogdan', 'kya zindagi yaar bahenchod ndimag khrb ng sb sb ngood night', 'abe bahenchod kuch to sharam kar san be dekha hai fixedwinnershilpa', 'hny time pe kamaya tha maine is baar payment nahi de rahe hai', 'ache se dekh le bahenchod', 'madarchod log nbahenchod log nrat ko motorbike me se petrol nchurane wale log', 'bahenchod why getting lots of ad in your wynk music app pure mood ki maa behen kr dete', 'they don know there is word called bahenchod', 'acha reply diya ladkiya khe rahi bahenchod jab itna normal hai to maal khe diya to kya galat maal', 'bahenchod aaukad mein rah', 'friend bhai me apne bete ka kya naam rakhu jo sabki zubaan pe rahe nme bahenchod rakh de', 'idiot what fuck ur fucking human rights watch watching in baluchistan motherfuckers shd close ur', 'anushka baby tum mujhe shadi bad kis nam se bulao gey nvirat bahenchod virushkawedding', 'bahenchod experienced lagte ho bhai bhot', 'bahenchod sale bra nahi mangege tere bahen ki chuchi masal', 'or koi gaali bhi nahi dega bahenchod', 'yeh dekho bahenchod ko fake id chala raha hai', 'chalo acha tumhare dost tumhare birthday ka countdown kar rahe nbut iska mtlb yeh thodi ki uska ss le tum story da', 'pata nahi aise sanghi kutte ko bha', 'anushka baby tum mujhe shadi bad kis nam se bulao gey nvirat bahenchod virushkawedding', 'bahenchod sale bra nahi mangege tere bahen ki chuchi masal kar sali ko ghutno par bithuga kutiya ba', 'are bhai apne bahen ka nhi banaya kya uska bhi bana ke dalna tha na bahenchod naale me paida hua kya', 'abe bahenchod kuch to sharam kar san be dekha hai fixedwinnershilpa', 'friend bhai me apne bete ka kya naam rakhu jo sabki zubaan pe rahe nme bahenchod rakh de', 'bahenchod this is the saddest thing girl ready to do anything to help guy sleep', 'bahenchod saal tk apni maa chudwa rahe the tum log', 'maadarchod tu dusaro ko chhod tujhe gandhi family ka aisho aaram mil raha hai bahenchod dusaro ki fik', 'bahenchod laal chaddi goons', 'badir just announced their funding statistics for their emerging startups in saudi arabia news tech', 'saala bhadva chandi ke mukut dene waley ki shaadi me hi jata hai isliye log ko pata', 'bhadve ne teri bhadva giri sabko bata di shame', 'neem ka pta kadva hai karan patel bhadva hai abbe chaman chuti apni izzat kyu utarvane pr tulla hai', 'bhadva jnta party nbjp nhi nsale kutto', 'lukachut bhadva', 'aese bhadva logo ko mind me nahi leneka ae pakistan jake sarkar girane ko bolta tha ae dalal he', 'aamir khan the great bhadva immediately started speaking when jihadi zaira got touched but he never speaks for hindus', 'tu up bihar ka bhadva hoga jise gujarati me kadva kehete he ab to sa', 'pakistan bhadva hai', 'bhadvas started to bark aap the great bhadva party', 'haa tu rahul ka ghu khata hai npata hai sab ko ngandi nali ka kida bhadva', 'kickout arshi chhinal and vikas bhadva', 'large number mein ayengey to bjp ko vote karengey aur is se ki gaand nahi', 'hindi nai aati to ma ch vane aaya he politics me sala bhadva samjate pappu tere perie ko', 'aur chatne wale ko kutta chatukar nbhakt hai to sahi kam se kam dalal bhadva kutta', 'aur wo bhadva hai lalu prasad nsaala ko thappad maar ke theek karo', 'that fellow tiwari must be getting part of the loot from', 'to for sal tak kya kiya jo ab bevakuf banane nikala hai murkh bhadva', 'abe bhadva kanhiya kutte gaddar sale pakistani kutta dalla', 're mania tuh nich hai modisahab ko laker teri gaand main jalan ho rahi hai', 'kapil sibbal ko border pe ulta latka itne chhed kare ki uski randi maa pehchan na sak', 'sorry agar me kuch gali likh du to kyuki mera hindi thoda poor he bhadva chutiya gujarati ko gali deta he', 'bhadva havaskhor dec baad tu gujrat me dikh nhi payega dekh lena kahi muh chupa pada hoga bhadva harpik havsakhor', 'bhadva aiyar', 'bhadva madarchod bhakt', 'sorry chakkichods forgot to add bhadva owaisi count him too', 'bhadva', 'aano pan javab aapi de bhadva pavaya', 'abe tu dallal hai sale bhadva hai tu congress ka gandu manishankar', 'congress ka bhadva he tu madrchod', 'neem ka pta kadva hai karan patel bhadva hai abbe chaman chuti apni izzat kyu utarvane pr tulla hai', 'randi chodne wala bhadva aagaya', 'aur yeh nikla paki bhadva hindu naam istamal karte hue abey katve', 'bhadva vo khali tu hay tihar ki tyari kar baki sara india safe hay tune life me ek hi kam achha ki', 'anurag bhadva rahul tera baap hai', 'ye bhadva miljaye uski maa chod du', 'pmsupariattack nsach kadva hai manishanker aiyyer pakistan ka bhadva hai nsorry don know hindi or any other language', 'bhadva congress', 'jhatu hai saala bhadva', 'tu bhadva he bilkul tujme dimaag nhi', 'alfaz hai mera kadva', 'he does not have guts in his balls he is loud mouth creater of stories fake cds and what not he', 'michael oliver mkc teri bhen ke lode gandu sala chutmarika bhadva', 'yes muslimo ki gand hindu jab marenge to ye harami owaisi hi uske liye jimmdar hoga ya', 'it is the mindset issue congress wants to induct aap leader sangeeta chandpa recently sh', 'this bhadva jantha party is appreciating person who brutally killed poor citizen', 'abe ye tere ko bhadva bol raha hai mar sale ko', 'ye bhadva ladkiyo ko dhamkata gake ss bnata jo isse pat nhi rhi', 'manishankaraiyar sala bhadva gujarati ko gali deta he chutiya', 'aur ka ek aur bhosdika bhadva apna suar gaand mukh se bola', 'loda madarchod pikina bhadva', 'he is such bhadva', 'ki ye bhadva', 'that fellow tiwari must be getting part of the loot from the', 'modi ko gali dene walo aab jake pata chala ki hardik aek bhadva he wo', 'sala bhadva chutiya gujarati ko gali deta he sorry yar mera hindi thoda poor he', 'kanoon ka badnaam bhadva kal bakchodi raha tha wo sunni board ka wakeel nahin nrep', 'kaye ko gaali de usko chodthe allah ke upar ye musalmano', 'manishankaraiyar sala bhadva gujarati ko gali deta he chutiya', 'kya dallo ab ye bhadva desh ka sanman kar raha he', 'khujli bhikhari tatte jhantu ka reporter liar aur jhantu aadmi party news rndtv ko chhodkr kabhi', 'sorry agar me kuch gali likh du to mera hindi thoda poor he bhadva chutiya ki aulad gujarati ko gali deta he', 'bhadva jnta party nbjp nhi nsale kutto', 'vo sub congress ke bhadve hay to zakir ka bhadva hay dhede bhegiye saf karte hay chunav nahi ladke', 'apna dekh na dogle nsher ke ghar bhadva paida hua hai nhindutva wali party modi virodh', 'sarkar ke rs study karne vala aj congress ke kuch feke huve tukde pe mujra karne vala bhadva he kanaya', 'you are the ugliest hole one can have chutye marja tere bap ne guma kiya tuje peda karke bhadva kahin ka', 'modi that up wala bhadva mp whats his name that maha chu', 'bhadva ye', 'neem ka patta kadva hai nmourinho saala bhadva hai nsatan lost we celebrate', 'or vo bhadva kejriwal pig ki tatti khane wala or aaprtars uski kkame wale', 'tu bhotnike ntera baap bhootnika nteri maa bhootnike ntera pura khandan bhootnika', 'hahaha bhag gaya bhootnika', 'muh khol chinaal', 'muh khol chinaal', 'hate her like anything she is the bighest chinaal of all time', 'ooohhh yes meri randi kuttiyaaa salliii hraaaamkhorrrr chinaal', 'saali chinaal chut maari ki randiii kutti le mera lund zoro me randiiiii', 'mulle ke kale lund ki diwani hui mummy mulle ne maa ko chod chod ke chinaal bna diya', 'mai kehe raha hu agar gaand me dum hai to unke beech me bolega tera joota mera sir teri maa chodke ha', 'bhai kya main is randi zara khan randi ko aur na', 'randi sali chinaal', 'chinaal chodi pane mat kar bkl', 'randi pille teri maa behen ko kothe pe bech aaya hu ab', 'sant rampalji maharaj ke anmool vachan dekiye shadna chinaal par se', 'ayesha fatima rss ke office ki chinaal', 'oohhh really meri kuttiyaa sali hraamzaddi randi kamini chinaal', 'is chinaal ko italy bhejo pehle', 'apni is chinaal behan ko lund pr latka kr iski gaand chodugaa nuchaal uchaal kr', 'randi woh nahi teri maa hai mast chudwaa gayi thi us raat ko mere se tab jaake tu paida huva mer', 'meri randi patni sara ko chinaal bana ker chod rahen ussi ke bhai dost imr pheche se chodra', 'dekiye sant rampalji maharaj ke anmool vachan shadna chinaal par se', 'logo ne teri maa ki chut ka seal toda tha tab', 'chinaal merchant apply burnol', 'meri randi patni sara mere office ke ek black colleague ka lund chusne ke baad chinaal ki', 'fake account chinaal', 'aaja randi ladke papa se fadda karega block mat karna ter', 'meri randi patni sara jesse bhi chudati hai uski essa feeling deti hai jesse ke wo uski rakhel ho apni cousin ke', 'bandar ka gaand bhi tere se accha dikhta hai madarchod red', 'vo teri gaand chategi or tu raand haan chinaal tu saali bhen ki lodi mera la', 'sikh lungi chinaal maa to khud rand', 'chadhugaa hi raand meri betichod ki aulaad saali aahhh nmast chut chinaal teri', 'randi chinaal nisse bhi koi gandi gaali hai iss aurat ke liye', 'ab teri ma chinaal hai to usko wahich bolenge baap bhadwa hai to usko bhi wahich bolenge to mm to nup', 'meri randi patni sara ko chinaal bana ker chod rahen ussi ke bhai dost imr pheche se cho', 'abey randi pille teri maa ki chut mein kutte ka lawra daa', 'bhosode airtel behnchod ki offer dikhata hai khud gaand nhi hai chutiya ulimited tatti', 'tera maa ka bhosda naa ban jaaye dhyaan rakhiyo chinaal ke', 'bohsdi ke apni chinaal ma aur bhadwe baap ko bhi ladwa deta beech mein kis gutter ka critic hai tu mayeove', 'teri ma chinaal mc bachhe', 'pm follows people who say rape kar denge randi chinaal acha hua marr gayi kutiya the word neech is troubling', 'aaj mene fir jazbaat bheje aaj tumne fir alfaz hi samjhe piyush mishra toh gazab ka talent nbaaki rahi baat por', 'pm follows people who say rape kar denge randi chinaal acha hua marr gayi kutiya the wor', 'mai or meri khubsurat randi ek dusray ko piyaar kartay huwa sali chinaal meri lund ki shuhagan jab tak', 'taqid mere dost meri randi patni sara ko kuttiya bana ker pheche se chod raha or uski', 'chinaal how can khichdi be tasty without non veg', 'pm follows people who say rape kar denge randi chinaal acha hua marr gayi kutiya the word neech is', 'saali lund khao chinaal hehe', 'dekh meri raaand kese kake lund pr uchal rhi tu bhen ki lodi ghasti chinaal', 'taqid meri randiwife sara ko chod raha tha tabhi uski chinaal patni hamna aagai lekin wo phi', 'chinaal tu raandi hai mein tujhe ruka sakta hu par tu mujhe nhi', 'chinaal where were you when senior citizens were killed due to demonetisation', 'meri randi patni sara porn dekhte huwe mera intezar me thi or meine apne dost taqid ko bh', 'chinaal ke ruk to jaa choot marani ke raand ke', 'sant rampalji maharaj ke anmool vachan dekiye shadna chinaal par se', 'sant rampalji maharaj ke anmool vachan dekiye shadna chinaal par se', 'raaand saali nchinaal hi tu bhi', 'meri randi patni sara porn dekhte huwe mera intezar me thi or meine apne dost taqid ko bheja', 'aapne to chinaal ko bhi peeche chorh diya', 'salgay fans calling her randi chinaal on her wedding day dhobi fans trolling yuvi on his birthday what type of madarchod', 'teri maa saali chinaal hain lund ko aise chodti hain ke pyaar ho jaata hain', 'tere lund bhuki hai saali chinaal kuttiya peshaab pine ko tayaar tera', 'pm follows people who say rape kar denge randi chinaal acha hua marr gayi kutiya the wo', 'to khaaja bhenchod saali chinaal naahhhh chussti mast tuu', 'abey lund ke tope chinaal ki aulad teri behn ki chut mai hathi ka lu', 'if you were incapable to maintain the time you change the train timing but you chutiyas are making us chutia', 'bc itna drama public ko chutia banane ke liye hai', 'isse air ek baat sabit hota hai ki tumlog pakistan ke saath ho public ko chutia banana band kar haramkhor', 'once chutia always be chutia', 'chutia', 'yeh chutia tha hai aur rehega', 'teri behan di siri angraizon kai kuttai tu terai aaqa aor unki gandi aolad jo saara', 'abey chutia auraat mana paisa boht maine rkhta kam se kam spirituality ka dhong kar rhi toh bha', 'sambit patra kya aap gobar khake aedhe kya jo aap bata rah hai modi desh bab hai nchutia sambit pat', 'congresspresidentrahulgandhi nhahahah ny toh wahi hogya jaise hafeez syeed beta atankwadi hi banega nwaise ga', 'madharchod chutiya issh tellychakkar ko unfollow kro yar faltu news post krta hai ye chutia', 'wait for dec th pappu tu hi flop ho jayega chutia rahul gandhi ha ha ha', 'no matter how good the newpaper talking you will still find chutia mantri doing chutiyapa', 'ye dangu chahta bhi yahi hai ki log isko reply kare is sale ko sab unfollow kar do chutia banda', 'hina expressions aise chutia chup teri aukaat pata minutes ka', 'google krka books dhoondho chutia tu nai hogia', 'tharki budda tum bhi ik wali rawish py chal rahay ho mai samjha tum shyd sirf zuban he chutia ho', 'congrss chutia ke pass iska koi jabab nahi hai inlogo chutiyagiri ke siba aur kuch nahi', 'chutia colloquially quoting manish tewari and diggy raja is the only word suitable for this guy wonder where pap', 'awaam to chutia hi ho gae hai unki shadi ko ly kr', 'aur agr chutia ho to modi jaisa', 'vikas is chutia too know', 'chutia log hahahahahaaha', 'chutia stooges', 'chutia log pehle sikh le ja marathi shilpa piche pad jaate ab maa ko bhi ni chhoda', 'chutia', 'chutia ias tha wo', 'reech nahi neech hai vo ndesh ha chutia kaat raah hai jo', 'chutia frog theek rehega', 'india deta leni to usy atii hi nahi nchutia', 'chutia khud school gya nhi aur baccho ko pda rha hai murkh hai', 'aby ye kon hy chutia', 'sambit patra kya aap gobar khake aedhe kya jo aap bata rah hai modi desh ba', 'vikas is chutia too know', 'chutia he kya ye ldki kch bol do bs', 'who is this chutia', 'chutia spokies pimps worst than pig soch debating on media dera secret meating by gaddar peem amp', 'is chutia ko kisne banaya hai leader and anchor desh ko lootne wale', 'ache din chutia sardar found his tounge traitors should be shot dead', 'chutia of year award goes to mukul singh', 'modi ka dusman pakistan kewal election ke liye hai public ko chutia banana hai badd me dost dono', 'chutia comunist aur srcular logo abhi bhi samajh me nahi ayega', 'chutia public to be blamed', 'nawaj sarif kay tumahare or modi ke giga lagate hai sadi me chale gaye chutia', 'chutia', 'member of chutia brigade forgot sikh massacre of', 'haan sarim chutia ko barbaad kar bas', 'chutia spotted', 'chutia colloquially quoting manish tewari and diggy raja is the only word suitable for this guy wonder where pappu finds', 'first congress told no such meeting with pak and china authority but came and later we had meeti', 'tu to hy chutia', 'congrss chutia ke pass iska koi jabab nahi hai inlogo chutiyagiri ke siba aur kuch nahi aata hai', 'how long modisarkar bear chutia bjp yashwantsinha defends mani shankar aiyar calls pakistan conspiracy allegation absurd', 'tax chori kar ke govt ok bahut din chutia banaya ab raste me aa gaye sab chor log papu brigade bana', 'chutia had not seen empty vote in delhi have not feel ashamed', 'apki debates dekhi apse bada chutia nahi dekha ajtak', 'oho chutia', 'he is both chutia amp', 'chutia', 'kt gya chutia', 'chutia bna gya is qaum ko wo bhi jo is iq sath', 'sirji bahut bahut bahut badi chutia picture banai kaun tha banaane wala bada waisey', 'or sun itna chutia chutia chilla rahe ho sari duniya chut se ni', 'chutia', 'chutia raghu', 'chatur means clever that am but chutia means stupid that what you all are', 'awaam to chutia hi ho gae hai unki shadi ko ly kr', 'chup kar chutia', 'chutia asked one question what your mother and shindi was doing in front of iit is protection used', 'kanhaiyakumar agar tu yeh padh raha hai toh sun be chutia tu jaha bol im ready to debate wid and terese bhi jyaa', 'are gb road mai pada huye randi ke beto ke londo', 'hahahahah tere gay tatte di ma nu spider man banke building to latka le lun', 'omg you have to see this bigolive gt', 'omg you have to see this bigolive gt', 'tu kia ghasti aurto ki trhn dosrou tweets py mazy lay rha lun sir', 'taryi ghasti behen ko chodon sarya padal haj tum ny he kiya houya hyan tarya barya mea log batatya hya', 'aajaa bhen ki lodi ghasti raand teraa muhh chodne me mazza aayga', 'car me masti ban ghasti', 'is behan ki lodi ghasti ko kal rs me iske ghar me choda hai sali ko gaand marane ka bahut sauk hai', 'ishatehari now becoming ghasti but not allowed to travel pakistan', 'ghasti ko sikha deti', 'abay ghasti ma lun tawaif khandan apni maa ko bhaijday aisa mufta milayga', 'abe dheele lund ki paidaishhh hina hi jitegi teri ghasti shilpa waise hi', 'taryi behen ki phudi kutti ki olad tum behen ky lorya mna ki seat nai ly sakhtya aour ns coror', 'dekh bhen ki lodi ghasti raand kese lund pr uchalti', 'vikas tere bhosde ka ho raha hai ghasti', 'too khaajaa ise meri ghasti raand', 'dono maa beti ghasti hain just bc', 'aahhh ohhh yeahhh meri ghasti raand', 'dusra da ni pata par teri ghasti maa nu ta kadke lun marnaaa', 'oye ghasti ma lun kisi khusri bachay when the adalat had iftikhar chaudry were behind that corru', 'just want to say you just one word ghasti', 'omg you have to see this bigolive gt', 'sali bina bra kay doodh tum dikhati ho duniya ko aur kehri ho kay harras karta hai ghasti ko ha', 'my imo num kinjri wife ghasti and randiyo lye mera lulla avail now on the video call jo koye ap', 'mast chudakar ghasti hoti hi sardariya sali tight khpro me chuchi tani hui rakhti hi ha', 'boys and girls be aware this bastard iski baaton se aisa lag raha ye apni amma ko bhi sasti ghasti bulata hai', 'loorrraa bc chor ka bacha ghasti chup kr', 'omg you have to see this bigolive gt', 'aa gyi sabse badi ghasti raand', 'omg you have to see this bigolive gt', 'dekh meri raaand kese kake lund pr uchal rhi tu bhen ki lodi ghasti chinaal', 'choro ghasti ko', 'to uchal na bhen ki lodi ghasti raand mere laude pr', 'are bhai bhai bhai napni ma ko ghasti keh rha ha', 'are gb road mai pada huye randi ke beto ke londo', 'ghasti maa ka kanjr beta', 'ye kia ghasti bndi hy', 'perfect ghasti', 'ghasti', 'taryi maa ka phuda houa hy ghasti ki olad', 'isi liye to tere muhh me fasata hu me meri ghasti raand', 'aahhhh chuss le ise meri ghasti betichod ki aulaad', 'ghasti ye jo tumhary nechy garami hai na ye us ka asar hai khan nai danda dia nahi bechara de hi det', 'omg you have to see this bigolive gt', 'fatto gaand baal ghasti behnchod', 'omg you have to see this bigolive gt', 'boys and girls be aware this bastard iski baaton se aisa lag raha ye apni amma ko bhi sasti ghasti bulata', 'stop fucking bitch bc jis mulk ka khati usi ki army pr bhonkti kuti ghasti', 'choos mera lora ghasti kay bachay', 'khoti ke bachay lalazar rawalpindi gas nhn hai kisi ghasti ke bachay', 'lol the best story sir please provide us the mushroom details will try to setup res', 'thank you for calling me genius nnahi samjhege hai wo hame nto kya jaata hai nab tu chutiya hai nniche khade', 'main kisi ka member nhi nsab parties chutiya hai main sirf amit shah ka fan hu', 'not an indian seaplane and certainly not gujrati pilot now understand that gujratmodel is electio', 'chutiya vivek', 'abe chutiya tum ko kya dikkat hai', 'ye dekho chutiya', 'agar aap chutiya public dekhna chahte hai nto aaiye aaiye dekhiye sab vikassachdeva support mai hai woh sab sab bhadhuwe hai', 'chutiya bc', 'imagine virushka just be like chutiya banayaaaa', 'yeh kaunsa chutiya hain', 'modi madarchod hai na maa ko khara kar diya note ki line yr old maa modi is harami chutiya pm', 'one pappu talks of aloo the other of mushrooms chutiya banana inse sekha', 'the most worst thing in my life is nfacebook memories nwhenever use to login nfb memories be like nye dekh chutiya tha tu', 'chutiya hogai hy', 'chutiya nmaha hutiya nvarun fans nalpesh thakor', 'gujraat wale teri tarah chutiya nhi nation first fuck all muslims', 'virushkakishadi nye log ke photos to ese post kar rahe he log jese personally attend karke khud photos click kiye he nbc chutiya public', 'mann to ho raha hai wo mushroom wale ko bolu abe chutiya hai kya kya kuch bhi bol raha hai', 'me to my friend mosam acha ho ya bura tu chutiya hi rahega', 'ak to chutiya', 'yeh toh vaakai mein aaptard nikla matlab chutiya', 'uffff waaaah chutiya admi kya baat ki hai wow meii tou fan hogya hun messi ka abbb ufff kya khelta ha', 'what chutiya this alpeshthakore is kahan se laye is namune bc ko', 'ye chutiya abhi jinda hai mujhe to lag raha tha sharm se chullu bhar pani me mar chuka hoga leave the', 'there are three types of chutiya people chutiye maha chutiye apni selfie pe its me caption dalne wale ghanghor chu', 'chutiya', 'chutiya ye bjp vale siyasi fayde ke liye jab ram mandir par congress ki ray mangte hai tab', 'chutiya ho kya bc tum kbhi ek baat par tik nhi sakte baad mai bol dena mai shi nikla mai predic', 'refrain from using word like chutiya but you deserve it only because of this chutiyapah people hate aap', 'chutiya alert repeat chutiya alert', 'show me bigger chutiya than ngujarat ye dekh', 'one word for this guy chutiya', 'stop stalking me chutiya', 'chutiya ho ka bey have some brains', 'chutiya', 'last year they were like spyder gonna release so wished now don say he wished for', 'chup chutiya', 'chutiya saala', 'chutiya hai bjp mcd bhagti hai choro ki tarah apni jimmedari se', 'chutiya', 'chutiya insan xaala', 'last year they were like spyder gonna release so wished now don say he wish', 'three chutiya', 'bhai chutiya hai isko dhyan do', 'after explosion chutiya that how', 'love dhoni but some dhoni fans are chutiya', 'friend aj se kisy bary mein ghalat nahi boleingy nme han yar see boy with sunglasses in mall nboth wo', 'lol barely stopped laughing no wonder rahul found his soul mate in this super chutiya aples thakor', 'example of certified qualified chutiya be like', 'aaptard chutiya chutiya mushroom', 'chutiya', 'show me bigger chutiya than ngujarat ye dekh', 'goyel ji aap chutiya ho deshbhakt nhi', 'chutiya', 'messi was in his peak when he missed the penalty against chutiya apne club ka kuch nhi pta tjhe', 'when shayar finds true love finally ntumko dekha toh ye khayaal aaya nfizul mein hi yaha waha humne apna chutiya katwa', 'aur ye log bolte hai vikas ho rha hai bc india ke culture ki maa bhen ek kr di hai nnamo namo namo ane chutiya bano', 'are bhai hum marathi hai hame chutiya me mat nikal ki usaki ma kya boli', 'teri maa ki bo jaban sambal ke bat kar chutiya ye meri hi id or wo rprajput meri id nahi bhosdike', 'chutiya gaye hain saare ye shilpa ke peeche kuch bhi bol rhe hain inke liye ba', 'bastard comparing aghori sadhus with isis nchutiya spotted', 'sir ap akhand chutiya ho', 'most chutiya fans of msd', 'lol when pidi can defeat me by words logic despite continuously abusing', 'natakani hai bro chutiya log', 'example of certified qualified chutiya be like', 'rajneeti me aate hi chutiya suru kuch bhi bol do abhi se hi dikh rha hai kya kroge aage gujrat me', 'bosdk tu jo shikhar dhawan ka lekar baitha hai itne salo se gawar chutiya insan aagaya mention me apni marvane tu bkl ht', 'chutiya kahi ka', 'anushka beta for nkid average na for nk bhenchod na for nk chutiya na for nk dalle nkohli great son vir', 'kejriwal chutiya banayenge', 'chutiya nmaha chutiya nroadies splitsvilla bigg boss ke participants', 'tm ko dhka to ek khayal aya jesa chutiya meriii life mee kesy aayaa', 'mam every one knows pro pak pro isis share islamic twitter page always stood for anti nati', 'refrain from using word like chutiya but you deserve it only because of this chutiyapah people hate', 'lol barely stopped laughing no wonder rahul found his soul mate in this super chutiya aples thakor', 'zara batao kis mushroom se twacha gori hoti hai chutiya banane ka dhanda hai bc battleforgujarat', 'chutiya country', 'sale chadarmod ghodefakeer insan tu chutiya bhopadike', 'chutiya gaye hain saare ye shilpa ke peeche kuch bhi bol rhe hain ink', 'tu waha kya kar raha ha madarchod bahan lode kaha comarision kar raha ha tu kaha no ka madarchod', 'is he born chutiya or pappu ka aashirwaad made him so', 'both husband wife are chutiya', 'hot guy ignoring me aisa bh kya bada aya smart enough ek date to banti iske sath nhot guy proposed me hehe', 'and you are chutiya trying to be funny', 'saale nmard kutta haraami dougla', '', 'dlt kar quote kar beghairat wahan jawab deta hun larki tag hai saath behuda haraami', 'dont ki english kamzoor thi to english movies dakhne ko kaha nharaami pata nhi konsi movies dakh li ab woh khud kamzoor', 'saaley haraami sarkaari karamchari log kaam material sab chahiye phir ghoos chahiye bill jaldi', 'charan aiyer sibal orpure madarjaat haraami kutte le dubbe ko', 'bhaiya kitne dekhen pat tere jaisa haraami nahi dekha', 'kajol rekha', 'punnesh saala bahut haraami hai nkya waahiyaad aadmi hai arshi aur akash ke saamne bolta hai ki haan shilpa to safe', 'shakal masoom or dimagh haraami ye naimat bhe ksi ksi naseeb hti ha', 'nhazrat iss haraami ka elaaj kren', 'haraami suna hai uska kuch nai pata', 'shut upppp haraami', 'sir nabsolutely correct nsultan is dumbo knit witted nfor him this phrase us th', 'such haraami team have', 'wow mubarak ho shrikant sharma kyuki haraami dougla ho', 'kisase namak haraami aur kisskase namak halali jiss thaali mein khana usi', 'abhi ro inko news me aana us chutiye ko koot kr ya kootwa kr news me aati na ladki bs tesuye bahana', 'if anyone giving me evil eye pls stop because assure you my life is mess and do not need ur help making it worse', 'aise kon troll karta hai pappu pidi', 'haraami apni aoukat pe aagayaa badmash', 'iss haraami ki age bhi dekh lo kutto nye kya hai', 'ujlay kapry achy khany nmehngy jotay oonchy ghar nkaaly dil mailay man nsastay shoq haraami log', 'tu hai kaun be bh ke nteri aukaat kya hai be saale mtv ke chuziye nmalishka', 'mere bhaiyo mein amu mein rights ke doran roz padha mere guru bhi muslim rahe aur unaki taalim ka mein', 'want snow day with hot chocolate ft the loml', 'aaj kal jo jitna zyada namak khata hai utni hi zyada namak haraami karta hai gujaratelection gujaratelection', 'ko bhi suspend karo aadmi ki degree farzi hai haraami ki aulaad ko phansi do', 'bhai report karo tootaram ke tweets ko block hojaayega haraami bahut si tweets haen usk', 'world biggest haraami muslims are in hydrabad who sell their young virgin girls to arabs to get rich that owaisi idiot can see this', 'haraami tere par suit karta hai', 'mobikwik haraami has stopped taking supercash for recharges ullu ke pathhe', 'haraami nbare haraami napne dosto ke pas beth ke janu ko call karne wale', 'would like to say yahan kya apni mc aaya tha haraami', 'kitne haraami hai hum pele ho bb', 'haraami betaa muhh zoor hote hai ye essne sabit kr diya', 'is haraami ki icha rahul ka jija banne ki hai bana do ise', 'haan ab toh udke dumchale modi ko sabka baap batate hain sal', 'anta hareem wa haraami saudimovietitles', 'very well said sabir sir lekin ye nooni haraami ko samaj nahi aye ga haraam ko kha', 'dost ki english kamzoor thi to english movies dekhne ko kaha nharaami na pata nahi konsi movies dekh li ab wo khud kamzoor', 'this is the same haraami media that asked if shivaji statue was important and look at their bastardly priorities', 'sorry mani shankar aiyer you were very wrong boss aise pm ko neech kisam ka nahi ekdum haraami kisam ka', 'no wonder you are behaving like moron your vote bank is stuck in th century arabia with barbaric', 'dekh swara tumhara ex hoga yeh haraami', 'yeh feku nkutta nkameena nmakkaar nharaamkhoor nnikamma njahil ngawaar nyeh sab me nahi kehta nwarna kuch haraami mujhe gali', 'what kind of gira hua haraami he is', 'han yeh haraami hai ek number ka koi badi baat nahi yeh he intention ho iska', 'had my nikkah in front of the kaabah and did umrah with my husband straight after and he still turned out to be piece of', 'aaj kal jo jitna zyada namak khata hai utni hi zyada namak haraami karta hai gujaratelection gujaratelection http', 'mere bhaiyo mein amu mein rights ke doran roz padha mere guru bhi muslim rahe aur unaki taalim ka mein example', 'all want for xmas is medium phat tiddies', 'to gandu jab ec ne bulaya tha to gaya kyon nahi apne haraami baap ki chaat raha tha', 'sza and dvsn chill weather', 'desh ke hai bure haalat nharaami bjp ko laat big evm hacks karle tumhe raasta', 'ap kanjar haraami ki beti hain', 'but saamne haraami friend khada ho to muh ko hi act karna padta hai woh bhi gaali se', 'women are too precious for this world', 'the year is you sit on the couch with your spouse your children play classic oldies music playlist fergilicious', 'tomorrow he will be jaunu shari hindu lol haraami hai saalei', 'best is witnessing current generation lahoriye kids having go at urdu in deliriously punjabi accent', 'ause haraami log bhi hain', 'want to send this to every haraami it type posh type butter won melt in my mouth type who tried to argue with', 'want to send this to every haraami it type posh type butter won melt in my mouth type who tried to argue with me abou', 'haraami', 'is baasu ki ma ka bhosda saala madharchod hai kis jagah ka ye bahan', 'haraami hai saala essa toto bandh hogaya part of sold media', 'pehle main boht seedha saadha tha phr ak din meri life main ak haraami ki entry hoe aur sab badal gaya', 'it doesn matter what else he does right if man does not offer emotional support he is useless read that twice', 'feku nneech nkutta nkameena nnikamma nharaamkhoor nharaami ngadha nnapunsak nyeh sab modi ji ke liye nahi bolna chahye ke wo pm hai nab jaisa bhi', 'inka khaandaan hi aisa he sir haraami', 'haraami', 'bhai jiyo gazab haraami piece bhai tu', 'im going to neck that taehyung anti spreading that false shit saali kamini kahiki bhenchod kutti chutiya haraami sab kiuch hai woh', 'kabhi ipl meh bhi aisa kheleta eoin morgan haraami', 'you know your bff is haraami when his am chats includes reminder of the girl who loved you amp', 'abey haraami', 'ab haraami ho gaye hain', 'didi yeh bollywood wale bade haraami hote hain nlekin inme inka dosh nahi hai nwe should stop making stupid people famous', 'haraami hai ye kameena', 'best is witnessing current generation lahoriye kids having go at urdu in deliriously punjabi accent aik tee', 'maarooo saaale ko haraami ko mil jaaye salaa ab', 'bjp ki nasl hi haraami hai', 'when tell you private life is happy life not lying people not knowing anything about me or my life is fucking con', 'zaani sharaabi haraami', 'but ur not haraami init', 'masha allah as usual this is music free dance free non mahram free and haraam free islamic pre school programme', '', 'making images is dangerous and haraam but the cunt himself is dancing in front of camera', 'jokin dat shit haraam', 'number auron atay hain jeeena hamara haraam hota', 'lol when you wear hijab ppl assume you either shout how dating is haraam or that you want really religious guy errrr', 'demonstrations are an innovation in the religion and they are haraam nsource', 'if guy tells you that he loves you ask him to make it halaal instead of going into haraam relationship phir dekhna kese bha', 'how do tell mother who supports her daughters haram relationship partially due to fears and concerns that it is still haraam', 'celebrities love marriage nwow marriage and love goals nnormal ppl love marriage nharaam intercaste marriage', 'chautarfa mahangai ne jeena haraam kiya hua hei pm growth rate ke peeche pade hue hein do saal se kagaj par mahangai kum kar khush hein', 'making images is dangerous and haraam but the cunt himself is dancing in front of camera', 'these need to be declared haraam because it has become gambling now this buble will burst and people will lose all their mo', '', 'these evangelists abuse hindu gods in open desecrate hindu idols molest kids', 'when kejri talked against surgical strike pakistan took dig at india haraam zaade', 'bina congress president elect huye hi aap ne bjp ki neend haraam kar di aur ab toh aap undisputed offic', 'so now are openly advocating for openly haraam relationships and referring to them as goals what happened to ja', 'bina congress president elect huye hi aap ne bjp ki neend haraam kar di aur ab toh aap undisputed official sei', 'sab haraam khor hain', 'never seen besharam haraam khor more than this man', 'harami ki aulad aa gaya na aukaat pe haraam ka jana congressi', 'it haraam to use condoms', 'criminalization of begging ritual means of income for hijra communities only limits options for already marginaliz', 'crore ka suit hawa ghoomne wala njhooth ka samunder nnawaz ki tatti chatne wala nhijra haramkhor ndesh drohi nlull ba', 'the hijra at work us taxpayers pay for our own demise wake up', 'modi jaise hijra ko follow karte ho', 'akher hijra se shadi kr lee', 'natural sex video images noods hijra pictur', 'naked girls innocent video of local hijra fucking with man', 'germany pakistani hijra invader migrant arrested for trying to blow up church in mannheim', 'hijra hain jaane do', 'mohammad bhi tha kya hijra', 'wake up and smell the hijra', 'amazing anal videos hijra fucking girl', 'pakistani hijra dj danch and stage shoo pakistani dance via', 'muslim refugees are seeking refuge in christian countries ask yourself why aren they seeking refuge in muslim countries nth', 'hijra', 'aise jaanvar exist hi nahi hone chaaheye', 'me whn retrns hm aftr long days nmom mera raja beta ghar aa gya nxt day nmom uth ja baj gye hai aalsi jaanvar room nhi hai ye teri', 'gandhi jaanvar', 'galat insaan se toh sahi jaanvar hi accha hai catperson', 'us neta ki fan hai aap ji', '', 'marvel jaanvar', 'mein se jaanvar hahaha type karte hue haste nhi hain', 'jaanvar ko mata pita kahna tumhare dharm me hai ye duniya jaanti hai', 'what is brkup it is that time when jaan becomes jaanvar and cuttiee becomes kutti', 'are bhai smriti ji bura maan jaengi aap modi ji ko jaanvar kese kah sakte he', 'to all the shitpians amp', 'aysay gandhee jaanvar ko shoot karna chahiye jaihind', 'jab insaan jaanvaro ka chaara kha skta hai to jaanvar insaano bed pe nahi reh sakte', 'human jaanvar ko iski baarime kuch nehi patha', 'aysay gandhee jaanvar ko shoot karna chahiye jaihind', 'jaanvar laal became pm after his daughter eloped with katuva this is difference', 'wah kya baat ye india insaan jo jaanvar se bekaar', 'aor rohit sardana kal bhi jaanvar tha aaj bhi jaanvar hai', 'wo tweet bhi delete kar bhaag gaya haha kasam se be daya aati hain tum logo maansik divaliyepan per', '', 'tum babasaheb ambedkar hogaya kya nsharm nahi at', 'khujliwal kutta se better hai', 'she so hot for that cock in her ass she can contain it', 'aaj tere ko mera lund se kutta ka tara pelunga aur bhi jor jor se jitna chahe chilla le meri jaan', 'have you ever checked your dna you ass hole comparing rss with isis kutta sala bc mc what rss did to yo', 'aap tere ko mera bahon main lekar khade ho kar chudai karta hu dekh aise tere ko kutta jaise aj chodun ga meri jaan', 'wo tweet bhi delete kar bhaag gaya haha kasam se be daya aati hain tum logo maansik dival', 'go to hell nu puppet nu paltu kutta', 'bjp ne iske kah ke lele ma party se nikkala na bhaw diya kutta bana diya', 'think iska koi maa behen nehi hay gatar me peyda huya hay gatar ka aulad iska parvarish bo', '', 'according to miss right chalu bahut ganda word hai nand kamina kutta nwo to mai mjak me bol rhi thi nfakina khan', 'ye sala pagla kutta hai yisko maa relation me lagti hamlog ko use kya rista sala kuta bila', 'pagal awara kutta', 'because he himself is strong contender to be declared as murderer of bb other contender includes kutta qati', 'congressi kutta', 'favourite animal except kutta askpuri', 'pure vegetarian hi modi tere jesa kutta nehi hain', 'hina kamina kutta saala nand this lady was targeting vikas yesterday just bcoz he called her chalu bb biggbo', 'just see how they have mention congress canidate as social political leader agar bjp ke le', 'attention lye allah bnay huyy insano pahly bandar kutta bolty ho or jab attention mil jatii tw public mai randi ro', 'chal ba kutta patel', 'khujali wala kutta', 'luv ka credit kutta vikas le jaayegaaa shitt gay', 'hinakhan called luvtyagi kaamina sala kutta she got offended when vikas called her chalu wow missgrace ni am feeling', 'mujhe lag hi raha tha kutta bhoka kesay nhi ye lo kutta firsay pagal hogaya', 'thank you for calling me genius nnahi samjhege hai wo hame nto kya jaata hai nab tu chutiya hai nniche khade', 'khujali wala kutta', 'bc kutta', 'just see how they have mention congress canidate as social political leader agar bjp ke leader ka kutt', 'banda kutta paal lay per billi na palay', 'saala kutta he', 'luv to hina kya karegi nhina kya karegi kuch zyada nahi ho raha tumhara nbahar milo tum mujhe nhina has problem wit', 'omg itna gussa ra hh is pgl kutta harami pr kabhi', 'bc kutta', 'jab larki kai samne kutta peeche par jaye', 'hina night before last don use the word chalu chalu is very bad word nhina last night kutta kamina', 'hina keliye chaalu bohut ganda word hai aur vo khud', 'aap ka kutta hajir hai mam', '', 'randi apne adat kabhi nahi badalti dear mmmmmm kutiya ki tarah apka pura lund chat rahi ho', 'meri chinaal kutiya isko roz chhodne ka maza hi alag hai', 'uffffffff hudashi hindu kutiya ko naye naye tarike se chodho to or maza deti hai', 'gonna tear that pussy badly kutiya ghhhaaabbbb ghhhhaaaabbbb', 'randi ko to bas ek hi kaam ata hai hehehe bas apse new new style se chud sakti hai yeh randi mmm kutiya ban kar chodogi apse', 'jihadi aurat khud kutiya jaisi ho to isme virat ka kya dosh hai', 'mulle kutiya ki chodayi', 'kutiya apnay muslim malik khilaon me apni choot geeli kr rahi or chuchian rubber ki tarah naram or sakht', 'koi bhi randi ka janma maderchod bengali kutiya randiya aur kutta nae bhokega inhe kya lena dena chokre se sab jh', 'pehle teri gaand maroonga baad me breakfast banavoonga mulli kutiya', 'ek dum mst gaand sali kutiya ki kutta bna kr iski gaand maruga', 'baji teri bohat kutiya wali ho gai hai', 'mao bhi kutiya ban kar chudogi apke lund se mmm', '', 'yes rand tere jism ka iki ik ang mera hai lund khor chudashi kutiya', 'kaisa sikar kya tum bhi kutiya ke jaise apni chut me kisi ka lund fasana chahti ho kya', 'tujhe kutiya bnakr chodneme maja ata hai saali mulli jor jorse chutado me jhatke de rha', 'meri paltu kutiya ha bas likhna janti ha chudna nahi', 'kutiya gashti raand teri chuchian masal masal kr tera jism baychain kr dun ga or teri chuchian rubbery ki tar', 'sali kutiya', 'beef jitna paisa mil jayega kutiya', '', 'aur sath may yeh bta do fatima jinnah kutiya thi ya jis nay yeh bt ki thi wo kutta tha', 'sali kutiya hypocrite jus fr publicity kuch karegi sssaallli', 'shaadi ke baad jiska katna hai uska to kat jaata chutiya hai nkisi ko mil jati satisavitri hai kisi ko mil jaati kutiya hai', 'begani shadi me kutiya diwani rhyme bhi kar rhaa hai', 'wo kutiya hum dono pe dore dalti hai', 'mani shankar ayyer tu nich teta pariwar nich kutiya ke pille', 'kutiya ban jao man chodta hon', 'sali kutiya khud kuchh bhi bolti he', 'hehehe sahi hai dear par mai woh kutiya ho jo lund ko chus chus kar sab lund ko pagal kar deti ho', 'meri mom sarita ll kal raat bahut chudi dono nelkar kutiya bana diya maaa ko', 'mmmmm apka lund mai kutiya ki tarah chus rahi ho mmmm', 'sali tu kutiya pal ke rkhi hui hai gand sunghte hue idhar aa jati hai to mai', 'kutiya', 'iski gand me bhi ungli dal ke dekh kutiya ki gand full gili milegi tujhe', 'tu kutiya', 'hina kutiya ko bhagao', 'bahut afsos ha onke liye bhi debate karye jise kutiya kr jla diya gya', 'sali ye kutiya kaun thi jo en bachi ko lekar ayi esko ragdo', 'apke lund ki malai mai kha jayogi aur for kutiya ki tarah apka lund chatogi', 'and once bandariya now has become kutiya', 'aja teri gand land maro sali kutiya bana kr choduga aj', 'maderjat sali mere lund ka pani piyegi moot bhi piyegi nahayegi bhi sali ko apni paltu kutiya ba', 'mughe bhi aisi kutiya banna hai', 'is chalu hina kutiya ko har jagah', 'mmmm app kyo kar rahe ho mere hote hoye mmmmm mai apka lund hand meh leti ho aur kutiya tarah chatna start karti ho', 'hey pussyitani kutiya', 'mao bhi kutiya ban kar chudogi apke lund se mmm', 'kaun sanskari kutiya mera muslim lund legi apni chut me', 'aja kutiya teri chuchian daba daba dudu nichod dun tera', 'kutiya kahi ki simple foto laga', 'wo kutiya hum dono pe dore dalti hai', 'mast chut hai teri kutiya', 'modi sala binbulaye pakistani jakar biriyani khaya aur avi chunaw main pakistan ko kosh raha hai ye sala nich kutiya hai', 'meri hslut randi ki asli aukat sali aise hi kutiya ban kar padi rahte hi hamare pairo hanari sewa karti hi apne', 'kutiya bna de tu mujhe randi fir na khna bewafa hun mai', 'ahhhhhh jor jor se pelo kutiya ko mmmmmmmmmm', 'iski gand me bhi ungli dal ke dekh kutiya ki gand full gili milegi tujhe', 'jyoti shekhawat kis kutiya ka naam sala ek post bhi iska hindustani sabhyata se juda nahi hai atankwadi kutiya', 'urdu mein bhi same hi meaning hai jo hindi mein hai it hina logic can say kutta kameena saala bu', 'mjhe lgta tha bb shyd galat kr rhe iske sa', 'aap din ke kitne mushroom khati hain roz ka mushroom khana padta hai gora hone ke liye', 'how smarter manmohan singh was is will be', 'is it saala party kidhar hai inside news is congis are still celebrating pappu coronation lets crash their', 'saala samaj nahi aa raha nnewsfeed hai ya nvirat anushka ki wedding album', 'kitna bhi joota maro saale ko bahut soovar type ka insaan hai mar ja saala', 'aiyar is traitor saala gaddhar sooli pe lagalo sale ko', 'koi saala dil de karib aunn dena nahi days to tzh', 'saala timeline hai ya virat anushka ki shaadi ki album', 'aur is gaadar party ko saala ithane pade likhe nlog support karate hai jaise ki siddu aur buddu manmohan singh', 'love mushrooms par ye saala wala aukat ke bahar hai', 'stonebwoy album out now listen here', 'modi father of the nation nsadhvi pragya mother of the nation nsmriti irani daughter of the nation nsambit patra', 'yeh saala chunky pandey ka statue kaun banaya maradona maradonainkolkata', 'virushkakishadi viratwedsanushka virushkawedding virushkakishaadi virushkakishadi virushkawedding video is', 'nautanki saala', 'vote ke liye saala kuchh bhi karega', 'pappu cant dance saala', 'khoski nkhoski wejho damper ae motercycle me takar kolae wasi motercycle sawar nojawan saala ibrahim kachhi faut', 'kaha tah kuch log kabi apko samaj nahee sakaty skmh namaluni corruption ke khalaf saala struggle mufadperast', 'how smarter manmohan singh was is wi', 'yeh saala chunky pandey ka statue kaun banaya maradona maradonainkolkata', 'foto mein pramod tiwari hai ye saala suar hai ek number ka gunda hai up east mein', 'saala timeline hai ya virat anushka ki shaadi ki album', 'dil apna nfeeling apni nsaala torr koi or jata hy', 'liked video sadi gali full song nautanki saala ayushmann khurrana pooja salvi', 'naraaz nahi tight hai saala', 'one thing is sure maunmohan is now exposed as very vile treacherous character jisko saal', 'khoski nke qareeb dumper ka motercycle ko takkar kaloi ka rehaishi saala ibrahim kachhi janbahaq lash civil hospital badin muntaqil', '', 'bhai kya offered koi god nhi hai koi exist nhi karta na bhagwan na allah na jes', 'saala news feed hai ya virat anushka ki wedding album', 'madarchod he saala', 'download eom epistles of mama album full', 'saala mujhe bohot kushi hori pata nahi but that smile says it all it has magic', 'even asap did same during ls mai karu to saala character dhila hai', 'sabhi itne lonely hai toh saala condoms itne bikte kaise hai', 'dramebaaz hai saala sympathy khau', 'gay saala', 'aur tu saala dianasaurs ki aulad abhi bhi muthi mar kar kam chla rha hai saale sikude chutiye chus', 'film guin foudou te saala via', 'inviting kasuri is obviously crime when not share any office with gov inviting isi to ask them', 'kya bhai yeh saala bhadva hai bhadava agar bhadavagiri nahi karega toh saala bhadva', 'nautanki saala', 'aesay bandar kohli ki aek din ki zindagi sher afridi ki saala zindagi say behtar hai', 'over acting ki dukaan hai saala', 'what tweet tanmay cant stop myslf modi big big fkn ashl srsly mean wh hs dng aubh uthk', 'there always bunch of irritating kids who run around the venue and you wonder yeh kisne apne bacchey chorr', 'modi father of the nation nsadhvi pragya mother of the nation nsmriti irani daughter of the nation nsambit patra', 'congresspresidentrahulgandhi seedhi baat congress ki ulti ginti chaalu pappu cant dance sa', 'ye to pappu ka bhi baap nikala saala ab fair and lovely waale pincher banayenge road side pe', 'nautanki saala', 'virushkawedding virushka nwhole instagram feed is full of virat and anuskha wedding photos and videos nsaala', 'tere litye hai kutte saala homo', 'modi is lucky to have this chutiya mandali as opposition saala public inke jeso ki rally mein ja ke vote modi ko de aati hai', 'saala kamina tu tho pyaa', 'marwaye ga saala', 'saala samajh hi nahi aa raha newsfeed hai ya anushka ki shaadi ka album', 'arey ye saala poora hi pagla gaya hai kya', 'congratulations to virat kohli and anushka sharma on their wedding they make beautiful amp', 'paka raha saala', '', 'saala dheemag ka batthi nahi jaltha hey kya', 'issi vikas gupta liye priyank st week evict hua tha saala doogla insaan chutiya gay', 'manyavar got free air time without spending penny italy ka gdp mein izaafa huya unke caterers aur bhangrawale paisa', 'hahaha even google thinks tera mulk hai saala', 'nahi february non holiday pe aati toh cr karti aur bb family movie', 'saala rahul naam mein hi khot hai most pappus', 'chutiya saala', 'hina kamina kutta saala nand this lady was targeting vikas yesterday just bcoz he called her chalu bb biggbo', 'hhhaha and then suddenly reality struck me was like saala kya rakha hai yaar shaadi mein', 'bhai fawaad ko karan johar chase lar chuka tha fawaad back gulley mein cricket khelta hai saala front pe aata hi nahin', 'suar ki aulad hai aamir saala aatankwadi hai ye', 'koi saala dil de karib aunn dena nahi days to tzh', 'arey bol kutti footage khati hai', 'uno what didnt appreciate enough', 'attachment se zyaada chutiya aur kutti cheez aur kuch nahi hain', 'tag yourselves phoo phoo karke laga kutti', 'sabse kutti cheez hai yeh duniya never trust anyone nobody loves came alone will go alone', 'but both are equally as good', 'zindagi kutti di bachi', 'koun dekhega hina ko movie pagal ho gye hai sal ki heroine', 'once areeb ne mje troll kia tha uske bd wo khud pachta raha thq kis kutti chz ko troll kr betha hu', 'my looks has gone for toss due to exam stuffs rexam badi kutti chiz hai days for tzh', 'that kutti moment', 'wow', 'woh kutti kamini bhi hai', 'koun dekhega hina ko movie pagal ho gye hai sal ki her', 'if you want it bad enough you ll work hard enough to get it', 'hammad kutti cheez hai', 'ek tweet karo mard zaat kutti hai phir tamasha daikho', 'no pain no gain', 'kutti', 'kutti choran naal rali hui hai', 'the spoon', 'tu apni maa ko chodta hai na madherchod kutti se pelwata hai apni behen ko', 'as low as kutti endearment', 'bari bari kutti cheezain dakhi hain zindage main jesi kutti cheez nahi dakhi kbhe', 'yehi baat sare apne sath wale kutti aur haramkhor media walo ko samjhaiye ki insaan naam se nhi kaam', 'anjana to tumhari kharidi hui kutti he aur tu jake bho bho karke aagaya hoga jhut me jhut ter', 'woi kutti kamini tenu dikha', 'fuck ur rite knob', 'today we have promised each other to be bound in love forever we are truly blessed to share the news with you this bea', 'and ran for the train this morning it felt like some jab we met shit', 'tujhe to kutti bana chodunga saali randi pakistan ki', 'super kutti', 'can just see the done ness on my face coz kept of taking pics of me', 'it has been forever since you won my family over over soover balorclubx balor', 'did she just gave me the mhmmm face soover', 'didn even notice this why was watching this hell yeah the boy made it on the network again', 'umm yea the days of hiding all that pervy crap is soover', 'did she just gave me the mhmmm face soover', 'soover', 'awwws no argument on the marriage because you have none muellertime is joke got nothing on trump rus', 'tum log tho soover ke auladh saale saare congress ke pille', 'virushka wedding facts nwhen kohli realize that fragrance of tatti is damn too high in india nso nto book', 'since we where talking bout vodka the other night this made me think of you', 'tatti kia kr rha hai tumhre sath', 'aap ne congress ki tatti khayi hai uska swad kaisa tha', 'bc tum pakistani suwar ko khana sufficient nhi', 'tatti', 'chal tu meri tatti kha seedha cm banega', 'ponderings of mahwish tatti', 'maut tatti aur mumbai mein traffic kabhi bhi kahin bhi kisi ko bhi aa sakti hai', 'although you intent on making sense of lingering mystery more for taurus', 'tatti krke barabr dho bhi lena', 'crore ka suit hawa ghoomne wala njhooth ka samunder nnawaz ki tatti chatne wala nhijra haramkhor ndesh drohi nlull ba', 'chutiya tu sake toilet banwa le ghar main twitter pe tatti mat kar', '', 'fuck tweet nikalte hi is', 'yeah right anything against this tatti government becomes propaganda how low can you get', 'you aren confused you know that zairawasim is at fault but our society can never accept tha', 'tu tatti kha congress or rahul baba ki', 'bhai tu tatti jaisa lagta', 'when you see tatti tweet posted on various pages with millions of followers just because the admin is that person', 'ye bhi bata do raga konsi color ki tatti karte hain you stupid woman', 'me in this world india is great pakistan tatti ka loda nme in mars incredible india pakistan hai hee jhaat ka', 'aagya tatti ka bhai teri shakal usey bhi gandi', 'bombay se ayi mujhe tatti', 'sale tu mogu ki tatti khata hai swad kaisa hai uska', 'chutiye million porkis open mein tatti karte hai', 'tatti movie fukrey returns', 'firing up my engine for the first time after an oil change always scares the living hell out of me', 'chal is baat me tu zaira waseem ki tatti kha le hutiye warna ek baa', 'abe chupp lode jyada tatti na faila twitter pe', 'maut tatti aur mumbai mein traffic kabhi bhi kahin bhi kisi ko bhi aa sakti hai', 'shukar hai aapne poora naam liya aur virushka nahi kaha virushka tatti sa lagta hai', 'tu kha le tatti tum bhukhi hogi baby mai tera kitna khayal rakhta hun', 'tatti', 'bhajpa walo ko condom gin na or tatti uthana kaam rah gya', 'sala itna tatti tweet kar ke bhi likes aur mil rahe hai', 'potty mouth is good thing it said only the most intelligent of people swear', 'when the other party continues the tirade lady will turn away take my leave of the potty mouthed woman', 'potty turns', 'years old almost potty trained time to discuss career options', 'you know got potty mouth and can tell you more synonims to that stuff such as posteri', 'galer enday potty tell phone their cloud native continuous integration delivery deploymen', 'kids potty training the things you should not do', 'how is outsourcing potty training any different from sending our children to school to learn to read and write etc hmmm', 'guys there two shih tzu puppies for sale nnot vaccinated npocket size npotty trained days old nprice negot', 'happy birthday potty', 'two things that need to be free world wide nsanitary towels nnappies ni can help for the natural course my body goe', 'klean paws indoor dog potty no torn potty pads keep paws dry protect floors easy', '', 'thank goodness planned on being awake in an hour but murphy has decided to wake me up every hour on the hour to go potty', 'why do british people love to overshare just had woman tell me about her struggle with potty training her year old', 'can wait for levi potty training and his morning routine so excited yass do this mama levi is very very smart', 'if ur checking twitter while ur on the potty', 'parents excuse my potty mouth', 'you bitches is my sons go sit on the potty', 'excuse my potty mouth', 'potty trained my kittens last night and one of them skitty got tired of being cat', 'pardon my potty mouth palutena but what in the fuck', 'happy birthday potty continue to share your talent and inspire everyone just keep on rocking pot', 'the rest are potty lol', 'excuse my potty mouth shut the fuck up', 'working on my potty mouth next year promise', 'excuse my potty mouth shut the fuck up', 'bahenchod saal tk apni maa chudwa rahe the tum log', 'bahenchod laal chaddi goons', 'madarchod log nbahenchod log nrat ko motorbike me se petrol nchurane wale log', 'acha reply diya ladkiya khe rahi bahenchod jab itna normal hai to maal khe diya to kya galat maal', 'pata nahi aise sanghi kutte ko bha', 'are bhai apne bahen ka nhi banaya kya uska bhi bana ke dalna tha na bahenchod naale me paida hua kya', 'friend bhai me apne bete ka kya naam rakhu jo sabki zubaan pe rahe nme bahenchod rakh de', 'they don know there is word called bahenchod', 'hny time pe kamaya tha maine is baar payment nahi de rahe hai', 'kya zindagi yaar bahenchod ndimag khrb ng sb sb ngood night', 'chalo acha tumhare dost tumhare birthday ka countdown kar rahe nbut iska mtlb yeh thodi ki uska ss le tum story da', 'ache se dekh le bahenchod', 'anushka baby tum mujhe shadi bad kis nam se bulao gey nvirat bahenchod virushkawedding', 'yeh dekho bahenchod ko fake id chala raha hai', 'bahenchod this is the saddest thing girl ready to do anything to help guy sleep', 'kya zindagi yaar bahenchod ndimag khrb ng sb sb ngood night', 'ye bahenchod achhe khase lund ko bekar karenge itna bada risk le rahe hain', 'maadarchod tu dusaro ko chhod tujhe gandhi family ka aisho aaram mil raha hai bahenchod dusaro ki fik', 'friend bhai me apne bete ka kya naam rakhu jo sabki zubaan pe rahe nme bahenchod rakh de', 'bahenchod why getting lots of ad in your wynk music app pure mood ki maa behen kr dete', 'idiot what fuck ur fucking human rights watch watching in baluchistan motherfuckers shd close ur', 'bahenchod sale bra nahi mangege tere bahen ki chuchi masal', 'abe bahenchod kuch to sharam kar san be dekha hai fixedwinnershilpa', 'friend bhai me apne bete ka kya naam rakhu jo sabki zubaan pe rahe nme bahenchod rakh de', 'ladke wale kya karti hai aapki beti nladki papa twitter par logo ko bahenchod bolkar gender equality me apna yogdan', 'or koi gaali bhi nahi dega bahenchod', 'anushka baby tum mujhe shadi bad kis nam se bulao gey nvirat bahenchod virushkawedding', 'bahenchod aaukad mein rah', 'bahenchod experienced lagte ho bhai bhot', 'bahenchod sale bra nahi mangege tere bahen ki chuchi masal kar sali ko ghutno par bithuga kutiya ba', 'madarchod sali teri chut par lund ragadhkar garam karke kutte se chodwaunga sali bahanchod', 'nhi dikh raha ab mandir kon banvayega bahanchod angry', 'tera bap ni kya bahanchod', 'bjp ne kon sa pm bana rakha hai bahanchod unhe', 'bhosadi teri chut ko apni lund se marun bahanchod sali', 'batao bahanchod kya gaand phaad logic hai', 'are madharchod tera baap delhi me jiska naam kejriwal hai usase baat kar bahanchod', 'bahanchod ye phati choot kon hai', 'vo bahanchod diggi ka sala lagta hai', 'ye janmotsav kitne mahine chalega behanchod', 'remember what said in log mandiro me ladkiya chhedne jaate hai sharm kar be pappu bahancho', 'oh mr hasindu or pasindu for india and for madharchod bahanchod srilanka', 'bahanchod bol bhi kon raha hai', 'bahanchod ye bakri kaha see aaye', 'ye sab to tum log hote ho be bahanchod ka to confirm hai', 'hattttttttttttttttttt har berozgaar ehi kehta hai bahanchod', 'bahanchod dhoke se war karne wale ko bada bahadur kahta hai sale bhadwe', '', 'is bahanchod kutte ko aur kuch kaam hi nahi', 'biggboss ki lugai utta lo bahanchod chutiya', 'bahanchod', 'followers nahi ab toh following kam hone lag gayi hai bahanchod mujh gareeb ko block pel de rahe hai', 'account hai bahanchod ya amit shah ki gaand ka tedha bal roz hi suspend rehta hai', 'bahanchod no ibra', 'pidi tu bata bahanchod year tu kay keya', 'kya ghatiya mausam hai bahanchod', 'upar se aur ghatiya office wale log bahanchod', 'batao bahanchod kya gaand phaad logic hai', 'bahanchod tu ja ke dekhna teri ammi ka halala ho rha or wo tere abbu mujse krwa rhe', 'biggboss ki lugai utta lo bahanchod chutiya', '', 'abe bahanchod chutiya hi kya tu bjp tera baap hi baap se panga mt le chutiya', 'bahanchod', 'tu bahanchod sudhrega ni wo court me aapni job kr rha ki congrss ka', 'nhi dikh raha ab mandir kon banvayega bahanchod angry', 'betichod pahle wo chale to', 'toh aisa kar ka choos ke so ja betichod tu kisi cheez ke layak nhi', 'betichod', 'betichod her last name is mukherjee or whatever', 'arre betichod kya chahiye', 'dek le betichod abhi kya phna hu', 'chup betichod', '', 'tu chup betichod', 'ye le betichod ye tha', 'kaalu betichod', 'tu chup betichod', 'chu maang raha hai ye naqli betichod bhai hoon tera is liye bata raha hoon', 'hate all equally bcz their god better at licking manuvaadi racist boots mean these invincible di', 'betichod ki aulaad saali nsasti raand meri bas lund pr uchalti tu mere nor tatte chaatne ke liye paida', 'tezab se naha ke betichod', 'rey betichod behen ke laure teri maa ke chut mein soo rha hun', 'ek toh betichod inke adhmare sae status pae rply krke apna conern dikhao upar se chutye it dare upload this', 'fuck off betichod', 'kam se kam aap logo ki taraha betichod ya mausi chod to nahi he', 'chal be betichod ll come', 'tabiyat theek hai teri betichod', 'aib betichod', 'betichod filmstar collection hi matter krte srk aaj down kyu kyunki collections nhi aa rhe', 'ruko betichod abhi nhi fazool mai nahana parjaega', 'kyu be kahne lage kyy sale betichod', 'betichod kejri ne kab loota', 'nahi dikh raha hai lund toh nhi kaat diya betichod ka karni sena waalo ne', 'tamiz tumare maa ke bhosde men rakh aye hai', 'chup betichod', 'jo offend hote hain woh saab betichod', 'kaun madarchod ki nagi rand ki aulaad ke jhaat ka pissu ka bhenchod ka loda hai', 'thanks betichod ki jhaat ke pissu ke lode', 'nothing happening ni just answered the question of the twitter nits asking what happening nso funny betichod', 'haan betichod tu hi baith jaana meri shaddi me dulhe ki jagha hazam nahi hogi bhai ki khushi', 'and while was busy taking care of one holding him by his shorts so he shouldn fall from gallery the', 'ye saare congressi raand ki aaulade betichod yahi log apni maa behen ka rape krte', 'betichod bhai bhai mein daraar dalne ki koshish karta hai naxali', 'sab ke sab betichod katai civil engineer hore hamaari jaan ku', 'to konsa tere ghar ka khaa raha betichod nja gand mara', 'aahhhh chuss le ise meri ghasti betichod ki aulaad', 'not modi bhakt your response marks you as one nand the chod you can stick where you enjoy it the least betichod', 'bahanchod kon sa duniya ka naala km ka hi re ntum gutter layak ho betichod', 'sahi kaha betichod', 'betichod wa me when you are free', 'aur bana li toh ye betichod gujarat it cell chief', 'kotla chalo behenchodddd aag lagaaenge in lanka waalo me jhoothe betichod akhbaar me padhe honge pollution ka ab', 'acha congrats raunak inside nbetichod raunak kya kar raha hai be danda sambhal apna chutiya', 'betichod teri to fav shilpa fir kyu jal rhi teri', 'betichod', 'kaun madarchod ki nagi rand ki aulaad ke jhaat ka pissu ka bhenchod ka loda hai betichod', 'haan toh betichod aisai zinda hoon kya', 'betichod', 'kahan tha re mazdur itne dino se betichod', 'hahhaa ka toh rescheduled roz ka ho gaya hai train chalane ka akal toh lavdo', 'chup betichod', 'dek le betichod abhi kya phna hu', 'manohar parrikar justifies rafale costs smaller part real cost in equipment the indian express', 'mubarak ho betichod ek mahina hogya baqi hai', 'uchaiyya chhute hue miyabhai betichod retweet', 'frnd bhai paise dena me baad me deta hu teko nme chup betichod har baar yahi bol ke pacha leta he paisa', 'chadhugaa hi raand meri betichod ki aulaad saali aahhh nmast chut chinaal teri', 'tere chuche bahut kadak meri ghastii betichod ki aulaad', 'tu jaake khel le fir betichod ghar bethe bethe gyaan baat rha hai', 'lukaku betichod needs to do something fruitful next week', 'thanks betichod ki jhaat ke pissu ke lode', 'betichod paper kharab gya to padhai kar ye kya engg hi chhor dega ka bhi to movie flo', 'toh aisa kar ka choos ke so ja betichod tu kisi cheez ke la', 'if someone slaps you on your right cheek hand him your left lekin agar dobara maare to pel daalo betichod ko mahatma gandhi', 'happy birthday betichod', 'madarchod canadian ke lawde fan highcourt has acquitted salman khan jaake', 'betichod', 'aur bana li toh ye betichod gujarat it cell chief', 'wo betichod bhi underground ho gaya ye yaad kar raha tha tujhe nmeeta de iski tharak', 'aur thori si english padhni aati ho na bhosdike to pic ka', 'happy birthday betichod', 'chutye chaiwala neech aadmi betichod', 'they are not in love nbut after at night they don let anyone disturb them why', 'mara betichod', 'naam change karke rakhkr all liberal betichod', 'betichod tere jaise logon ki patak patak ke gaand li hai maine wahan tu baccha hai abhi', 'wah betichod kya kanni kaata hai', 'nahi dikh raha hai lund toh nhi kaat diya betichod ka karni sena waalo ne', 'reposting backchod bakk backchodi memelife memes lol lil lel simpsons', 'lund hila ke good morning betichod', '', 'dc fans after watching the trailer of marvel infinity war dc marvel dcvsmarvel betichod', 'bhaag saale candian hamara pm usspe pehla haq hamara hai tum sala betichod canadian kutte', 'tu hi meri asli rakhail nbetichod ki aulaad tuu saali nbaap ka lund leti abh meri raand', 'ara bundi ru aale chutiye tu tne mere saale issa pitunga ghr ne pehchaan main naave', 'betichod that first', 'mubarak ho betichod ek mahina hogya baqi hai', 'ye le betichod ye tha', 'kauwe mera ek follower kam kara diya betichod tune kisssssssssyyyy', '', 'bolenge bhaichod kyu nai likha', 'saali bhaichod', 'its been fixed with patch everyone should update', 'this tweet made my night ecstatic to read about your euphoria', 'bhaichod', 'ni ni phr maza kesay ayega yeah kia bhenchod bhaichod chutiapa ha', 'yay', '', 'new la track', 'my apologies did not get the msg correctly', 'motherfuckers fatherfuckers nbhainchod bhaichod', 'lol aww they re truly blessings', '', 'new la track', 'inki maa ke choot maadherchod haramzaadio iss desh ke khaati is desh ko he gaali deti hai', 'sejal tu raand ya rakhail sali ye bta pehle', '', 'this year goldenglobes best tv actor nominees', '', 'aaja mere lund me unchalna liya aag bhasam ho jayegi', 'will fuck you like this bouncy bouncy', 'attention ki hawas hi hai yan lun ki bhi itni hi hawas hai tere jaisi raand apne sakhe bhai say bhi sex kar lei', 'han sabse purani raand he madhu twitter ki', '', 'kutiya gashti raand teri chuchian masal masal kr tera jism baychain kr dun ga or teri chuchian rubbery ki tar', 'aaja mere lund me unchalna liya aag bhasam ho jayegi', '', 'sun aye raand ki aulaad nram rahim aur asaram ka lund kam pade to teri maa', 'his ass was so tasty', 'tu kaun si raand se kam hai ravina', 'hat sab idiot nahin hain people know sab kuch', 'tum raand ho', 'aise koi to chode meri ko', 'raand ko bc bs lund chshiye tujhe ni chahiye raasnd ku aulad', 'saali raand chus ye garam land', 'asli raand hai mere office table pe aise aa ke baithi thi', 'mere pass aa randi teri janmo janmo ki pyas bhujha dunga', 'meri djannoo raand sejal saath gang bang karwayegiiiiiii bol naa meri kutiyaaa', 'aa ja meri raand lund per seedha', '', 'jaa na unpadh raand ki chaati aulaad tere baap ko sikhaya hota sex to tere jaisa chodu paida na karta', 'don worry baby you going to love me even more for this yourdeviantsin', 'ye le raand dal muh me', 'no ki raand hai wo', 'you been naughty girl you know how to make it up to me yourdeviantsin', 'aise rape hoga tera but fir ek baar andar ghus jayega na tere tu khud nahi rok payegi apne apko', '', 'raand', '', 'mumtazbano sonagachi ki raand', 'fuck off bhadwe kejri ki raand', 'aise koi to chode meri ko', '', '', 'morning raand', 'uffff zeba raand teri bur ko jhamke chodoonga', 'had to go even longer than if you don like reading the gist is thanks bunch for the nom', 'ye saare congressi raand ki aaulade betichod yahi log apni maa behen ka rape krte', 'is that true', 'ek din karna hai aisa', 'my slutty slave', 'unique phenomenon as far as longevity in porn years in the first line of adult entertainment nking of ir rimming', 'jo karna ha dm me aaja sab kar denga', '', 'aag bhasam hi to nhi karni balki badhani hai', 'me hoon naa raand tere liye', '', 'oohh wow kiya snskaar dikhaa rhi ha ye raand uuffffff', 'when my secretary does something wrong she knows the drill yourdeviantsin', 'mera randwa to available hi nhi hota jab bh aag lagi hui hoti badan mai', 'ji ha', 'han sabse purani raand he madhu twitter ki', 'mera lund mu me kab legi tu', 'teri breakfast ready hi lelo mulli raand', 'raand', 'goldenglobes nominees best supporting actor tv ndavid harbour nalfred molina nchristian slater nalexander skarsgard ndavid thewlis nse', 'zairawasimmolestation galti ho gayi teri movie secretsuperstar jaake dekhi ntum saali randi tumko kothe pe nach', 'teri gaand me lauda fasa kr peluga tujhe meri chinnal', 'raand aaja kha ja mera land', 'ohho bade bade chudakad raand aa rahi he aaj', 'ufffff raand chus mera uncut lauda zeba', 'kon is slutty raand ko kuttiya banakar chaddega sherlynrandchopra', 'hame sirf chodna aata hai', 'toh phir aajao maidaan mein dekhe kon pahle girta hein nchut ya lund', 'reply me once raand', 'laal salam kaalo raand ko jaa pakistan jaa or dhanda vahi kar apna jaa yaha tera rate kam hai dubai', 'sali raand', 'apki randi app sab ki wait kar rahi hai ab aa bhi jao uffffff', 'so this girl abusing me telling me to commit suicide calling me randi and saying that its written in quran for', 'and if ever cross ur mind make sure write down the times so will know the moments was eating you alive', 'apki randi app sab ki wait kar rahi hai ab aa bhi jao uffffff', 'stop nlaw ndont sign that ticket nand as represenative of the person in your birth certificate who dont exist an', 'randi ka baccha saala', 'apki randi app sab ki wait kar rahi hai ab aa bhi jao uffffff', 'isko zyada lun pr uchalne ka shook ha kisi rasti randi ka bacha ha', 'randi ke janme maderchod kutte jhoot bhok rahe hae symbiosis sims ki kissi bhi chokri ne chokre ko propose nahi ki', 'randi ko to bas ek hi kaam ata hai hehehe bas apse new new style se chud sakti hai yeh randi mmm kutiya ban kar chodogi apse', 'ye randi burchodi chinal dost ki sanskari biwi hi mast mal hi sali kya lund chusti hi rand jaise hamre lund ki bhukhi', 'if you re interested we would love for you to try life time here free pass ve', 'meri randi bahan ko zalil kro mere samne mere sath', 'is bar congresiyo ka evm ka randi rona pahle se hi start hai', 'where are you randi we miss you this week', 'boiling oil poured on his face ncastrated nhead cut open nflung into lake nwill year old paresh mesta murder shake', 'nteri maa ki choot nmodi aa teri maa ko chodega ram rahum aasaaam ban aur tu randi ki tarah ma', 'wow koi randi mere sath real sex karegi kya', 'rite ya mulla party isaia ha randi ka bacha kabi na sacha', 'gd morning mare randi', 'not here to break your heart but ll break your pussy chut faadkr rhunga randi faaccch', 'hy randi mera loda legi', 'aazo baazo se badhwe randiya bhonk rahe hai tere nam pe khel kar ke duniya ko thage the ntaake hum badhwe randiyo ki', 'abe randi ki aulad tujh jaise kutte ko bura nahi mante seedha gand pe laath martee hain', 'chup randi chod', 'brother called ik an asshole she is just an attention seeking randi her and', 'attention lye allah bnay huyy insano pahly bandar kutta bolty ho or jab attention mil jatii tw public mai randi ro', 'mere is sexy hot randi jism par apke lund ka haq hai ufffff apke mast lund ne hi mujhe yeh jism diya hai', 'bhairava ho tum dadal randi ka dadali kro jaygda kamayo ge', 'tou dfa match hua hai tou utni dfa hi khelega na randi ke bache', 'if you are constantly dating people who are not relationship oriented then it time you re evaluate the people you choose to date', 'tu tnsn mt le teri shaadi baad bhi tere pati saamne randi banunga tujhe', 'apki randi app sab ki wait kar rahi hai ab aa bhi jao uffffff', 'once upon time nora the insane drug addict set sail for adventure an old drugged out drug addict told nora st', 'sahin kaha tune randi sale khud hame invite karte hi tum randiyo ki jawan', 'kafir ho gire miya bhai dukkaro ki halat ab bhonkye kutto jaisi hogyi hai ek ladki ka chori kar kar ke miya', 'thoko manojit randizade pe se mera goo khay ndukkar ki mere pe nazr kharab thi nhindu dukkar mere se jalta', 'beeemar kausar randi nsar se pair tak hazaar beemariya nkeede padeli randi nphoteli handi npublic toilet nhazar ke bi', '', 'apni maa ko bhi randi bolta he kya bhadwe sale', 'our favourite australian novels of this year', 'zeeshan pig kausar randi moonh kala karte pakde gay to uski gang bole behan bhai moonh kala karte pakde gay nare ap', 'another false story this time in the failing that watch hours of television day wrong also', 'walter gibson was skeptic njames randi is skeptic nthe skeptic community is self obsessed coven of camera', '', 'hahah bro call ur channel news channel its just propaganda channel kal aise hour', 'aage aur kya hoga ncongress jeeti to democracy ki jeet nbjp jeeti to evms were hacked', 'fav randi', 'haaaaa meri randi kuttiya baat toh hai tere chusne mai', 'gonna stuck my dick deep in ja fucking pussy slut teri cbutado ka haal behal krdiya hai', 'chodu bol meri randi', 'liked video james randi fiery takedown of psychic fraud', 'printed pancakes what way to start morning smarttech dprinting foodtech stemed', 'tere muh me daal du loda baal pakad kar randi ki tarah chulodunga kutiya ko', '', 'abe yaar aa gaya randi rona karega ab ye bc', 'apki randi app sab ki wait kar rahi hai ab aa bhi jao uffffff', 'muslim free ki randi hoti uncut ki', 'inch ka ni ha tere pass randi aurat', 'apki randi app sab ki wait kar rahi hai ab aa bhi jao uffffff', 'move on my cock', 'pic what should have been congress narrative development development development gst etc pic advisors of', 'kausar beemari randi amp', 'newprofilepic chay ki ketli ahmedabad', 'mere is sexy hot randi jism par apke lund ka haq hai ufffff apke mast lund ne hi mujhe yeh jism diya hai muaaaah', 'hahah bro call ur channel news channel its just propaganda channel ka', 'whatsapp msg that needs to be circulated modi biggest achievements kejriwal stopped talking manmohan start', 'puri gaand fatnetk chod rha hu tujhe randi faaaccchhh fffaaaccchhhh', 'randi noble prize hai avn awards nahi jo tera haq hoga', 'randi of jehadis prashant bhushan', 'walter gibson was skeptic njames randi is skeptic nthe skeptic community is self obsessed coven', 'hyderabad door to door evangelists encounter angry hindus no more free run for conversions', 'mere pass aa randi teri janmo janmo ki pyas bhujha dunga', 'and you khudki toh kuch pehchaan nahi lagta hai randi ki aulad hai isiliye muh chupake fak', 'once upon time nora the creep lunatic left her home an old insane lunatic told nora story listen well she', 'yhi teri aukat hai randi', 'desi randi with group of guys', 'the islamisation of europe takes place everywhere we received this from bologna italy', 'to everyone who gave keaton voice give ashawntydavis rosalieavila voice minority get bullied amp', 'why did muslims killed pandits in kashmir idiots', 'teri maa ki choot faad ke kutto ko khila dege or land kaat ke hot dog bana dege or bech dege', 'apki randi app sab ki wait kar rahi hai ab aa bhi jao uffffff', 'gift lelo fir nobke prize ke saath randi jaan', 'kasi lag rahi hai apki randi', 'shameless teri maa sale kinnar patel harami randi ki aulad', 'yes', 'iam top boy', '', 'pata nahi aise sanghi kutte ko bha', 'modi ka randi rona', 'apki randi app sab ki wait kar rahi hai ab aa bhi jao uffffff', 'sexy lag rhi ha meri randi', 'hina rockx shilpa randi shockx', 'don expect perfect love from any of your close ones just show them what it is', 'meri randi mom', 'winter sun chic', 'care always care', 'with you happy with you', 'ye mera lund hai jo chod nhi sakta to is kaam me ata hai', 'nmy randi', 'apki randi app sab ki wait kar rahi hai ab aa bhi jao uffffff', 'dhayaan se aapko pta hai mallya ka naam aate hi randi rona shuru ho jaata election time mein', 'jisha rape and murder case accused amirul islam found guilty by sessions court ernakulam kerala', 'ohh ohhhhhhh me behad pyasi sexy rasili hindu sanskari chinal randi muslim lund ki pyasi bessa gulam hun', 'love to go hard on you randi co yneieex', 'wow kya randi hai', 'can sleep because don wanna miss the opening of the polls that never happened before', 'not here to break your heart but ll break your pussy chut faadkr rhunga randi faaccchhhh', 'apni behnon ki raat ki kamayi khane wale gashti bache ap', 'kinnar patel harami randi ki aulad sale sowar bache gandu', 'heartbreaking', 'apki randi app sab ki wait kar rahi hai ab aa bhi jao uffffff', 'desh gaddar congress party randi', 'meri randi kuttiya aaja video call sex karege', 'mmmmm aisi jabardast chudai hi pasand hai mujhe mmmmm pelo dear jor jor se meri randi chut', 'you smiling', 'kitane grup tu randi kuttiya', 'malkin aapki randi hu mai baith mutne wali', 'my sister with his hindu boyfriend how much they love each other she show me this video she made', 'finally lyk to kia randi ab dm bhi krde', 'relatable', 'meri chinal randiyo liye meri rakhail liye gift uar kis randi ko gift chahiye', 'mmmm so hot fucking mmmmm aisi hi apke mast lund par uchaal uchaal kar chudegi yeh randi', 'fuck those peacefuls', 'mmmm so hot fucking mmmmm aisi hi apke mast lund par uchaal uchaal kar chudegi yeh randi', 'randi key bcho mother chod sale tum khud muslim lund ki pidesh ho sale kute bhen chod harami', 'randi ki tarah khul kar bolo tabhi to lagega ki nangi hokar lund ke liye tadap rhi ho', 'apki randi app sab ki wait kar rahi hai ab aa bhi jao uffffff', 'formal education can make you living self education can make you fortune', 'pichese teri chut me pura lund pel kr chod rha hu randi tujhe ghhhaaabbbb ghhhaabbb chikh', 'or me ap balls randi ban chus rahi hon uffff so hot', 'there is saying the definition of crazy is doing the same thing over and over again expecting to get the same', 'keaton parents after cashing that check on the way to the kkk meeting', 'aaja dm me randi meri aaj chod chod ke chil dunga teri chut', 'miss you because love you', 'aagese teri gaand ko le rha hu randi saali chikh aur jor jorse haramzadi ghhhaaaabbbb gh', 'teri halat to bilkul aisi hogi', 'bheega hai badal tera choos sukha du ntujhe aisa chodu ki randi bana du', 'mmmmm aisi jabardast chudai hi pasand hai mujhe mmmmm pelo dear jor jor se meri randi chut', 'by the way salman badhwe ne auto ke baare me kuch nahi bataya tha nkaun hai wo nhaa nng ki har randi muje dekh ke apn', 'yaha bas condolences ka randi rona karenge ye', 'onside ullu ke pathe', 'in hindi you dont say miss you you say ullu ke pathe which means you are flower missing', 'jab sab ke families aayi arshi ki nazar har waqt shilpa pe thi nahin ag', '', 'murakh ke sardar navaz sharif ne dehati aurat kaha tha modiji ne nahi kaha tha ullu ke pathe', 'bad editing no reference to the content jab episode maine telecast', 'ullu ke pathe sal me rahul hindu ho gaya ye kaya kam hai', '', 'abe ullu ke pathe cd bhi to important hai tere jnu ke pass vgra or condm shop ke bikri kese hogi unk', 'in hindi you dont say miss you you say ullu ke pathe which means you are flower missing from my', '', 'boycottsirius now and forever if you don then am coming after you', 'it knows coming home', 'lol booble head giveaway night lol', 'look it michael booble', 'you my whore lt', 'hq seventeen seungkwan ncr booble', 'booble butt', 'this occult book is comprehensive guidebook from the perspective of nine generations of american witches', 'hate having to shit at work cause get worried about how long taking but you can rush your morning shit ya know', 'haven seen anyone including my manager in the store for like minutes and convinced the lizard got them', 'change your cells change your life see why president trump sits on the cover of my first books lifestyle of the fit fam', 'playgirl for women booble porn minute', 'ready player one ultima visionaria opera di steven spielberg', 'living', 'julia roberts naked pics booble sex', 'just do what do lay across it and fall asleep or my favorite go to bed right side up and end up at', 'wait so im right see fkn booble face is wrong again', 'hq seventeen seungkwan junto vernon ncr booble', 'just do what do lay across it and fall asleep or my favorite go to bed right side up and end up at the fo', 'lezioni di storia made in sud madeinitaly lucianodecrescenzo', 'guys just learned that the and the to chilis guy are not the same person but twins the more ya know', 'my house cleaner fucking sucks', 'be involved in launching digital leaders canada', 'hi so finally have memory foam full sized new mattress and idk what to do with all this extra space tbfh', 'hq seventeen seungkwan ncr booble', 'xmas specials dec st dec st vip off any package nregular club off any package ntoo good too be fr', '', 'get it bangin', '', '', 'said booble instead of bible during my cru interview help me', 'joshie grobs gt', 'update hear voices either they re safe or the lizard has absorbed their powers and can now speak afraid to', 'my mom just called michael bubl michael booble and hollerin', 'she riot but love her', 'calling on twitter to help us out on our ap gov final', 'booble porn minute yoga pants and sex', 'gonna find me good significant other to read the booble with', 'everyone is laughing at us but fr wore my thick ass winter jacket this morning with long sleeves and had the heat', 'surprise my cover of kelly clarkson christmas is on youtube now the single is out everywhere on december', '', 'booble signing at avn via', 'oy zetterberg nearly scores off the blues booble and nyquist roller no dice', 'bitcoin and altcoins trading on binance nvery impressed with the exchange give them try today nfast deposits', 'boycottsiriusxm now and forever if you don then am coming after you', 'playgirl for women booble porn minute', 'gonna find me good significant other to read the booble with', 'this makes me so uncomfoable', 'here are pictures of and as infants', 'terrible gif quality but nick was just too far away on the couch to kiss so made him do this so we could reach', 'you keep the suspect on the ground until you have enough back up', 'not twins actually adam and got divorce ex brothers now thank you very much for the big nice tweet', 'this is why white people shouldn dab have learned my lesson', 'girls with small boobs promise you you have no idea how lucky you got it you think you want them but they are nothing', 'bubble shooter hd the brand new html version of booble shooter this bubble shooter game is very intuitive and ea', 'two owen wilsons watching the sunset', 'booble sex pilipinas porn', 'booble', 'booble', '', 'she preparing for you', 'crooked hitlary clinton booble head dolls available click this link her pantsuit is on fire and she', 'chut', 'chut', 'aaja dm me randi meri aaj chod chod ke chil dunga teri chut', 'dekho beta murder robbery bigamy adultery defamation sbka ilaz but sec ka ilaaz na', 'thank god for cheese fries', 'ui nh ng trg th kh vl hi vs trl lquan mo th khi', 'ye night dress jo delwayega wo meri chut ke or karib aa jaayega', 'inko sab chut', 'love bacon', 'its tym fkr ua fucking pussy whore chut me pura lund pel rha hu saaaappppp saaaaappppp', 'chut', 'anh anh nhi ch ch sao em th anh th nh gi anh', 'hi chudashi rani tumahri chut ki garmi kaisi hai', 'chut', 'mdrrr chut secret', 'chut', 'mujhe sath chut bhi chahiye', 'drowning in my own tears', 'teri maa ki chut maru muslmaan', 'aaah aahhhh aaaahhhhh kaminy chod saly dam lga chod rozia ko aaahhhh aaaaaaaahhhh behanchod', 'chut', 'aisa kya karo aur chut ki size ke baare me bhi bolti hai', 'groupsex', 'not here to break your heart but ll break your pussy chut faadkr rhunga randi faaccch', 'sahi bole ho tum tum toh kuch bhe bologe just like modi kuch bh', 'tabiyath teek nahi bole tho istharha chut dikha ke doona hai kiya', 'chut kuch bhi bol ke nikal jaata hai bina matlab samjhe hi', 'jis kisi hot girl ya housewife ko real me chut chudwana ho wo mujhe mail kare kas', 'chut', 'hahaha behan ap thakti nai ho itne lun ly ly kr chut nai dukhti kia apki hehe', 'kuch toh baaki hai tere mere darmiyan ai zaalim nyun hi teri yaad mein meri chut geeli ni ho jati wonderfl', 'pichese teri chut me pura lund pel kr chod rha hu randi tujhe ghhhaaabbbb ghhhaabbb chikh', 'yhi hu teri chut marnr ke liye gujju bhabhi', 'coi ch ra qu kh ngh chia tay amp', 'nh nh ch', 'najez se jestli hlad ndej si tu jestli na ni chu nje to pohod njsi kr nbudou', 'rajni ki ma ki chut me mera lauda', 'wiliyu kip chut and getti lost from hia', 'har raat bas arnab hi shor karta hai tum bhi karo arnab is howling mad aadmi', 'not here to break your heart but ll break your pussy chut faadkr rhunga randi faaccchhhh', 'sonia teri garam garam chut me mera jalta bhatakta loda njaise afjal ghoda band hua koi tabele me', 'chut badi masth hai ji chahtha hai ke khajaun', 'aaaahhhh chut to gili ho gayi ab retweet de do', 'jio pagla', 'saali hai he chudne lea voh bhen lodi lund chut aur gaand lene lea he paida kia uski maa ne usko', 'mall to mast he hi chut to jabar dast he', 'nbahina meri aaj to le le loda mera teri karari chut me', 'main toh bolta hu khaaaa heee jaaao isko sala sone nhi deta bina chut', 'chut pasand aye to retweet karna', 'sunny leone bana ke chodege nteri maa ko nsamjh me aaya nmadarchod', 'very nice teri maa ki choot maru yad', 'toh khol apni choot ka', 'tumko kya hua fatima abhi toh tere muh ander hi choot mein toh dala hi nhi', 'tere maaki choot pe muth maarun', 'sab arnab nahin hain', '', 'teri maa ki chut choot faad ke kutto ko khila dege or land kaat ke hot dog bana dege or', 'mohabat saffar mein hamsafar choot jaate hain njinhein ankhein sjaati hain woh sapne toot jaate hain nmer', 'iski maa ki choot mader chod boarder per tumhari gaand me goli padni chahiye', 'yar priya ap ko itne boys chodty hain or zaleel krty hain apki choot gand kisi din phatt kar jaal bhun', 'so for everybody who gets in rage goes in my profile search my tweets try to zaleel me darling im out and open', 'yar priya ap ko itne boys chodty hain or zaleel krty hain apki choot gand kisi din phatt kar jaal bhun rakh baan', 'if like ndesi bhabhi gaand aur choot me ungli karti hui', '', 'mine expression jb koi meri penty mein hath daal meri gand hole se ly kar choot tk khoob rga ha tezz tezz https', 'sunny leone bana ke chodege nteri maa ko nsamjh me aaya nmadarchod', '', 'high quality and sexy oriental girl escort in lucknow call', 'kya chahiye tujhe girl are you mad', 'diya jaayega choot faad ke kutto ko khila dege or land kaat ke hot dog bana', 'maiyaa chod daalegi naisa maarege ki amma choot choot chilaayegi', 'nice choot hai', 'choot faad ke kutto ko khila dege or land kaat ke hot dog bana dege or bech', 'bhabhi choot ke sath kya karwao gi chudwao gi ya chatwao gi agar choot ka paani chatwa do gi to hamari', 'chal teri maa ki choot', 'meri muslima namazi family', 'mere bina teri', '', 'nteri maa ki choot nmodi aa teri maa ko chodega ram rahum aasaaam ban aur tu randi ki tarah ma', 'baby shark ver thevoicefoundation', 'maiyaa chod daalegi naisa maarege ki amma choot choot chilaayegi', 'teri maa ki choot faad ke kutto ko khila dege or land kaat ke hot dog bana dege or bech dege', 'aik lund choot ko sambhal nai paye ga zada chohry mat ho jal jao gy haha', 'itta maarege madrchod ki nchauraahe pe bheekh maagega nrandi ke aula', 'mujy choot chiya', 'mood kharab bharwe teri maa ki choot kharaab hai jo tujhay peda krdia', 'teri maa ki choot se aaya hun npooch ke btadey waapsi daalna ke nahi', 'once jealous chutya always one nyeh woh log hen who will get married to their year older chutya motay kaalay', 'teri maa ki choot faad ke kutto ko khila dege or land kaat ke hot dog bana dege or bech', 'nhi smriti ji rahul baba isi liye ministry of human resources development choot gaya kahi ye bhi ministery', '', 'if like ndesi nangi chhori horny expressions saath choot masalti hui', 'teri maa ki kaali choot nityanand ka land kaala', '', 'achi baat ye hai comm jesi balaa sy pehly jaan choot jae gi', 'aik lund choot ko sambhal nai paye ga zada chohry mat ho jal jao gy haha', 'kabhi hamne nahi socha tha naisa din bhi aayega nchoot mei aag lagegi mstud bhi chod jayega dekho sanskari', 'ohhhh zalim aaaaahhhh mar gayiiii chud gayiiiiiii aaahhhhhhhhhhh uffff meri choot gayi aa', 'not every lund deserves nice choot tbh', 'our super hot pune escorts are looking for sexual fun punecallgirls', 'aaloo ke paranthe and your brain are equal hahaha', 'kya khulli choot hogi iski', 'subah jam and shaam ko arnab', 'china enemy to patel ka statue nsteal ka land modi bhosde nmodi ki ma ku choot nliye china se ku bnwa rahe nnag', '', 'real big boobs komal new sexy young girl agracallcallgirls', 'teri bahne choot faad ke kutto ko khila dege or land kaat ke hot', 'teri maa ki choot me daal ke aag lagane ke liye chahiye maada', 'meri pakiza nmazi mom raat sy kahan ha', '', 'sexy orgasms choot ki thukai ye seh na payi', 'bosdi ke ja kar apne maa ki choot chaat', 'naturally soft and suckable boobs of hot young desi indian babe', 'ohhhh zalim aaaaahhhh mar gayiiii chud gayiiiiiii aaahhhhhhhhhhh uffff meri choot gayi aaah aaaaahh', 'saale haalala ki aulad teri bibi ki choot mast hai re baba', 'once jealous chutya always one nyeh woh log hen who will get married to their year older chutya motay kaalay cousins', 'teri bahan ki choot lal nahi hai aur teri maa ki choot to kaa', 'abe chodu log ab bahut hua wedding wedding tl', '', '', '', 'bhaag gaya chodu', 'someone like you', '', 'chodu saale teri aukaat nahi hai saale chup bhaith', 'kitna chodu baar to choda hu na raat me', 'chodu vikas gujarati ne dekhai chhe pappuda', 'abe chodu log ab bahut hua wedding wedding tl', 'teri maa ki chiut sale teri bahen ko chodu', 'abe chodu apun dono ki bhanji hai wo teri bhi beti jaisi hai', 'barish hogi aaj rainy days ahead', 'jaa na unpadh raand ki chaati aulaad tere baap ko sikhaya hota sex to tere jaisa chodu paida na karta', 'hey taare mano chodu bhenchod nteri manu chodu katiya atu nteri mana lunda garu ay ga deerr hangs up', '', 'anybody see where my toy went', '', 'kya ma chodi collection wise to blue ka hi zyada hai dekh le chodu', 'teri maa ko chodu sanghi suwar', 'the elyxion exo sweet lies', '', '', '', 'dono ko sath me chodu ga', '', 'teri mayya chodu baklodey', 'indian desi bhabhi with her chodu devar', '', 'abe chodu fake news kyu faila rha hai', 'rply karo to chodu na', '', 'chodu', 'forlife sm', 'brother in law just said teri behen ko chodu so texted my sister and asked her to look forward to night of passionat', 'abe tu hai kon btane wla chodu hardik', '', 'aja morning lund chus chut chus chus chodu tuje', 'mai chodu tujhe', 'shame on mr chodu', 'bheega hai badal tera choos sukha du ntujhe aisa chodu ki randi bana du', 'wud say teri ma ko puch main kitna chodu hoon nbut then the civilised me says stay away from retards', 'ossada medina', '', '', 'manin tujhe bhool gaya thaa', '', '', '', 'are chodu nahi chahiye rts stop saying obvious shit', 'am not cuming hahaha', 'rain will come so will you', 'me chodu bhabhi', 'saint he is chodu whom no one follows hahahahahaha what jehadi apologist are prashant', 'ye chodu aapiya lag raha hai gabbar bhai', 'luv tu chodu hai bhai grow up', 'chodu bol meri randi', 'teri vajah se chutiye hrs trafic me phansha raha chodu chutiya', 'sahi hai raja ka bhi', 'bhadwe teri maa chodu', 'hat ja ladki kadka hoon main', 'chutiya toh phir tere mai he problem hai kuch relationship still chodu insaan', 'hahahaha sab bhool gaya tu', 'teri maa ko doggy style chodu lavdya ch gaand', 'jab tu milne ki zehmat uthaega chodu maharaj', 'teri maa ka canada chodu', 'sab bhool gaya na tu', 'luullla bachav apne king gobar hakle ka lifetime tepk gt', 'are chodu dimag me gobar bhara huva he kya tumhar', '', 'kya dhokhebaz tumne patelo ko aachha chodu bana raha hai', 'teri ma ko chodu harami', 'teri vajah se chutiye hrs trafic me phansha raha chodu chutiya', 'inch ka aaja chodu sali tuje', 'choochi moochii krlun tujhe pyari', 'ye choochi moochi kyaa hai ab', 'dear apni choot choochi dogi', 'choochi moochi karlun tjhy pyari', 'choochi choochi karlu tujhe', 'mr founds grown adult though', 'na yar choochi moochi na krna me jawan banda hun', 'thank you', 'lot of students are gonna be late and will have to stay for mons after school even though it won be their fault', 'choochi doobies rolled wit at least gram heard', 'want your choot choochi', 'choochi moochi pyari', 'can pass that comment on leave early but we will always aim to take sensible approach', 'choochi moochi pyari', 'mera kisi larrki ki avi per choochi mooochi kr loon tjhay pyari quote krnay ka jee chah raha', 'choot choochi dikha or do', 'closing school would be sensible approach', 'have you heard crib by papi on soundcloud np', 'choochi moochi karlun tjhy pyari', 'it is safe but will take bit of extra time', 'choochi moochi karlun tjhy pyari', 'choochi chat perdu abzac chat perdu france via', 'situation all gucci liken band nahi hoti tumhari choochi', 'someone plis update their profile picture wanna comment choochi moochi karlun tjhe pyari', 'choot choochi dogi', 'one of the only high schools open', 'good morning it choochi moochi', 'choochi moochi kr le usay', 'choot choochi dogi', 'and the hill', 'mr found must have done lot of excercise today', 'golu mein kamar ko waist kyun kehte hai cheez choochi ke neeche aur choot ke upar ho usse waste kehte hai', 'wo chhoro choochi karlu tujhe', 'everyone post ur choochi ungli under this tweet', 'choochi the chinchilla after dust bath', 'what isssss this choochi moochi', 'choochi moochi karlun tjhy pyari', 'choochi didnt actually go to university yall and has anger issues with those did sad really', 'choochi choochi karlu tujhe', 'hi reece there is more gritting and clearing happening tonight leave extra time for your journey', 'mera kisi larrki ki avi per choochi mooochi kr loon tjhay pyari quote krnay ka jee chah raha', 'really ain', 'what isssss this choochi moochi', 'bring warm clothing and we will take sensible approach will raise it with mr found', 'choochi agbasa go', 'another major concern is doing mocks in the sports hall which is cold on normal day in temperatures of degrees', 'must suffer', 'choocha with choochi', 'fine', 'choochi choot dogi', 'haan aur choochi moochi karna shuru kar diya', 'mr found confirms that the automatic windows have been locked to keep the heat in now should be warm toasty', 'choochi hermosa', 'sena want your choot choochi', 'choochi moochi krlun', 'choot choochi dikha', 'one person followed me and people unfollowed me automatically checked by', 'kalpana want your choot choochi', 'mast choochi', 'think we shouldn let snow ruin our lives junaid surely we are made of sturdier stuff', 'choochi mooochi', 'two days out of school ain gonna ruin your life mate go play with your kids in', 'hi junaid mr found site team have worked hard to make sure the car park roads and paths are safe see you tomorrow', 'choochi choochi karlu tujhe pyari achasorry', 'imagine kro tumhara husband wedding night pe ghunghat uthaye aur kahay choochi moochi kr loon', 'choche kehne se kuch ne hta sohneo shakal mat jao umer btadi to ap khud choche bn', 'he thinks fitness is important', 'tera display name bola gaandu', 'its odd to see the obsession of people towards the marriage of virat kohli mean he doesnt even know you you are', 'this gaandu intension is clear he will next say pakistan is safer country in world', 'nahi aa rhi aaj modi gaandu', 'bhadwe godhra kar raha hai tum hijdo par aaj bhi bhaari hai isliye ga', 'yaar gaandu ethina unna', 'gaandu rajasthan ki garam reth mei zinda gaad donga tujhko', 'chup rah matharjat muh kholne ke sath hug deta hai gaandu anpadh jholachap chatu chamcha', 'tera tweet nahi hai to kya hua baat to sahi hai gaandu opening di na hai aur bakc', 'chudura mahesh gaandu', 'suvvar maa chud gayi teri ya teri behane bi', 'rahul gaandu worked everyday in aaloo ki factory', 'its odd to see the obsession of people towards the marriage of virat kohli mean he doesnt even know you you are shar', 'gaandu ko ab pakistan se aur mullo se pyar ho gaya hai hindu to bahana hai paise se matlab hai', 'expert gaandu tu bhaunk', 'gaandu hu bhadwe tum peet peeche waar karne waale gaandu', 'bc lun jaisa tera muh hai agar attention ka itna hi shounk hai tou kisi sex club mai kaam karle attent', 'you are no gaandu idiot and dirty why people will vote for you you will sink with your master pappu', 'nrahul gaandu an expert as foolmakerinc', 'lekin gaandu the bata ajay ki all the best ne kyu ma chod dala phir us', 'vikas gaandu ho gya', 'are gaandu tera congress ka jeet sirf twitter par hi rah jayega', 'maha prabhu inaiku panda semma gaandu la irundhan npathiya', 'chal gaandu', 'abe gaandu housefull outaim khiladi ye sab framcise nahi hai kya ye', 'gaandu ethathinga bro', 'hai kya', 'haramzadi hina ke chutiya fans gaandu bail', 'abey account delete kr gaandu nhr celebrity tweets pe comment krta bsdka followers ke liye', 'tu kaun hai be gaandu aadmi', 'tu gaya ray jiggu gaandu', 'madarchod karamfoot gaandu father of congress', 'gaandu', 'aur sun bhaduwe jadhe hue landd musalmaan naam pe kalank ngaandu ntere tarah harr insa', 'gaandu aadmi', 'madarchod modi ka naam liye bina publicity nahi milti gaandu', 'gaandu ram ka kaam tamam', 'ye gaandu gujarat mein development par sawaal utha raha hai isko party president banaya hai bhai pata hona chahiy', 'bahut jyada liberal ho be tum to gaandu kasam se kabhi kabhi kuch jyada he zehar kar dete ho', 'tum sab log gaandu hai ek family ka slave hai', 'when someone says gaandu nme han de de maybe you ll feel better', 'made promise to myself post to not vote for congress if can do that being', 'chutiya bail buudhi dusro ki ekkta pe discussion kar raha', 'you are no gaandu illiterate idiot and dirty why people will vote for you you will sink with your master pappu', 'teri gaand kyon fat rahi hai re behanchod gaandu spam karega to teri behan bur me ghus jaunga', 'jitna chennai express ka ww lifetime tha utne me canadian ki films ko clean', 'bhadwe tujh jaise hijde bhagte hai bhagwa', 'gaandu hardhik', 'nahi gaandu tu comedy karta hai ft wala banda hahah', 'mtlb ab tak canadian hardwork nahi kiya meme me praise karte ho ya troll nmade by biggest gaandu on earth', 'yeh ek number ka gaandu hai', 'andhe gaandu', 'gaandu ram ka kaam phirse tamam', 'abe gaandu tune bhi wo template copy kia tha ab rona band kar sabse pahle gaytard', 'gaandu logs trying to buy me with chocolate bkl bachchi hu kya be', 'bro ungalku intha copy paste dil', 'kuch gaandu naraj hai jaroor nlekin esa to har bar hota hai njitega bjp njitege modi', 'kal bhe javed gaandu tha naaj bhe javed gaandu hai javedhashmi javedhashmiaikgaandu', 'isiliye delete kiya gaandu', 'gaandu akela bengaal me lakho hin', 'bakwaas na kar gaandu khajur bech', 'behen logo dm kr kr ke thank chuka hu nagar ab bhi airtel payment bank account unfreeze nahi kr', 'damaadji saale gaandu', 'aur dalle harami kahan mara raha hai aaj kal saale gaandu', 'gandu krishna ki gaand se paida hua hai tu gaandu', 'amit gaandu won do anything because he is one gaandu', 'tu guy nahi gay gaandu', 'gaandu sun teri gaand me dum hai tw narender modi ke baare me kuch bol kar dikha', 'abe gaandu hai kya rnbdj blockbuster tha or all time grosser', 'gaandu logs trying to buy me with chocolate bkl bachchi hu kya be', 'victim of inda govt sponsore terrorism seek help nabe gaandu laude ke baal chutiye', 'akhilesh gadha tumko karib saal ho gaya mey lagatar', 'hahaha gaandu aadmi hai bhai wo just having fun', 'chup chutiye jaisi teri shaqal baatein bhi tu waisi he kr rha gaandu and tu konsa aisa kaam kiya', 'hahahahahahhahhahah abe gaandu prasad ye best to worst kya hota bhaiyo bheno', 'abhi main tere ko gaandu boolu ga tu aise mat keh dena kiii tuu gaand ma', 'teri pic mein peeche tere baap ka lauda hai', 'aur gaandu shuru ho gaye bina soche samjhe comment karne oh you are of course this', 'abey mutthal love jihad yaad rakh teri ma', 'amit gaandu won do anything because he is one gaandu', 'dai echaa unnaku yen point mela ivloo gaandu avunga unna dubai audio launch ku invite pannalana don', 'abhi main tere ko gaandu boolu ga tu aise mat keh dena kiii tuu gaa', 'beta sanghi ladnaa jaanta hai ben', 'gaandu bahut gaandu happy birthday to me', 'bhai tumhe tumhate layak koi gaandu mile ke nahin', 'bb nvikas hinq bahut chaalu hai nhina abe gaandu bolna chutiya bolna vamp bolna par nchaalu mat bolna mujhe', 'mtlb ab tak canadian hardwork nahi kiya meme me praise karte ho ya troll nmade by biggest gaandu on earth', 'saali hai he chudne lea voh bhen lodi lund chut aur gaand lene lea he paida kia uski maa ne usko', 'nahi tu chodta hai apni behen aur maa ko apne baap se gaand marwati hai', 'tu apna gaand pelwaya na kutto se', 'mast gaand ji', 'acha tera gaand ka naam abbotabad', '', 'abhi main tere ko gaandu boolu ga tu aise mat keh dena kiii tuu gaand ma', 'gaandu sun teri gaand me dum hai tw narender modi ke baare me kuch bol kar dikha', 'aagese teri gaand ko le rha hu randi saali chikh aur jor jorse haramzadi ghhhaaaabbbb gh', 'teri gaand pel rha hu nd spanking hard on ua ass faaaccchhhhhh fffaaaccchhhhh', '', 'iski gaand me dum nai hai hindutva ko lekar film banane ki', 'chal jhoothi gaand mai daalte hee jubaan baher kr chillane lgti ho', '', '', 'kya bhai yeh saala bhadava hai bhadava agar bhadavagiri nahi karega toh saala bhadava', 'really mst randii maal tere mom ki gaand', 'just remembered gaand me jhadu daal dungi mor ban ke nachega can stop laughing now', 'gaand hi nahi boor mast hai', 'iski maa ki choot mader chod boarder per tumhari gaand me goli padni chahiye', 'teri gaand me explosives dalakr blast kar le madrchod fake news jhantu ka reporter aur tu uski jhaant chaat raha hai', 'puri gaand fatnetk pel rha hu jor jorse faaacchhhh fffaaaccchhhhh', 'masti se bhari mast gaand haiii teri asi gaand jo land ki jaan hi nekal de lovely suppar sexy', 'bhai tamne gaand dhota aavde chey tweet ma pan vaas aave chey india', 'abe chutiye to teri gaand jali hui lag rhi', 'guys game he eisa hai acha khsa insn whn ja kar kuch kaa kuch ban jaata hai ngame hai game', 'gaand badi masth hai ri', 'saale tune mera itna dimag kharab diya na kasam se tera gaand phan', 'main hu naa tmhari gaand ka dhayan rakhne liye', 'if like ndesi bhabhi puri nangi ho apni gaand se apne bf ko beer chatwati hui', 'madherchod bhosdi aise gaand pelenge na baccha niklega gaand meh se', 'ufff bari mast ho asi gaand jo land ki jaan hi nekal de suppar sexy', 'aesi gaand dekh pagal toh koi bhi ho jeeega but pagal hone baad muth nhi tmhari gaand maarega', 'if like ndesi bhabhi gaand aur choot me ungli karti hui', 'wahi toh main sochi crack ki director jab tumse na darke gaand maarne', 'ajeeb chutiya log hain bc jati ungli me gaand phsany aa jaty', 'madherchod gaand meh bans dalenge aage se nikalenge beech road peh nanga krke', 'mmm pelo meri gaand jor jor se mmmmmm mast lund hai apka', 'bodedk jail ho jaayegi toh gaand se aise mooh banaiyo', 'teri gaand me lauda fasa kr peluga tujhe meri chinnal', 'sath ma gaand bhi mara karo in ki', 'sunny leone bana ke chodege nteri maa ko nsamjh me aaya nmadarchod neem ka patta kadva hai', 'isliye toh pura lund thok deta hu teri gaand mai', 'sahi bole ho tum tum toh kuch bhe bologe just like modi kuch bh', 'aise uper jaaogi toh gaand aaram se maar lega tmhari', 'are lodu hi rhenge pakistani zindagi bhar abe chutiye tere islam ke phele se in', 'haaan rozz nanga kar rakhio saali se apni gaand bhi chatwaio', 'aaj ka bas ek hi gyan nfaad dege bhosdike teri gaand pilla sala kutta ke aulaad', 'teri gool gool gaand dekh aise hee josh aa jata hai mujhe', 'followfriday', 'if like nhott desi bhabhi nangi gaand pe devar ka cumm nikalwati hui', 'haan toh gaand me daal le is an amazing comeback for almost everything in life', 'sexy gaand randii', 'if like nsexy gaand wali maal lund pe mast uchhal chudwati hui', '', 'aik tou bhai tunay sai gaand maar rakhi hui hai twitter ki', 'to pher yaha kea gaand marwaa ra ha tere bhen bai hn', 'abhi main tere ko gaandu boolu ga tu aise mat keh dena kiii tuu gaa', 'sahi hai arnab bhi paisa', 'ufff apki gaand toh itni mst', 'hahaha sahi hai bc', 'aaj tak hi best hai', 'gaand mar di walo ki', 'kya logic feku us chutiyo ko bola gaand teri jal rahi he', 'dard bina tere baapne maza dekha tha kya haramzadi abhi to aur dard hoga ki ye to bs shuruwat hai', 'puri gaand fatnetk chod rha hu tujhe randi faaaccchhh fffaaaccchhhh', 'teri gaand kyu jal rahi hai behen lode tu modi ka bohut chaatne waala lagtha hai', 'mast gaand hai ji', 'rahi bandh dhaga pyr ka todo harjayii nek baar jo toda ntoh gaand phat jayii', 'teri gaand marne ka kayal hai tera iradha kiya hai', 'iski gaand me dum nai hai hindutva ko lekar film banane ki', 'se', 'teri kyu gaand mein khujli hui bhadve apni maa chuda aur wirodh kar le agar koi nahi kar raha aur', 'kya', 'uff mst gaand black bra dikha kiski mom maal', 'gaand fati padi he', 'good evening damsel enjoy sunday', 'kiski maa ki gaand itni bade jiski maa ki gaand cmts rwt', 'to tera baap modi teri ma ki gaand marega kya', 'tu maa chuuda legal recourse apne yaa bar bala ke gaand me bhar liyo', 'virat saali hides his shoes virat kis mc bc ne joote uthaye saalo gaand maardunga wapis karo bhen ke lodo tum', 'depends some of us with the wind in open spaces', 'abe gaand tune hi kick ko diya tha lol', 'gaand legi', 'sunny leone bana ke chodege nteri maa ko nsamjh me aaya nmadarchod neem ka patta kadva hai or', 'best gaand on twitter', 'tmhari gaand hai heee aesi kitna bhi chodo mann nhi bharta', 'or fawad gareeb india me gaand marwane kyu aata hai', 'bhai tu ek aur chuthiya hai jignesh ke saath behnchodon reservation ke bina tum logon ka gaand chal', 'press release guide dogs of america visits allen lund company', 'not every lund deserves nice choot tbh', 'lund chusna bhi art hai jo sbko nhi aata randiyooo', 'mera lund mu me kab legi tu', 'expressen gr lund mark nu ska byggas ut', 'corb lund counterfeiter blues nowplaying dickrebel', 'mera lund chuso', 'rage against the machine', 'hi yummi lund and bbc love to see them', 'badi jaldi hai lund ki', 'mera lund lo na', '', 'islamister alltid kalla islamkritiker muslimhatare se hur din journalistkollega', 'stop crying without doing any research polar bears population grows you idiot', 'history and economic theory suggest that anxieties about technological unemployment are misplaced', '', 'aaj tu jitna bhi chilla mera lund tera gaad ko aj pura pel dega aah meri jaan kya mast gaad', 'lund fasakr', 'at least phd paid positions in political science which includes ir peace and conflict etc lund university', 'maderjat sali mere lund ka pani piyegi moot bhi piyegi nahayegi bhi sali ko apni paltu kutiya ba', 'tere lund bhuki hai saali chinaal kuttiya peshaab pine ko tayaar tera', 'daddy was midway through fucking his little girl when he needed piss so he decided to use his baby little shit hole', 'evening residential supervisor hiring btv via', 'kom till lund', 'kyu khus kaise hoti ho lund gaad me chahiye', 'passa att shuttle time utbildning under swedish open lund', 'maderchod kutte tu mera moit piya kar aur jab mai teri biwi', 'daddy little girl is so filthy she loves getting her pussy filled with daddy warm piss', 'jonk sig slutdestinationen ess lund forskning neutronspridning', 'hehehe kha jayogi mmmm mujhe to lund chaye', 'ohh ohhhhhhh me behad pyasi sexy rasili hindu sanskari chinal randi muslim lund ki pyasi bessa gulam hun', 'rage against the machine history and economic theory suggest that fears about technological unemployment are misplaced', 'at lund university digital writing in exam tests is tried due to student unreadable handwriting', 'toh aap mera lund hi chus lo na fir', 'next and final lab meeting for the semester laura will give talk about genomic differentiation in nesospiza finches welcome', 'play it sam play as time goes by ilsa lund ingrid bergman casablanca', 'tider kardiologen lund', 'toh khol apni choot ka', 'hi yummi lund and bbc love to see them', 'good luck doug', 'gn friends', 'ab tere ko mera lund se pura dum se chod raha hu aj chodai tab khatam hoga jab aap ka mouth main mera lu', 'pura ka pura lund tere muh me ghusa dalunga', '', 'vt lund agency wins millions to launch five year recovery project to keep at risk families intact', 'he himself is lund but what way to destroy him lol you go girl', 'mera bhi lund lo gi mo', 'he himself is lund but what way to destroy him lol you go girl', 'saali hai he chudne lea voh bhen lodi lund chut aur gaand lene lea he paida kia uski maa ne usko', 'sone jaise boobs hai tere chandi jaisa mera lund nek tu hi dhanwan hai sonia baki sab kangal', 'randi ki tarah khul kar bolo tabhi to lagega ki nangi hokar lund ke liye tadap rhi ho', 'corb lund band short native grasses prairies of alberta nowplaying', 'gr lund mark nu ska byggas ut', 'if like ndesi nangi bhabhi mast moans saath lund ride karti hui', 'skissernas of artistic process and public art sk sweden nfabulous space and objects co wviyew', 'jab mai teri kamisn rand gf ki jawani lutuga sali badan ko masluga apna lund chuswauga tab tu kya karega sale', 'its tym fkr ua fucking pussy whore chut me pura lund pel rha hu saaaappppp saaaaappppp', '', 'if like nmummy puri nangi ho lund pe baith chudwati hui', 'main toh tumhara gaad main mera lund daal diya aur jor jor se chod raha hu', 'yes rand tere jism ka iki ik ang mera hai lund khor chudashi kutiya', '', 'aap ki gand me le lo real lund', 'bhabhi ajau mera lund khada hai', 'if like ndesi bhabhi puri nangi ho bf lund pe uchhal chudwati hui', '', 'muth maar so ja', 'is chinal ki chut ko ohaad ke gaand suja ke muth maar ke iske face pe isko sasti kutti randi ki tarah fek', 'meri bhi maar do muth ruchika ji', 'puttar muth maar ke so ja khada nahi ho rha to modi ka ka pre election bhashan sun le', 'bro agr mere ko koi bolega jaake chill maar nmai seedha bathroom jaake muth maarne lag jaaunga', 'muth maar sai ho jaye ga', 'muth maar raha', 'abe mote gandu atm me bhi muth maar dia kya', 'koi hamara bhi chus le nhafte ka maal store nkahi waste na ho jaaye nmuth maar', 'han yeh bhi thik hai tu meri biwi aur bhabbi dono rakh le main aur mera bhai aaj raat', 'muth maar saaray soojao or kia', 'wo dilwale the chomu ab nikal dabar ka tel laga muth maar', 'koi nhi muth maar le ab thik ho jayega', 'is bc chemistry nay maghaz ki muth maar di ha', 'meri muth maar do', 'kya huva yaar kon muth maar raha hai', 'mine reaction jb mein dfa open area mein chudwa rahi thi ooper se aadmi aa gaya or saamny aa khada ho gya mer', 'abe pen ke luv de ye pappu jaissa godha gadha godha gaddha muth karr pehle tere pappu ka matter', 'chup kr muth maar bhosri', 'mine reaction jb mein dfa open area mein chudwa rahi thi ooper se aadmi aa gaya or saamny aa khada ho gya mere', 'sir muth maar mar kar so rahay hain please don disturb him', 'bro agr mere ko koi bolega jaake chill maar nmai seedha bathroom jaake muth maarne lag jaaunga', 'muth maar ke soja bhai kal ki maarege toh achha lagega', 'alakum salam ab sexy pix maar ke muth maar', 'bf hi har tym bheega rakhta hai bhabhi ko unpar muth maar maar kar', 'abhi teri mummy or meri pics dalta hun usko dekh kar muth maar lio ntu bole to teri behen ki bhi post kar', 'muth maar bukake bana doonga', 'ja muth maar bc', 'vo bhi muth maar nikaldi hogi', 'ye chutiya half video dikha ke media wala chutiya banaya', 'vo bhi muth maar nikaldi hogi', 'muth maar ke kya milega', 'koi mujhe bolega chill maar toh main muth maar lunga', 'mai toh side mein ho ke muth maar leta hoon', 'ika wru mammey', 'asy mammey krwana to hr girl ki kawish ha', 'when mammey sees shariq', 'bohat he mazbot tight mammey aur rarely hontmeray lundd raja leay', 'sambit ke tatte uske galey ko lagey hue the', 'kaam kar jake', 'you might not remember but worked so close to it that had to pass it every day tre', 'boston cafes ramp up for exams harvard bc suffolk bu all start finalsweek this week prepare for constant', 'kaam nahin hai aaj', 'over all everyone enjoyed the snow an especially my son', 'teri badi jal rahi hai jaakr rahul ghandi ke tatte chat pidi', 'service to tujhse hi luga mere tatte chatwaunga tujhse', 'nagar aapki maa ko pm itne pasand aaye to tumhara baap hua naa desh ka kaise left tatte', 'bhagg bho sdi waale hina ke paid pr tatte', 'part', 'apni manhoos shakal dekhle na zara', 'am currently listening to it on repeat while doing the dishes in the kitchen it true kitchen tatte dance time', 'galti mane ke bajai iljam iljam khelte hai bin tatte ke', '', 'han to kya ukhhad lega chal nikal tatte shilpa', 'just got taste for raspberry turnover heard there nice new bakery near my job tatte wonder if they have any', 'jaldi aja delivery dene tatte', 'yes punjabi tatte', 'ab to tu tatte chaatne lag gaya aapne baap ko bhi nehi pehechan ta prescribed immediate electric shock', 'true detective part rick and morty walking dead bhaiya walking dead dekh ke kasam se tatte shot', 'chirag sir mera dost ka ek tatta chota aur dusra bada hai kya aap kuch dieting tips denge jis', '', 'sambit patra bjp ke tatte chatte chatte ongc ke director bun gye', 'shadi unki hui tatte tere uprr chdre', 'teri tarah sab ko tatte chatne ki adaat nahi hoti kaif bhai humara hero hai aur bhai hai bilkul', 'bhag ke rahul gandhi ke tatte didnt edited anything', 'khujli bhikhari tatte jhantu ka reporter liar aur jhantu aadmi party news rndtv ko chhodkr kabhi', 'murkh tu aur tera baap kaif se kaho ke hindue ke tatte chaatna chhod de', 'it afternoon', '', 'han dikha di aukat tatte teri amm ka bh osda chal hatt bey od', 'tatte khujlao phle doonga aao aao aao tommy aao', '', '', 'tatte yahan pe aik aur tweet nd ll disembowel you', 'dear gujaratis listen to this dumbass and realise agr aisa chutiyapa jo delhi wali be chuna hai wo apko', 'heart shaker shaker shaker twice heartshaker', 'modi hoga tera jija boxdi ke tatte chat uske', 'abe modi ke tatte pe wale gobar kha gau mutr pi bas yahi kar tu', 'kaam main maza le twitter par nahin', 'han tatte chat le hina ki ch ut', 'abe behen ke laude madarjaat sale tatte sale bhenchod madarjaat rocky nam ke pile tujhse hina ko support', 'hate when niggas act in front they friends', 'bhai itna sulga kyoon hai tere tatte kaat diye kya fodi ne', 'sahi khel hain tere', 'tum khali lgte ho tum bhi mere tatte khujlao dunga jaldi jaldi aa', 'new songs', 'dropout nokinari no passion nyosougai situation nnani wo kui tatte nlost sensation', 'white people never fail me', 'tatte aller', 'badva tera political baap ko pooch iit mein admission kaise mila iitjee diya kya tha ussne ki jinda', 'delhi chhodo vaapas bihar jaao dilli', 'gawar anapadh feku miya degree chupane waale jhoote chai waale tatte baap se hi sikha hai', 'twitter', 'kitchen tatte dance time kitchen tatte dance time kitchen tatte dance time', 'addition subtraction difference sab moh maya hai gajodhar aaj tatte nikaal diye tumhari', 'is tatte se behter hi hai', 'chirag sir mera dost ka ek tatta chota aur dusra bada hai kya aap kuch dieting tips den', 'happy that have my own nigga cause lodd', 'tattoo handtattoo wristtattoo linework ink leaftattoo anstand tattoowierung germantattooers tatts tatte http', 'if you can tell it doesn snow very often in louisiana', '', 'ja re madar chod amit shah ke tatte', 'ek bhosadchod who the fuck got carded', 'bas mar mat jana bhosadchod', '', 'to kya tere baap ka bhosadchod', 'chut fatt gai hai teri to sali randi ki randi aulad sali bhosadchod', 'bade ke bachche toh phir dono ka opening kitna thaa nhny cross hoga ki nahi ce kitna', 'oh bhosadchod jaldi bata kon jeeta', 'original tweet comes to mind again bhosadchod zebpay', 'bhosadchod', 'bhosadchod ki gaand me danda daalo', 'bhosadchod hope your company dies horrible death', 'bhosadchod zebpay', 'lukaku assist bhosadchod', 'ma chuda bhosadchod', 'porn mat dekha kar chota hain tu', 'ohhh so hard fuck me', 'ha ji oh to dikhta hai', 'aaaahhhh meri gand itni zor se meri gand ki chudai kro gy to meri poti kinaray py ajaye ge', 'abhi kon kon chudai kar rahe hai', 'randiya na kabhi thakti hai aur na hi kabhi rokti hai hehehe chudai ko sari zidagi chalegi meri jaan', 'daman aja raat ke liye jam ke karege chudai', 'mmmmmm mast jabardast chudai large ho app dear mmmmm', 'ntere followers isliye badh gaye ki tu circus ki chudai me nk hai koi tera mukabala hi nahi kar sak', '', 'bir videosu be javed ny apni chachi ki chudai apny chahu ky kamry me hindi urdu story', 'hijab chudai hindu man', '', 'chudai man', 'yup lo', 'saal mai kon kya chudai raha tha aur saal mai modi kya kar raha hai ye duniya dekhrahi hsi', 'kabhi hamare yaha bhi aao', 'aaja janeman kutty ki tharha chudai karenge hum bhi', 'is zabrdast chudai liye kitne retweet milein ge', 'me behad chudai bessa hun me lund ki ros ki pyasi hun', 'plan to chudai karne tha par koi chut mili hi nhi marne ke liye', '', 'chudai liye kahin bhi panty utar deti hai mummy', 'koi aur ladka bhi hai aisa jo aapni behan ki chudai iss tehra se karwana chata ho mai uski behan ki chudai karounga', 'tere mummy na mst chudai karti', 'hot chudai', 'kya ji abhi to din hai na isliye night me', 'achha sab girls chut ko choos rahi hai', 'yogesh kahan hai aaj kal', 'mmmmm aisi jabardast chudai hi pasand hai mujhe mmmmm pelo dear jor jor se meri randi chut', 'ap humari bari behan ho ap sikhao na plz knsi kiss kesy hoti hy dear', 'apne bf se karwai ne zabrdast chudai or mera husband pas sota reh gaya full maze kiye nmeri video liye zyada se zyada ret', 'regarding greater health chudai', 'right priya', 'jaaan yeh sochte hai ki ladkiya baat karti hai to woh lesbian hai bola to isne sab lad', 'koi aur ladka bhi hai aisa jo aapni behan ki chudai iss tehra se karwana chata ho mai uski behan ki chudai karounga htt', 'woo me', 'mmmmm aisi jabardast chudai hi pasand hai mujhe mmmmm pelo dear jor jor se meri randi chut', 'good night chudai hindu man', 'jitni dewangi sy chosain gi hum itny hi mazy chudai mily to maza aata ha', 'aaj kis kis ne chudai ki hai', 'antarvasna indian sex kahani', 'mast boobs hai', 'tu soja teri maa or main to raat bhar chudai karenge good night', 'besharm chudai', '', 'come like hindu man', 'hindu chudai man', 'naari woman is best all jagah', 'hindu chudai man', 'desi chudai', 'mmmmmm mast jabardast chudai large ho app dear mmmmm', 'aap tere ko mera bahon main lekar khade ho kar chudai karta hu dekh aise tere ko kutta jaise aj chodun ga meri jaan', 'ufffffff chudai ho to aisi', 'ok ji raat ko aao', 'kal raat ki mast chudai', 'chudai ke bare mai sea plane mai soch sakte ho cd accha banega', 'muaaaah jaan', 'kaise chiodege', 'chusai ka nhi hai chudai ka to hai na mood hai aa jao', 'chudai man', '', 'ok aaajo lund pe', 'ye randi burchodi chinal dost ki sanskari biwi hi mast mal hi sali kya lund chusti hi rand jaise hamre lund ki bhukhi', 'itne pyar se chodungaa ki chudai se pyar ho jaaega tmhe', 'hijab chudai hindu man', 'aaaahhhh meri gand itni zor se meri gand ki chudai kro gy to meri poti kinaray py ajaye ge', 'aisa kya karo aur chut ki size ke baare me bhi bolti hai', '', 'oh omg kiya chudai pakda hai', 'or tab hum teri did ki chudai karta ha jab tere jija tujhe pelta ha', 'niche bhi mast hai chut', 'chudai karwalo badan garam ho jaiga', 'hindu chudai man', 'maderjat sali mere lund ka pani piyegi moot bhi piyegi nahayegi bhi sali ko apni paltu kutiya ba', 'mai aajaun chudai ki thamanna hai', 'kon chus raha hai yaha chut muaaaaah flying kiss hoti hai dear', 'thread of date venues in london continuous', 'your moany cunt back to the benefits for you', 'still was laugh last time bro and check dms and ill bring my ps so can chall some cunts', 'that lloyd russell sounds like right cunt', 'hahahahaha can take this cunt seriously anymore thierry on wii fuck sake man', 'trump called his sexualassault accuser cunt racist imbeciles voted for him anyway and', 'where would you like me to put it', 'lmaooooo why are people that aren in my life anymore still slagging me off get fucking grip you bit', 'there is no better woman than who always keeps her cunt fully shaved', 'bhool na mat main wapas aa raha hoon', 'aye nae bother dae that over here and thatl get sent right inty the burds groupchat afore you blink and theyre fuckin tearin', 'you could have humoured it away now', 'getting my cunt trashed last nights bamff and hungerff see full vid on hungerff xtube feed doble punch vers ff', 'what fucking cunt manhatten', 'some cunt throw them in the river thismorning', 'like to use the phrase cunt for people like this', 'fuck carl anyway he cunt', '', 'the irony that utd and mourinho whining about city celebrating when utd spent the past years being the mo', 'you re cut that nav an ugly cunt too but he can pull', 'swear to fuck am the most unlucky cunt on this planet', 'certainly not lil but can definitely pound your cunt', 'im furious this cunt is an abuser', 'sahi hai ha ha ha', 'it hit miss with call centres you re either gna get that foreign cunt who can barely speak english or that one that an', 'release the album lazy cunt', 'the little cunt played us all', 'good morning everyone except that cunt raiola', '', 'anyone who constantly talks about bitcoin is cunt', 'it merry christmas you vapid cunt', 'you changed nno you turned into cunt man', 'if he was so fucken good and decent he still be senator put the', 'fuck you and your transphobic sexist and downright appalling views of how women should live their', 'ugh why can my tweets blow up like yours you fucking cunt', 'bitch wasn crying when she held that kid down though dumb cunt', 'australians say the word cunt just as we say fuck so causally give him break', '', 'we need an intervention to get puppers away from that fat cunt before she kills him', 'im taxing that cunt skype dommes co wtrh spq lt', 'zaha all day mins sec in the cunt needs putting through wood chipper', 'fucking try me cunt', 'shutup fucking cunt', 'when censoring my tweet from saying cunt to bit of knob ended up tweeting out typo so what did we learn', 'rude cunt', 'cunt', 'just heard that pyrocynical said the resident evil chainsaw controller is the single worst invention in the his', 'lucky cunt', 'raulix is very real cunt', 'shut ur fucking gob cunt', 'was actually calling him fucking cunt', 'that guy really is cunt isn he', 'went in dry and made his walls wet this doesn begin to show how fucking hot and creamy his cunt was goodass', 'fuck your grandma cunt', 'what do you take me for', 'expose this cunt', 'so basically some cunt called some cunt fat and the other was like didn call any cunt fat that ba', 'diving cunt', 'suck your dad you cunt', 'alright every hacked cunt is muted', 'top definition nfap nthe onomatopoeic representation of masturbation often used to suggest that something is attractive', 'to call cunt cunt', 'lying cunt', 'payback time bitch for being an cunt my followers let do cumtributes on this pathetic bitch special surprize', 'fucking brain dead cunt', 'that argentinian bastard is an cunt', 'chew will knee fur bee cunt tent hit', 'maybe an akb is the massive cunt that reported you', '', 'in deed', 'haan kal phone kiya naa aapko another cunt', 'sticky hot semen fills her cunt panties', 'and that why ya cunt now thismorning', 'tbh think it just people taking the opportunity to call you cunt which will never get boring', 'so because say the word cunt lot im all of sudden sexist', 'someone has just tried to tell me he didn win us the points against west ha', 'the nirodh and mala ads still remember the jingle were usually post', 'think govt add of nirodh but can find link that are very rarely played on doordarshan ndeluxe nirodh', 'safe sex ad gone to dustbins nirodh advertisements used to be shown in good old doord', 'actually he right earlier nobody banned nirodh ads why decency in format and presentation', 'deluxe nirodh waala ad accha tha bacche to samajh hi nahi paate the ki condom ka ad hai yaa chhatri ka condomad con', 'because of that early nirodh ad always assocaite pedal boats with sex', 'my earliest memory of condom ads were as child watching doordarsh as of couple', 'yeah but in india you either have those ka malad nirodh ads jis mein kuch samajh', 'on the subject of condom ads best condom ad was without doubt nirodh one aaj bhi kahin pyaar hua ikraar hua', 'nirodh ka virodh part', 'on the subject of condom ads best condom ad was without doubt nirodh one aaj bhi kahin pyaar hua ikraar hua gaan', 'pappu nirodh chun liya gya', 'no condom ads between am and pm says ministry we have had these ads since the rig', 'condomads safesex thoughtpolice population control billions to facepalm nirodh', 'used to see nirodh ads on tv when was child was simply told it medicine for', 'oh shit read it bena nirodh adhyaksh chunay gae', 'nirodh chun liye gye', 'stupid three decades ago nirodh ads used to be broadcast on tv and radio openly why the ads were as sterile as any govt', 'nirodh shd be allowed it is make in india hahahah', 'exactly my point we have sat through nirodh advts in today these are just som', 'it was because of family planning objectives and most villagers are asleep by pm', 'educational ad with purpose of hiv awareness family planning like nirodh hum do hamare do is no harm', 'what so uncomfortable movies and tv shows show more than that or we want that gh', 'sanskar vs nirodh', 'no condom ads in primetime well we spent the entire teenage watching nirodh ads on primetime when there was only', 'don think the govt will have any problem with condom ads being played anytime nproblem is the way condom ads', 'bina nirodh ke', 'will that include the public service announcements that are nirodh advertisements', 'delux nirodh', 'and should insist on rollback of this order for endangering the lives of women and unborn chi', 'deluxe nirodh sabse zyada bikne waale kandome', 'because nirodh had to be advertised at all times of day and night they couldn really stop private companies doin', 'rahul gandhi is the future of india bend ur knees and bow ur heads bcos in each one of modi boys', 'we as the invincible films thinks to use condom brand in our upcomming short film interested companies may of', 'aur hum tere jija lagte hai nirodh jaisi surat', 'kash ki rajiv nirodh lagaya hota aaj desh palle ye nirvirodh na padta', 'stupid three decades ago nirodh ads used to be broadcast on tv and radio openly why the ads were as sterile as', 'why is nirodh nirdosh trending has someone realised their mistake anyway forget that on different note after watching', 'condom is good samajh nahin aa raha kya', 'think the issue may not be just condom ads but some ads in general some deodorant ads nsome ads irresp', 'pity you are comparing manforce with nirodh', 'deluxe nirodh waala ad accha tha bacche to samajh hi nahi paate the ki condom ka ad hai yaa chhatri ka condomad condomads', 'delux nirodh garbhnirodhak condom purusho ke liye yaun rog or aids ki roktham ke liye laabhdayak', 'the government nirodh advt should run round the clock not the sunny leone based soft porn', 'bhai nirodh se yaad aya', 'rohit bhai nye nirvirodh nkya kahna ye nirodh se bhi', 'difference between durex and nirodh', 'hope this is correctly reported guess it wants to stop explicit ads nirodh was advertised by govt itself', 'shit for moment read nirodh there', 'in good old doordarshan days nirodh ads were shown during commercial breaks and posters were put up at', 'remember the famous raj kapoor song pyar hua ikrar hua hai and then the punch line deluxe nirodh that was ad but', 'think the issue may not be just condom ads but some ads in general some deodorant ads nsome ads irrespective', 'bhai nirodh se yaad aya', 'no condom ads between am and pm says ministry we have had these ads since the', 'in while watching condom ad on doordarshan kids used to ask papa nirodh kya hota hain and answer was', 'so sorry sir nir virodh ko maine nirodh padhaa', 'btw which ads are you talking about the one for deluxe nirodh or the one for mala if you found th', 'nirodh', 'nirodh ka virodh part', 'sir don think tht some condom ad not appropriate for children earlier condom ad', 'still remember pyaar hua ikraar hua hai npyaar se phir kyoon darrta hai dil nkehta hai dil rasta mushki', 'and should insist on rollback of this order for endangering the lives of women and unb', 'nirodh ka kya virodh kroge tum me bigboss ka fan hu condomads', 'kash baap ne nirodh istemal kiya hota to ye naubat nahi aati', 'yes still remember the nirodh ad showed people pedalling in boat', 'think they should encourage those super mysterious deluxe nirodh moods ads from doordarshan days could sense peo', 'agree in the condom ads for nirodh used to be broadcast there was', 'absolutely think the government intent is to promote ads like yester years nirodh then consu', 'you are attacking the party smriti irani belongs to grew up seeing', 'nirodh se adhyashka', 'hope this is correctly reported guess it wants to stop explicit ads nirodh was advertised by govt itself', 'when you last time make love in front of your kids see in india problem in condemn adds problem with', 'looks like india population growth rate is going to increase due to this grew up watching the', 'nwouldn it be better to insist on non provocative condom ads between am pm rather than ban', 'but why didn amp do luch kar na', 'the government nirodh advt should run round the clock not the sunny leone based soft porn', 'pyaar gadhhaa hai maa kaa bhosda madarchod', 'vanita ji pahile chut rhati hai chit ko land se thok thok ke bhosda ho jaata hai', 'teri mummy ka bhosda nteri behen ka bhosda ntu randi ki aulaad tha ntu randi ki aulaad hai ntu randi ki', 'maderchod manager sale teri ma ka bhosda sale jwab kyo nahi deta sale hijde', 'meri ma ka bhosda teri behznka bhoda', 'afridi ki ma ka bhosda sabse long six youraj sing ke nam pe record hai', 'pichese teri chut me pura lund pel kr chod rha hu randi tujhe ghhhaaabbbb ghhhaabbb chikh', 'kya laga rakha hai maachod bc mc', 'gand landd le naeaz ka bhen chid teri ma ko kutta chodde hijre desh drohi nchoot diwane nirani li choot se nikl', 'sunny leone bana ke chodege nteri maa ko nsamjh me aaya nmadarchod', 'teri maa ka bhosda baar aur aiyar ki maa ka bhosda baar hell come up tweet only so to get', 'maa ka bhosda arey bhai bhai bhai', 'hinduwo ki maka bhosda maderchodo jis din dimaag kharaab ho gya ousi din soot samait sara hisab kitab barab', 'is baasu ki ma ka bhosda saala madharchod hai kis jagah ka ye bahan', 'hardik loda teri ma ka bhosda or tuj ko jo bolunga to teri gand fat jayegi', 'teri maa ki bhosdi ka bhosda bana denge randi ki aulad kutte ki beej bhen ki londi randiyon ko sha', 'teri chut jayega to chut nhi bhosda hojayega nkitani fategi chut yakin nhi karegi', 'aaj tu aag se apni maa ka bhosda jala le', 'tumhari ma ki chut tumhari ma ka bhosda', 'di me bhi apne bhosda ko chut hi bolti hu', 'aur nhi problem solve krwate hai inki maa ka bhosda madarchod company chor sale madarchod kutte kamine', 'kiski chut ka bhosda banau', '', 'tl ka bhosda kar diya virushka ka chutiyape se', 'maaka bhosda likhi dalal modi ka chamcha sanghi', 'teri maa ka bhosda randiyee', 'itta maarege madrchod ki nchauraahe pe bheekh maagega nrandi ke aula', 'teri maa ka bhosda harami ke pille apni bivi beti sambhal nahi to chud jay', 'tu bata jhaatu tere idol ne kitne mos jite hai overseas mein', 'pakistan ka maa ka bhosda', 'hijre teri ma ko kb chod gya sambha ab tu khud bol gya nmaderchod nmodi yera bap nhijre nsex bhookhe modi nirani ki', 'on serious note ki maa ka bhosda', 'teri bhen ki choot nma chudane gya tha nawaz se nya land chatne gya tha nawaz ka nteri ma ka bhodda nhafeez se teri ma', 'teri maa ka bhosda madrchod attention seeker spotted', 'teri ma ka bhosda randi ya randuve', 'bhai duniya ki maa ka bhosda tu aam aadmi hai tu jeetega behenchod', 'teri ma ka bhosda nbhen chod ab tk jhooth bol desh ko bewkoof bnata raha nye maderchod ncherp hijre niski ma chod fo', 'troll karne se pehle ye jaan le kohli bhi pehla match haara tha au', 'bhosda daar barish hori hay', 'teri maaka bhosda randi ke ab hindustan me gandhigiri band modigiri shuru', 'phone kro is no pr tumhari maa ka bhosda madarchod', 'michele oliver teri ma ka bhosda', 'kinnar patel ki maa ka bhosda', 'saalo maa ka bhosda silvane tak to india mein aate ho baat karte ho st innings ki', 'bhosda', 'uski ma ka bhosda sale ko ye dikhak koi', 'karan patel ki maa ka bhosda', 'ku ki teri bjp kandhar ma chuda aa gae thi ntu sr lene gya nbhen chod hijre ntatti kha aa gya nchina pak ko inch', 'tu rahul gandy ki nazayaz aulaad he be kya kathwe bhul gaya madarchod ke gujrat', 'referee ka bhosda', 'are yaar fawad khan ki maa ka bhosda nbc ke bahut actor khel chuka hai', 'bhosda daar barish hori hay', 'suhagraat nanushka baby talk dirty to me virat bhenchod teri maa ka bhosda catch pakadne nahi aata kya madarchod virushkawedding', 'teri amma ka bhosda madarchod kate lund', 'teri maa ki choot teri maa ka bhosda lauda laundiya chinal ki pakistan ki maa ki choo', 'bhosda ho gaya hai bhai ab kay dhire hath pura hi dale be bol', 'yeh ma ka bhosda madarboard', '', 'we love afganisthan nsath main npakistan ki maa ka bhosda pkmkb', 'lawda modi kii maa chut mein amit bhai ka bhosda', 'shilpa randi aur uske fans ki maa ka bhosda', 'refrees leke barcelona se rokda nchudate apni maa ka bhosda ucldraw nfuck barcelona', 'lagta hai ghante baad tu faltu baitha rahega aajana', 'virushkawedding virushkakishaadi happybirthdayyuvi happybirthdaythalaiva days to tzh nanushka sharma is', 'shuru tum logo ne kiya khatam hum log karenge tere fanbase walo ko', 'sunny leone bana ke chodege nteri maa ko nsamjh me aaya nmadarchod', 'land mat chus gaandu mulle', 'jisne report kia hai uski maa ka bhosda', 'tera jaise chutiya log tiger zinda hi kutta barking hi dekhne wale bhosda ho', 'gandia ki maa ka bhosda ha is ka matlab ab bol kb au teri behn ka rishta leny punnnhhhh', 'bhosda gaandu maut ka saudagars', 'teri maa ka bhosda madrchod attention seeker spotted', 'crore ka suit hawa ghoomne wala njhooth ka samunder nnawaz ki tatti chatne wala nhijra haramkhor ndesh drohi nlull ba', 'teri maa ka bhosda india me tera jaise chutiya hota japan me ni getting release there', 'lutera ndesh ko lootne wala hijra ntel dal loot li hijre nbhen chod nlanndd bata nlul brull nisda bhosda nbund ch de fo po', 'aapko god nhi alaah who akbar hota hai virushkawedding viratkohli', 'maka bhosda ka', 'iski maa ka bhosda chai kaise gira diya', 'haramzady kaminy chod na ab meri chut ko dam hy to dekha dy ab salay bana ab meri chu', 'he was this close to writing lovren ki maa ka bhosda in this tweet', 'pia ki maa ka bhosda piya ki behn ka bhosda', 'teri maa ka bhosda sahi hai', 'he was too late to save keeda she was too far gone when the procedure was ready is killin it today wow', 'oh my god tu bhi same hi hai', 'nothing bc don owe him for doing things that are as much his responsibility to get done as mine so ima sit my ass', 'feel you already know take shot', 'keeda had early onset altz and he was trying to save her and he sobbing so is anna and jordan is listening gh', 'keaton racist family got when he was bullied where were yall when somebody in th grade said they could project imax mov', 'yeh madamg ko celeb wala keeda kaat khaya hai', 'tere jesi bate koi gndi nali ka keeda hi kr skta hai jha ma bhn ya wife', 'after chai wala neech maut ka saudagar gandi naali ka keeda son of here is the latest mass mu', 'your mcm couldn pass the first level of poptropica', 'you can give me any woman and make her feel beautiful', 'just wondering where all the celebrity posting and support was for this baby', 'it mushroon called keeda jadi or cordycep grown in upper region of himalayas available', '', 'ye mulle nhi sudhre gay lakin humari media bhi aaj kal secular bni hui hai andhe ho gue hain sab inko nhi dikhta ye sab ink', 'not sure if legit pictures or manyavar ad campaign', 'furry amv victim of love via', 'mumbai hain keeda toh lagega hi', 'good look', '', 'okay sooooooo the kendrea johnson year old african american committed suicide in november and that was not on', 'send this to any girl that playing games', 'settings gt', 'he is king of india njo chahe vo kare tuje kya nvo plan kabhi nahi tutega jisme modiji honge nor nvo har plan cras', 'hahaha mate you have never seen woman naked that wasn on laptop screen have you', 'yamraj nmaut ka saudagar nravan ngandi nali ka keeda nmonkey nrabies victim nvirus nbhasmasur ngangu teli ngoon nthese are some words', 'daughter dad what on my neck ngulzar hasti rahe tu hasti rahe haya ki laali khilti rahe zulf ke neeche gardan pe keed', 'gaand me keeda', 'miya bhai ki jaahil gunwar community me bewda womanizer charsi kaisa bi keeda uth ke aaajay ngadhe ke hath me beti', 'angreji ka keeda turant kaat jaata hai empathy sympathy and what not did she ever tried to empathize with tribal', 'dude even the dog is humiliaated to be compared associated with modi shah woh dono to keeda hai keeda', 'sounded like keeda to me', 'tens of thousands of people in this country are left to die every year because they lack insurance', 'percent you on percent you on', 'bro the fact girls gotta do this shit for dudes to hop off is ridiculous', 'totally spies starring and this is what we want this is what we deserve', 'ha in the same boat it great', 'he is king of india njo chahe vo kare tuje kya nvo plan kabhi nahi tutega jisme modiji honge nor nvo har plan crash ho', 'flat ki har randi amp', 'this is fucking insane btc for pair of socks', 'when your crush post something freaky talking about mood', '', 'if can learn anything from you sorry but you can be around me', '', 'good deal at the time', 'nigga need hug', 'not if already sick gonna be straining my voice more by trying to talk', 'girl that makes everything easier', 'arey madarchod baap ki aulad chutiye galli ke kutte gutter ka keeda saala', 'appreciate it', 'my only was in bio and it was', 'na this who tf need to be donating money too for his funding', 'would thrown hands', 'big hug', 'let me guess what class', '', 'so beautiful how get this beautiful', 'saw that omg wtf', 'this is the first time in my entire life that got in class', 'brave bullied boy shares heart wrenching account of mistreatment at the hands of his peers', 'this mushroom is called keeda jadi or cordycep grown at high altitudes of uttarakhand', 'mar lago always sounded very marwari to me rajasthani trump', 'where is humanity', 'tere jesi bate koi gndi nali ka keeda hi kr skta hai jha ma bhn ya wife sb trh se', 'well dint he think of suspending his mother and sister for ka saudagar and neech rajniti and more so himself for', 'saffron cyber army yelling about neech as they should but when so called hindutva warrior hacks man to death with', 'how dare you call our prime minister neech pls suspend', 'mr iyer never insulted any one just to win elecction raisin', 'manishankaraiyar', 'dunno why but neech is ringing in my mind aadhaar', 'sea plane will fillup poors stomach it will get employment benefit to businessmanand small traders loan', 'first fired blank with hardik cd then with somnath entry register fabrication then aurangzeb khilji ki aulad then neech aa', 'respected sir mani shankar ayyar said him neech now he is proving their level of neechta by do', 'neech ki aulad', 'mani shankar aiyar suspended from primary membership of congress party slaps show cause notice to aiyar for his', 'aur jo neech harkaton ka samarthak ho voh jaese rss bjp', 'this is similar mani kankar chaiwala and neech comment still thinking this monkey going to get you votes', 'am now convinced the bjp will get seats in gujarat first must thank for exposing the cong on dynasty', 'congress leader mani shankar aiyar was suspended from the primary membership of the party for calling pm modi neech nhttps', 'why virushka makes us happy', 'shame on manishankaraiyar for calling pm modi by my name pm modi must resign neechaadmi neech', 'very few things make us happy these days the viratanushkawedding is one of them', 'dont forget the imported cashew roti he eat feku ki style adani wali soch ekdam', 'prime minister modi gujarat campaign nvote for me am poor was chaiwala my family has humble origins have', 'neech remark ramdev says wrong to discriminate on basis of caste nto read more go on', 'bbmp attitude is even more neech than we thought rather than build an stp they are diverting sewage from lake to other', 'modi ji ek neech aadmi hain isliye khud imported mushrooms khate hain aur gujrat vasiyon ke liye mushrooms nhi maga', 'very few things make us happy these days the viratanushkawedding is one of them', 'it simply display your neech character', 'prime minister modi gujarat campaign nvote for me am poor was chaiwala my family has humble origins', 'is winning an election so important that congress goes to the extent of calling the incumbent neech aadmi', 'hahahahaha mitro dekho yeh banda mere blood ko neech bula raha hai kya choti jaat ka khoon khoo', 'pm quoting the example of responsible for the deaths of hundreds of children if this isn some perverse', 'dear gujaratis had there been visible in gujarat modi would have been blowing that trumpet not msi pak', 'may dalit brahmin yani ki unch neech', 'crony capitalism kab stop hoga', 'neeche dekh raha tha maar gaay', 'mani is on the road so is congress they deserved it but pm modi is holding the india highest off', 'perhaps this is not the the first time manishankaraiyar used filthy language starting from teas', 'why virushka makes us happy', 'rahul gandhi attacked mani shankar aiyar for his remark on pm modi adding that he also couldn tolerate pm modi', 'panic stricken modi staring at defeat in gujarat has used series of bogies of rahul not hindu ahmed patel will becom', 'neech', 'your culture might teach you to call each neech can you call your leader neech whom you seem to wors', 'few days back modi when was called neech was in bad taste pm calling mms traitor is equally bad gujarat elections have', 'bollywood hungamas who is an anti addresses pm like this in his tweets he uses the word neech', 'prime minister modi gujarat campaign nvote for me am poor was chaiwala my family has humble origins have', 'from chaiwala to the abusive word neech nbharat is now out of scamgress reach', 'now we know why they got so worked up about mani shankar aiyar use of the hindi word neech the pm has shown', 'manishankaraiyar neech courtsmatter', 'hahahahaha nhence proved he is neech', 'prime minister modi gujarat campaign nvote for me am poor was chaiwala my family has humble origins', 'dr manmohan singh ripped modi ji apart with just words in response to his baseless allegations and neech politics', 'yogiadityanath manishankaraiyar neech courtsmatter', 'gawd this whole gujarat elections have been about mandir janeu neech and pakistan hand sums up mainland politi', 'ndid not iyer the person who went to pakistan and request help to topple legitimate government in in', 'neech', 'calling pm lowers dignity of office of pm but affect on dignity of office substantially higher when pm indulges in', 'we have lot to learn from you sir about the power or tolerance nthe nation stands behind the neech cha', 'your culture might teach you to call each neech can you call your leader neech whom you seem to worship', 'breaks social media break to tweet this nmani shankar aiyar has successfully carved neech oops niche for himself', 'with all desperate tactics of hardik cd rahul somnath register neech aadmi pak wants cong khilji aurangzeb ki aulad', 'that interpretation says lot about your neech sanghi shit filled brain', 'know it newindia when goes to temples no issue in gujaratelection manishankaraiyar suspend', 'congress touched new low in gujrat election neech politics meeting pakistan delegation cast polit', 'another neech equivalent racist remark by', 'proud of indian democracy man born in poverty by his hard work honesty record of governance is elected', 'har taraf nafrat kyun hai pyar hai hi nahin love is important', 'he belongs in the bjp it cell undoubtedly cretins like him deceive dalit into the hin', 'chalo aab to mushroom bhi aa gaye so any party which promise to give mushrooms to voters must win election npak', 'person who rates women and calls them crore ki girlfriend surely qualifies to be called neech nkuch galat', 'manishankaraiyar', 'lutyens srini dont care if govt wins gujrat or not but ndtv conspiracy theories and as lic', 'whether neech is big abuse or jhutha', 'it obvious kashmir is slowly but surely turning away from pak sponsored jihad both isi amp', 'beta isse pata chalta hai tu kisi gutter chap ki paidais hai hai aur koi neech hi ter', 'mitron mujhe chai wala bola sobs mitron mujhe neech bola sobs mitron meri supari di sobs nsalla inch', 'wo sab jane do neech kyon bola nsab se bada mudda ye hai', 'sagarika tu bhi trap ho gayi hai get out now', 'prime minister modi gujarat campaign nvote for me am poor was chaiwala my family has humble origins have in', 'modi promised newindia during polls but this noise around neech and manmohansingh dinner with pakistani', 'neech remark ramdev says wrong to discriminate on basis of caste', 'pls see this video as to how gujaratis are reacting to things like neech pakistan conspiracy etc they say modi has been', 'shocking no body can think javed can say this embarrassing can any learned man spell this', 'mitron mujhe chai wala bola sobs mitron mujhe neech bola nsobs mitron meri supari di nsobs', 'mitron mujhe chai wala bola sobs mitron mujhe neech bola sobs mitron meri supari di sobs nsalla inch ka', 'dinner on th and the neech remark on th', 'uffff zeba raand teri bur ko jhamke chodoonga', 'maine kaha ki aaj to na main tumhein chodoonga na tumhari gaand maaroonga aaj main tumhein jeebh se chaat kar maza', 'maine kaha ki aaj to na main tumhein chodoonga na tumhari gaand maaroonga aaj main tumhein jeebh se chaat kar maza', '', 'uffff bhosidki archana tuje aisi chodoonga mera lauda se teri choot fategi aaj', 'uffff bhosidki archana tuje aisi chodoonga mera lauda se teri choot fategi aaj', 'teri pichwada bhi aisi chodoonga', 'randi tuje aisi chodoonga teri gaand tho fati jayegi sirf palank kya', 'maine kaha ki aaj to na main tumhein chodoonga na tumhari gaand maaroonga aaj main tumhein jeebh se chaat kar maza', '', 'tumhein jeebh se chaat kar mazaa doonga maine kaha ki aaj to na main tumhein chodoonga na tumhari gaand maaroonga', 'maine kaha ki aaj to na main tumhein chodoonga na tumhari gaand maaroonga aaj main tumhein jeebh se chaat kar maza', 'teri sawari mi karoonga meri raand le teri choot aisi chodoonga thu chal nahi paogi', 'maine kaha ki aaj to na main tumhein chodoonga na tumhari gaand maaroonga aaj main tumhein jeebh se chaat kar mazaa do', '', 'tere jaisa gaandu fan ni ye njo fake vdo bana ra tu saale jhant ke baal see his fanship', 'beta tum muglistan kyo nahi chle jate yaha jhant ukhad rahe ho', '', 'chutiya panti ki bi had hoti hai yar jhant logo ki jhant fa', 'abe choduo kya jhant bat kare be tum log hawle salo aukat me raho apni chutiyo', 'abe lund fakir chin ek communist desh hai usse apne nagrik ko kahi bhi job deni hai', 'be chooti ye crowed nahi crowd hota hai jhant ka patrakar ho kya', '', 'soch chines sher tere baap ke ghar me ghuskr', 'fakina ke dogis sirf me hi khus hogai kya jhant fans ho tum jhandu log fans', 'jhant bhai babar akbar jehangir shahajehan aurangzeb rahul pappu ndynastic lineage acc', '', 'thats way out of my depth was speaking as the owner of more than one jhant which always meani', 'me aur bhai life kaisi chal rahi nfriend zindagi jhant jawani pagal', 'tuley ki jhant', 'chutiya hai tu ka jhant phad lenaukaat hai to', 'jhant bana aao tab pelenge', 'jhant ka baal nhi he tu srk ka', 'think plural is still jhant', 'but you are correct it was typo it must be and splitting jhants is totally appropriate on thi', '', 'haan jhant baat karni chahiye padhe chutiye liberal gandu', 'enough of jhant amp chutiya', 'said don go into religion acha ek hi example tujhe kashmir dekh raha haina army', 'there baap ko bhi condom pehna chahiye tha chipkali ki jhant', '', 'teri gand me danda bhosdiwale ntu uski jhant ke barsbar bhi nahi he nlove you', 'lagta aap ki jhant nhi iska mtlb aap ki boor me bahut nikhar hoga', 'abe chipkali ki jhant din wait kar aur apni aukaat mein aa jaayega', 'tere jaisa gaandu fan ni ye njo fake vdo bana ra tu saale jhant ke baal see his fanship', 'haa jhant ke baal khade ho gaye', 'jhant bhar ki party split bhi ho gaye to bal hi bachenge', '', '', 'jhant si cheez ka mudda to dekho in haramiyon ko log mar rahe hain rape ho rahe uski kii chinta nhi', 'abe laddu lal desh ki janta ko acchai ya burai samjh aati hai', 'abe lund ke toppo nsuar ki jhant tere maa mein lund deke bhen ko pregnant krdunga nbhas', 'jhant nahi', 'apna tl dekh le aapiye gujarat me jhant bhi nahi milega', 'rohit ab tera kya hoga bgadwe nbjp to gaya teri aukat jhant ke barabar ho gaya munne', '', 'tereko cricket ki jhant samjh hai nja chup chap madrasa me jake mullo ki baat sun', 'jhant jala di', 'tatti jaisi sakal hai teri jhant jaise baal ek tu hi chutiya hai lodu or tera baap kangaal', 'bhai hum to aaj bhi un bekasuro ko maarte hai aur aaghe bhi maarenge jhant ka baal ukhad lo', 'thats way out of my depth was speaking as the owner of more than one jhant which always meaning twice', 'virushka naam sunke hi jhant me aag lag jaati hai', 'kabhi koi dalit jhant bhi ukhad paya kya', '', 'wo jhant se nahi cross hoga cr', 'abe lund ke toppo nsuar ki jhant tere maa mein lund deke bhen ko pregnant krdunga', 'hina jhant suarni', 'is chut tarike ko bolo mooh sambhale did any court convict him mc tumhari governm', 'abe chutiya ho kya kuch bhi bolte rahte ho teri ma ki jhant jali hogi tere post se', '', 'jhant', 'jhant itna to mai ek din me kamata hu abtu jalna mat', 'isliye rahul gandhi aaj jhant ukhad rha hh', 'we have pur eyes open but become pappu jhant and can see', 'india ki govt hi chutiya bc cr janta liye jhant barabar doctor koi sunne wala hi ni', 'abhey jhant key baal nhe is the same guy who con', 'jaali na teri mulle chipkali ki jhant saala', 'me aur bhai life kaisi chal rahi nfriend zindagi jhant jawani pagal', 'congress tumhare aise rahul jhant ke balon se bhari padi hai', 'abe chutye mulle ja na apni maaa se pooch tu baap ki paida ishq ya mama ki', 'wo sirf hinduon ke festival me hi band hai ye mulle kuchh bhi kare band nahi', 'mushroom khiladiyo kya tujhe bhi mulle', 'school dress mein hi chod dala building ke naye mulle watchmen ne meri bahen ko', 'musalmaan perhasne sepahle soch jara aajpoori duniya ka heerohai', 'jyaada deep mt jaaye nhi to aap bhi musalmaan ho jaoge jo bhi jya', 'jo bahadur the vo balidaan ho gaye jo kayar the vo musalmaan ho gaye', 'saala ladengye dono aapas mei maarengye musalmaan ko', 'aur sun bhaduwe jadhe hue landd musalmaan naam pe kalank ngaandu ntere tarah harr insa', 'tum musalmaan nahi ho', 'kitne besarm hai log in mamlo ko hindu musalmaan krdiya socho apne desh me kitna ghat', 'musalmaan kin rahon par chal pada very emotional bayan islamic videos islamic history urdu hindi via', 'baat hindu musalmaan ki nahi lekin hatyara koi bhi ho agar dharm ke naam par haya ka', 'isis may jo bhi log hai mere hisaab se woh musalmaan toh nahi hai aise logo ka koi ma', 'desh mei nafrat ka bij bo kar sabka sath sabke vikad ki baat karte ho aur jab kahi election hota hai to shams', 'musalmano ka har firqa ek doosray ko kaafir kehta hai iqbal naik kaafir hi hai jo hum sbko musalmaan kehta hy', 'aaj humare hi mulk mein humko sirf isliye nishana banaya ja raha hai ki hum musalmaan hain markaz mein aisi hukumat hai jo aisi so', 'bhai tafreeq say', 'martyrsinsulted nnobody knows about the actual way of worship of the complete god not even the hindu guru kaazi hazrat', 'hatya ko justified kiya jaa sakta ha', 'added video to playlist musalmaan kin rahon par chal pada very emotional bayan islamic', 'tum to ab ye bhi bol sakte ho rahul musalmaan aur musalmaan atankwaadi hain am', 'don raise such things now modi hindu musalmaan banna degaa bjp list in gujarat and looking for communal card', 'jo musalmaan puri duniya me karte hai uska reaction hai', 'tum to ab ye bhi bol sakte ho rahul musalmaan aur musalmaan atankwaadi hai', 'jala diya tha usse aag hi aag hot as hell', 'musalmaan hoon dafnana hai jalana nai', 'but aap hi log to', 'tb to ye pata hoga ki is desh ka', 'communal criminal modi musalmaan ka khelaaf zahar ugal raha hai dalit popularfront', 'sab aadmi hindu nahi hain sab hindu aadmi nahi hain sab aadmi mus', 'apni nazar ko jhukaa kar chalow takey pataa lagey yeh koi aaam insan nahi musalmaan hai', 'yaha mandir mandir or bahr jakr musalmaan bann jata he gaddar he ye', 'aaj humare hi mulk mein humko sirf isliye nishana banaya ja raha hai ki hum musalmaan hain markaz mein aisi hukumat', 'toto keya aaj kitne musalmaan dar ker ke liye kaam ker rahe hai ye bhi unhi me ek hai', 'hahaha musalmaan', 'acha musalmaan banna hai', 'communal criminal modi musalmaan ka khelaaf zahar ugal raha hai dalit popularfront', 'ye siksha wala mudda kaam nehi karega election jeetna hain toh ye do mudda jaruru hain mandir chahi', 'pop jhon pall baaz aa ja warna is baar itney jootey pareingey musalmaan ho jai ga tu', 'baat karenge vikas ki auurr chunaav ka mudda banayenge mandir masjid hindu', 'rahul gandhi ka grandfather firoj khan ek miyan musalmaan tha to phir rahul gandhi gandhi or hindu kaise huva', 'aaj humare hi mulk mein humko sirf isliye nishana banaya ja raha hai ki hum musalmaan hain markaz mein aisi hukumat', 'pakistani hun musalmaan hun momina hun gujrati hun aur larki hun', 'ek case batado proof ke saath love jihad kya hindu ladke musalmaan ladkiyo ki zindagi nahi barbaad karte', 'isse pta chalta hain ki logo ki soch kaisi hain baat ho rahi', 'delhi hi nahin puri india mein hai yeh virus', 'ye bhosdika apne apko musalmaan bata taa hai ma ka loda daru piye hai wo bhi kaj', 'sudhar ja tu gaya learn to live with peace', 'jai bhawani nsambhunath bahubli njo musalmaan puri duniya me kar rahe hai ye uska reaction hai nmusal', 'ye siksha wala mudda kaam nehi karega election jeetna hain toh ye do mudda jaruru hain mandir', 'ahmed miyan patel ka far dikha kar kitne election jeet gaye modi ji rss ke constitution mein musalmaan hona dis', '', 'kyu abhi musalmaan hai to teri kyu jal rahi hai', 'gulami karna nahi aata means phir', 'abe dharam se bhasha nhi aati samja aisa hota toh', 'kyonki wo musalmaan hain isliye unke jaise koi kaafir nhi ho sakta', 'bahut hua hindu musalmaan nab hum karte hain modi ji ka dil se samman nlove uuuu go ahead', 'wo log musalmaan nahi njo maasoomon ki jaan lete hain nmusalmaan to wo hain njo dusron ki khaateer apni jaan dete hain', 'har musalmaan ko zumma hi nahi balki daily five time ki namaz padni chahiye', 'rukja tera brainwash karke tu pyaar mein andha kanoon pagal premi bannke nmusalmaan banjayega', 'modi janeu dikha janeu dikha nrahul beta isi liye maine topi pehanne se mana kari thi na main musalmaan hoo', 'sanatan hindu hoon bol kar paap mat kar bhagwan ram ek kaalpanik paatra hai kisne bola hai abe pah', 'saal mei desh ko bhikhari bana diya dadi ke marne pe sardaro ko jala diya dalit dalit chillate rah', 'aaj hamare hi desh mein ek musalmaan hi hai jisne bhaarat ke teen tukde kiye the', 'acha musalmaan banna hai', 'aise pakistani musalmaan ya hindu ke hone na hone se kiya farq parta hai jo khud ko logon', 'paresh mesta youth hindu activist killed by jehadi radicals at honnavara karnataka humanrightsday', '', '', 'genitals cut hot oil poured on eyes and face head split into two condition of hindu dalit activist paresh mesta will', 'here is an interesting stat million indian muslims joined isis nthat billion indian hindus nestimated', 'they called us hindu extremists saffron terrorists hindutva killers maut ka saudagars church attackers butchers of ind', 'am shocked to see how some accounts are religiously targeting hindu girls ni am going to report all such id and their', 'karnataka paresh mesta family says that he had been kidnapped by muslim mob while trying to escape from their stone', 'two suspected bangladeshi terrorists arms dealer arrested with fake aadhaar card in kolkata both are using hindu names', 'did we see you doing anna daan during daan parva did we see you doing animal welfare under gou sewa no we saw fad', 'this whole business of dismissing all hindu texts especially if they are considered sacred as myth has been part of', 'bjp pdp govt told the supreme court that it has no plans of setting up minorities commission in amp', 'the two impossible things modi did is making raga hindu and manmohan speak', '', '', 'ravi shankar prasad accused rahulgandhi of playing soft hindutva card to appease the hindu population of the state he as', 'remember when col purohit was illegally arrested and tortured to give hindu terror theory gen deepak kapoor was army chie', 'are the ancient hindu myths of land bridge connecting india and sri lanka true scientific analysis suggests they are', '', 'ap', 'this is good opportunity for all citizens of the country', 'this is called development pappu thinks that by faking as hindu and shiv bhakat he can befool us', 'obessi ka janetic baap hindu jo dahra', 'is that why maharashtra banned hindu rituals calling it superstion', 'your next pil guess', 'asli maza to uske baad jab kuch dino baad wahi hindu ma bahen beti apni pati ya baap ko batati ki', 'coming together for music the hindu dh digitalhumanities', 'aap gathers strength in varanasi the hindu', 'ye to har din hota hai read nsometimes write other way round', 'jammu ko save karo', 'hindus and jews have much more similarities both are cultures ethnic group oriented religion both faced many ups and dow', 'always remember the sethu is much much older than the mandir was put in place by the lord himself what dr achieved', 'david and amanda fernandes working to save the souls of hindu heathens and close', 'in hindu mythology married man must be accompanied by wife ardhangani at teerth unless physically un', 'onlyhindushang savanrathod sajjadmughal', 'ohh yes given the stiff competition he underwent this is news indeed', '', 'genitals cut hot oil poured on eyes and face head split into two condition of hindu dalit activist paresh mesta will the se', 'anshul exactly my point asked the question nlets assume the man was muslim and zairawasim', 'addressed students of begum sharifa kalsekar school one of mumbai finest girls schools it founding principal was je', 'proud hindu like many celebrate every festival in my country that is an individual choice', 'islamists kill thousands roaming all around the world terrorism has no religion hindu maniac murders hind', 'intellectuals called hindu terror behind gauri lankesh murder accused identified as tahir hussain who supplied arms to kill', 'so you will trust marxist', 'haha rahul and other ministers are using our money to use security maybe we shud reduce his security', 'in hindu dominant country more than hindus are seeking permission from minority so they can build rammandi', 'what is your duty saving hindus or those who kill mutilate rape plunder them', '', '', 'you as much proud hindu as rahul gandhi is janeu dhari hindu don think orgs', 'the accused in rajasthan case was arrested within hrs still media kept attacking cm raje nhindu man body castrated', 'or tum jab hindu marta kashmir kerala bengal up bihar mai toh chupi sadh lete ho koi', 'met his excellency governer of karnataka shri vajubhai rudabhai vala ji at raj bhavan informed him about the brutal mur', '', 'amruta ji have written several emails to your home department bureaucrats but no reply can', 'trphungrymedia barking against hindu saints nand no coverage on moulavis padris', 'gauri lankesh was killed right wing bjp supporters celebrated nbengali labourer killed in raj by hindu fanatic in name of hi', 'cow is bleeding badly after muslims fed her bomb cow allegedly belongs to poor hindu farmer', 'you are sickular that we love to hate it is time to fire we need', 'bomb fed to poor hindu farmer cow by muslims in madhya pradesh india because cows are sacred in hinduism', '', 'lose your temper please we want to see how uglier khangress can get please madam', 'this is not positivity it is bs but fits with bjp funding church from goa to aru', 'hindu unity forced to visit temple who once said nimagine if we all unit', 'nasa scientists confirm ram sethu but ponzi bhakt and told sc ram never existed and neither', 'you cannot be congi and be hindu at the same time its mathematically im', 'but aap hi log to', 'tere kayii mulle bhai aatankwadi ban rahe hai nunko dila', 'be aatankwadi ki aulad abhi to suruvat hai jis din hum hindu ki khopadi degree', 'is chutiya ko poochta bhi koun hai yanha naatankwadi kutton ki ta', 'rajasthan me rss ke aatankwadi ne lovejihad ke naam par gharib musalman afrazul ko zinda jala kar maar diya gaya aj', 'chup be lode maderchod bhosdike aatankwadi ki aulad raandi hi aulad', 'kashmir nkya chahte ho aazaadi naur aati kya hai barbaadi nlog tumhare fasaadi nsoch tumhari jihadi nbaap tumhara', 'pakistan me jitne bhi aatankwadi sangathan hain kabhi unko kisi ne pakistan murdabad ka nara lagate', 'phir paheli aatankwadi sushma swaraj hai kyunki visa', 'apka aatankwadi kuch nhi krenge sir ye to pakka hai', 'suar ki aulad hai aamir saala aatankwadi hai ye', 'chup be lode maderchod bhosdike aatankwadi ki aulad', 'bhai desh ke itihas me itne aatankwadi kab mare gaye the jara ye bhi bataoge', 'akela bhare pe rahne walon ko ek aatankwadi marta hi or kya hua', 'smjh nh aata jb hmko sb pta saboot bhi rehte hnare pass pakistan khilaf ki aatankwadi ko whi bhejta hindustan', 'mahatma gandhi nyaa naatankwadi harami godse', 'kya chahte ho aazaadi nkuch aata jaata barbaadi nlog tumhare fasaadi nsoch tumhari jihadi nbaap', '', 'mangne ko kahta nmagar aisa kuch nahi huaa namerica bhi chup rashiya bhi chup nkyu ai', 'lag to nahi raha sir geenti ke aadmi bhi nahi dikh rahe aur mudda wahi', 'pta lagakar aatankwadi ko khatm kyu nahi kar dete naise dono halat me shaq paida hota', 'congress party mein koi bhi aa sakta hai bhrashtachari naksali algawadi aatankwadi kanhaiya kumar hardik patel niza', 'masjid todne ke baap bjp ne jo shamsan kiya tha wo kaun sa rashtrawadi tha aacha wo aatankwadi tha', 'pakistan me jitne bhi aatankwadi sangathan hain kabhi unko kisi ne pakistan murdabad ka nara lagat', '', 'ye batao aatankwadi kaun hai', 'jisko bhagana tha logne uso se bhag diya aur rahi aatankwadi ki', 'smjh nh aata jb hmko sb pta saboot bhi rehte hnare pass pakistan khilaf ki aatankwadi ko whi bhejta hindust', 'bhagwa aatankwadi hain tu bhagwa taliban', 'aatankwadi suar', '', 'kya chahte ho aazaadi nkuch aata jaata barbaadi nlog tumhare fasaadi nsoch tumhari jihadi nbaap tumha', 'dogali media or dogale log napni maa behan ki raksha liye ek ko maarne vala aatankwadi or lakho begunaaho ko', 'buddha bhi naise logo ke juth ko naam diya gya hizabullah hizbul mujahid nahi means', 'gandhi baapu nyaa naatankwadi sanghee godse', 'whysobiased bhrasth neta desh drohi abhineta aatankwadi sab khaas sant asaram aam', 'kashmir nkya chahte ho aazaadi naur aati kya hai barbaadi nlog tumhare fasaadi nsoch tumhari jihadi nba', 'bhagwan talibanis are aatankwadi hindu condemned bhagwa taliban they are terrorist', 'or lunch kis aatankwadi saath fix tha', 'hello sanghee prof nvandematram yaad karle pahle nor nnathu godse gaddar namakharaam aatankwadi', 'konsa indian mujahid kabka khatam ho chuka he aur mughal agar aatankwadi the to kyu sal raj karn', 'aatankwadi hindu machinry jis ka mool sansthapak jawahar lal hai jis ne sab', 'magar kisi ne socha nahi ngermany ki hotel pe humla huaa ngermani ne badla liya kuch hi', 'abe bjp ka dalal jab bangladesh desh murder karne wala zakir nayak se barbhawit tha to tum go', 'aatankwadi ko marna hi chahiye aatnkwad par bath nahi karte ho armi ke hamare jwan jab sahid hote hai tab', 'ye sab karne baad congi pm ko dosh deti hai kitni tadpan hai inme notbandi ki vajah seesab pag', 'khatma kyu nahi kar dete nek sochne wali baat samne aayi nkya sabhi desh aur midiya', 'aek aatankwadi hai ya sub aatankwadi hain', 'patra ji becharo ki satta chhin li sare kaale karnaame ujagar ker diye sare algawwadi aatankwadi ris', 'hum indian kahte hai aatankwadi se humhe bachao now here terrorist are saying that save us from israel', 'aatankwadi ke upar kadi karwai horahahai pratidin', 'waha to kui vampanthi naxalwadi aatankwadi student to nehihena jase jnu ke zoo park me bhare padehai', 'rajasthan me rss ke aatankwadi ne lovejihad ke naam par gharib musalman afrazul ko zinda jala kar maar diya gaya aj mo', 'dusri baat nworld ke logo se kyi desho ki sarkar aur midiya sach chupa raha he nisis', 'anil sir indian army ki saman bhartiya janta pa', 'wo bjp ke samay me huwa tha us samay ke sarkar ki kamjor thi aatankwadi sansad parisar me kaise ghus gaye', 'kuch ghante baad yaani usi din germani ne aatankwadi thikano pe humla kiya nyah khabr mi', 'aur muslim ko badnam karne khud hi humla karwate ho naur badle me aatankwadi thikano pe', 'haha sapne dekh hindu ceo bante hai aatankwadi nahi', 'mtlb ki hawai jahaj me fanse logo ko mrne dena chahiye tha magar ek aatankwadi ko nahi chhodna tha ek', 'agar wo aatankwadi hai to videsh mantralaye unko visa kaise diya matlab sushma ji galat logon', 'aur ye baat americi lashkar ke ek jawan ne batayi nuse isis ne shamil hone ko kaha gya', 'media bhand hai it double standard media jab koi shantidoot inki mein bamboo daalega then th', 'sunaa he naaj nsanghee gaddaro njeeja jii ka birthday he abb boldo nnathu godse na', 'arey isko importance mt do ye swami om ki biwi ye hindu muslim', 'tum khud aatankwadi wala kaam karte ho aur bjp ko blame kare rahi ho tumhare raaj', 'musalmano ne salon me sab ko leader banaya lekin aaj tak musalmano ko kya mila aatankwadi ka titel deshdrohi ka titel', 'mcc aur ugrawadi karni sena ye sab gandhi ji puja karte hai ya ye aatankwadi hai', 'he would have said pakistan parast anti national aatankwadi', 'radar bhi ncamera bhi nantriksh yaan bhi ndron bhi nfighter plan bhi nsabhi aadhunik te', 'congress ka hath world ka har aatankwadi ke sath', 'jab tumhare sarkar thi tab aatankwadi jab chahe jaha chahe kar serial blast karte the tab toh tum jawab', 'aatankwadi ke sath agar congress gathbandhan karsak', 'aatankwadi se lad rahe he nagar wo kahe ham ko pahle se pta nahi tha nmatlab aatankwadi', 'bhai kal ko tum atanki ban jaoge toh modi ko kais', 'aatankwad ke khilaf ladne wale muslim me raste me adchan peda karte he nuno tak baat gyi', 'aatankwadi afzal guru ko shaheed batane wali party ko desh bhakti ka', 'bhai jignesh in aatankwadi bjp rss walun ko har hazam nahi ho rahi hai aap page raho dng', 'aatankwadi ko huro pas bhej rhy kashmir', 'aazad hindustan ka sabse pehla aatankwadi godse tha', 'hoors ki shortage chal rahi hai kya jo ab hens se kaam chalana padega aatankwadi ko', 'tabhi to aatankwadi hi delhi me betha huwa feku to dange aur aatankwadi ab kaha se aayenge', 'manmohan ji ki awaaz ab kaise nikalne lagi nkhangeess party aatankwadi supporter hai', 'bhakt kehlane se achcha aatankwadi ban jana', 'hey gadhabudhi aatankwadi to hum roj marte hain isme nya kya hai lekin jab usk', 'aatankwadi se lad rahe he nkyi aatankwadi ka khatma kar diya naur aaj bhi aatankwadi ka', 'bhai suna hoga aatankwad ke khilaf sabhi desh lad rahe he nusme sab se bada shaktishali', 'sahi baat hai pahli baar koi aatankwadi mara afzal ko bhi phansi fekuji ne hi di thi', 'jihadi media group in india makes mobilising call for islamic state fighters', 'my year old muslim pal mohammed has just joined militant jihadi terrorist group nthink he is having midlife isis', 'that is the godra moment in shambu life precipitated by jihadi depravity which when tipping points are reached every', 'hindhu karyakrtas murderd brutly for jihadi pls take action', 'this bench has done the justice to their jihadi and missionary pa', 'excellent documentary deeyah baffled why nothing of the british far right was included where jihad', 'why do pakistani people always put other pakistani people first in any situation they always put the rights of their own', 'this is new asan called butt asan only muftkhors like', 'neverforget it was mayor de blasio who stopped all nypd surveillance of mosques muslims in nyc nalso this relentless jiha', 'dear nyou have been villain in of movies you have not killed someone like this even in your notorious on', 'three islamic state militants killed attack foiled in salahuddin', 'imran khan lied through his teeth in pti fata convention he strongly backed general musharraf role in war on terror cra', 'since the accused were mis guided youths from peacefool community amp victim paresh was hindu amp', 'none right family man or women can watch voluptuous erotic condomads advertisement in fmily chanels better stop', 'since the accused were mis guided youths from peacefool community amp', 'hindus it time unite with pareshmesta nproved isis is working in india expect justice', 'would congress demand an answer from jignesh mevani over his connection with isis supporting sdpi but gujarat would be gi', 'mulle paida hi kattar hote hain jihadi sale', 'is channels are spreading how to ma', 'aneerul islam was just working for dalitmuslim unity like jihadi', 'pakistan largest bank habib bank announces investment in london during jihadi sadiq khan visit nthe bank was kicked out of', 'new report evaluates the capabilities of forces to meet the demands of conflicts involving five potential adversa', 'hindu karyakarta murderd brutly for muslim jihadi pls take', 'hindu organizations are sleeping in india ignoring hindu to christian conversion threat bigger which is bigger than', 'where were you when the kahmiri hindu holocaust was raging amp', 'onus now on amp', 'since the accused were mis guided youths from peacefool community amp', 'pakistani channels isi jihadi pakistanis always say narinder mudi modi instead of narendra modi', 'hey your prophet recommends camel pee which is scientifically proved lethal while on the othe', 'bjp leaders blamed jihadi forces for the killings who allegedly have the support of the state government and th', 'sahi hai in mullo ki desbhakto se phatti hai khud to jihadi hote hain inka dil to porkistan me rehta hai', 'don behave like pakistani jihadi behave like indian', 'puppet masters out of touch establishment feigns shock at defencesecretary gavinwilliamson kill uk jihadi', 'do not trust word the jihadi panderer nyc mayor bill dhimmi deblasio says about today terror attack in manhattan bang', 'apparently within hours of jihadi homicide bomber failing in nyc is now lecturing americans about their', 'har raat iska yahi kaam hai', 'dekh tera dost aa gaya', 'yeh dekho ek aur aa gaya', 'rahul gandhi pm hahaha sapna acha hai', 'ab main modi bhakt hoon hahaah', 'modi hi jeet gaya hhahah', 'kya zarurat hai iski sab modi ko gaali mat do', 'har har mahadev all hail god is great', 'jab dekho rona rona and rona crying all day', 'fir hum kya kar sakte hain', 'sab mar jayenge bas main zinda rahunga kon hai yeh pagal', 'iska koi kuch nahin kar sakta', 'delhi se hun main', 'chal bhaag yahan se', 'kya pagal aadmi hai idiot monster', 'bjp will win jai ram modi bhagwan', 'kya karna hai ab bol', 'sab mar jayenge bas main zinda rahunga', 'itna maar khayega man why don you understand', 'amazed at how with that face forget about intellect from where does he gets this confidenc', 'aray do lover ko road pe chor dega toh kya would entertaining hogaya', 'bhaisahab aap kya karoge galliya doge jyada see jyada block karoge yaa ho jaoge naap ka garam dimag aap ki chut', 'what tweet tanmay cant stop myslf modi big big fkn ashl srsly mean wh hs dng aubh uthk', 'jacakals howl as routine not because', 'namaste bhai sahih muslim padh raha tha maja aagaya phattehaal chutiyapa hai', '', 'namaste bhai sahih muslim padh raha tha maja aagaya phattehaal chutiyapa hai', 'how doing rally without permission answer me first lanka ravan all are dsnt exits show some', 'college nahin gaya kya kabhi', 'neech ravish jhopdi main rehta hai bailgadi main chalta hai pager use karta hai', 'pura life hindu muslim christan ka', '', 'to tumhare maniro pandit kyu nhu talent dekh kar lete hai', 'kya baat hai bhai kafi kalabaaj ho', 'or dusre desh', 'ever happened nyoutube blog fire aunty entertainment nfacebook instagram twitter blog fire aunty', 'bhai jaan bjp aur rss ke admi hai fasi dene nahi dega musalman hota to', 'thank you for enlightening me hindu raja very good musalman raja very bad', 'pulkistantv exclusive nmusalman tingu is playing hindu megastar krishna in mahabharata in response to that now', 'jiska na koi dharm na koi zat kya hindu kya musalman sab milke is ghrin kam ko pur jor birodh karna chahiye', 'in roman shukr hai ki hum hindu hain warna musalman hote to her roz ye saabit karna padta ki main musalman hoon', 'nobody knows about the actual way of worship of the complete god not even the hindu guru kaazi hazrat muhammad ram kri', 'aur mae tamam hindu sahngtan ko ye cetwoni detha hu ke ham musalman ki maa bahene ke saat aur hamre bahiyo ke saat', 'ek mahina ho chukka hai bandd hai hum par mutton ndaawaton me kha rahe hain bhindiyan ahl', 'sab aadmi hindu nahi hain sab hindu aadmi nahi hain sab aadmi mus', 'read kar dhyan se rss ka matlab anti muslim or anti religion nahi hai rashtriya swamsewak san', 'mujhe to comments dekh ye lag raha hai ki musalman ka khoon khoon hai aur hindu ka khoon lizol', 'na geeta buri na quran bura nna hindu bura na musalman bura nna khuda bura na bhagwan bura nbhaije me jo ghusa he woh shaitan bura', 'shame on musalman zahra wasim usne hindu molester ko khatre me daal diya', 'hello friends tea bechnevala ab gujarat hindu musalman name par danga karevana but gujarat ki janeta ape', '', 'didi tou hum keya karyn musalman hindu lerki se bacha faida ker tou the', 'na hum hindu na musalman sabse pehle hai hum insaan', 'aaj ke jamane main hum log dekh rahe hai ki neta log apne fayde ke liye logo ko lada rahe hai hindu musalman ko lad', 'manmohansingh hum hindu musalman ekta ko tod nhi pa rhe to ab pm pakistan ka naam lekar hme todane ki koshish', 'sanchit kuch manners sekh le apne baap se', 'woh tum muhajiron se poocho main muhajir nahi hoon aur bahut sare muhajir', 'ap jeet rahe to gujarat model pe bat keyo nahi karte jo kabhi afghanistan kabhi pakis', 'jignesh bhai aap aage bado musalman hindu dalits sab aapke saath hai hinduthwa fascist ko kujli ho rah', 'hindu atankwadi hota to desh me ak bhi musalman na hota', 'swami ji hindu main koi nahi mila jo musalman damad le aye besharam', 'yah musalman hai koi dawood hindu ko maar', 'na bhai kyuki main hindu or tu musalman', 'bhai ap dusro ko dekhngee to shyd sahi nai bn payngee ham secular bane', 'ek mahina ho chukka hai bandd hai hum par mutton ndaawaton me kha rahe hain bhindi', 'hindu musalman to bola hi nahi poor fellow', 'in roman shukr hai ki hum hindu hain warna musalman hote to her roz ye saabit karna padta ki main musalman hoon mujhe he', 'manish sharma nindia got independent not only by hindu but also by all religion cast creed so we first indian not', 'bhid jb jut nhi rhi ha aur hindu musalman mandir masjid nhi chl rha ha to naya stunt krna pada fir', 'na hum hindu na hum musalman sabse pehle hai hum insaan', 'har political party ka pet bhar rha hai hindu musalman ka issue bnakar aur hmare kitane hindu musalman bhai hai jo bhooke hai', 'hindu musalman fir suru gujarati he hum sab samaj chuke he', 'hindu musalman ki rajniti mat karo', 'musalman hypocrite hai woh duniya janti hai me bhi manta hu kyunki terrorist comes fr', 'hum na hindu na musalman sikh na isaayi hein njama mazhab ka utaren to sabhi bhai hein', 'aap sadhi ko malum hai ki ek hram ki olad jo hea modi ko pure des ka bap bta rha hai to esko kyo desdarohi nahi kha', 'kiyon koi hindu musalman ko marega kiyon koi musalman hindu ko marega uparwale ne isli', 'hardik patel tum kaun se darm se ho nhindu ya musalman nmujhe to dono me daut lag rha', 'ku ki musalmanoon bhaioon ne nhin rahengey to hinduoon khilap bjadkayega kun mere', 'bhai ap age bhadthey raho dhalith hindu musalman secular log ekattahothey bjp ko or paid media ko dar suru hogaya', 'ek musalman kashmiri kali hina jo bala ki khoobsurat uske sache dost bb do hindu bra', 'yes am christian during xmas musalman during eid hind', 'kangrsh to thik darbari kya hai nye communal kon hai ninsan ko hi', 'jignesh bhai aap aage bado musalman hindu dalits sab aapke saath hai hinduthwa fascist ko kujli', 'apraadhi apraadhi hota he medam ji hindu musalman nahi', 'phir wahi baseless baat news channel ya political leaders se reality maloom nahi hoti', 'bilkul sahi bola hr ek shaks ye sochne lgjaye to wo insan bn jaye nna hindu ma na musal', 'jignesh bhai aap aage bado musalman hindu dalits sab aapke saath hai hinduthwa fascist ko kujli', 'ha bilkul lekin inko to hindu bhi banna hai aur musalman to hai hi ye dharam ki rajnity karani hai lekin', 'bjp ka agenda kabhi vikas raha hi nai hamesa hindu musalman ram mandir or hindu dharm ko bech', 'bjb sarkar ne is desh me siwaye hindu musalman ko ladwane ke ilawa kuch nahi kiya vikas ka to namo nishan bhi nahi', 'aap hindu ho ya musalman hamare bhai ho bro and apne such kaha hum kch bat krein toh', 'actually mms spoke lot about finance economics science of course never about hindu musalman kabristan shamshan etc', 'rahulhatemodibrigade bjp ab har gandi step ko apnayenge jeetane liye pata nhi inko kyu acha lgta hai hindu mu', 'nis bsf ke jawan ko suspend kiya jae nye hindu musalman me rajniti kar rha ninko desh ki rksha ke lye', 'wo hindu musalman aur tum patel naam pe vote mang rha ndifference kya hai', 'manmohan singh speeches are in archive you can listen though they are about finance economics education science and not', 'achha smart cities bani kya kaha se badla desh salaa', 'journalists like arnab goswami have role to play in the murder of afrazul these journalists spread poisonous lies about', 'love jihad tamilnadu style in north it is communal in south it is caste which is better', 'liked video ajaz khan angry reaction on rajasthan love jihad murder case love jihad ke naam', 'sab chalta hai islam main', 'double identity hai yu', 'china has no division it is monolithic society but majority is engaged here to score with its minority on', 'you are talking as if you have written dozens of op eds on rss workers being killed victims of love', 'liar hain yeh sab', 'the perils of reverse love jihad', 'we talk about awareness and population control we ban condom ads we talk about security and safer environment', 'if legal it frankly no brainer move have your little jihad but everything you love is getting sent back to the hel', 'pagal hai kya bol raha hai', 'daaru mat pike tweet kar', 'sos please help minor girl sachdeva height ft age yrs who is daughter of close friend kidnapped under pol', 'our politicians and their followers get hot under the collar over mani shankar aiyar deplorable neech remark but', 'aisa mat bol bhai jo kaam koi nahi kar sakta vo sirf agarkar karta hai century in lords fastest fifty revers', 'in kerala junior football team vice captain jithu mohan was doused with petrol and set on fire he died after two days al', 'heena talreja was murdered by her husband adnan khan and gangraped by his friends ndint they say that love jihad is myth', 'hei kriratna our politicians their followers get hot under collar over', 'muslims are being oppressed on the basis of love jihad', 'crash landing of doctor into love jihad', 'secular ie reports rajasthan killing seems love triangle not love jihad gauri lankesh murder seems heading towards supar', 'dekh yeh kya ho raha hai', 'md afrajul migrant construction labour brutally killed with fake allegations of love jihad by hindutva funda', 'will marry me mam according to love jihad but am not the age of your so', 'love jihad in up airfox entertainment via', 'it will be easy to remind the pm that the whale moment for india started the day he took over as the pm of india', 'sab dekhte hain bolna kuch mat', 'for all those fighting for self determination lovefearlessly as in mughal azam falling in love happens it is', 'they butchered my father like an animal says daughter of muslim labourer who was hacked and burnt alive', 'man burnt alive allegedly for committing love jihad in rajasthan rajsamand the attacker filmed the act which was later', 'congrats for continuing love jihad marriage which is being certified by rss bjp', 'ji this is one kind of love jihad by vck thirumavalavan goons', 'former cji lodha sounds the bells on the alarming state of human rights in the country where people are being killed regular', 'who said bjp doesn have manifesto for gujarat nit is dadhi topi shehzada aurangzeb babar love jihad', 'liked video ki panchayat rajasthan love jihad', 'another girl gang raped by love jihadi and his friends the man salman used fake identity rajesh to trap the hind', 'added video to playlist love jihad in up airfox entertainment', 'shahnavaj ji love jihad bale nhi kya', 'well said but it applicable to killings in the name of love jihad too wish similar judgement for', 'jaise aap kisi bhi mudde me love jihad le aate ho waise hi', 'ur love jihad wards kashmir', 'bhaijaan mein itne din se dekh raha hu kahi par bhi apka koi bayan nahi hai rajsamand mein love', 'no tweets yet by trump regarding the times square bomb one about the cnn so priorities are clear just like in', 'we really value human rights asks former cji rm lodha citing cow vigilantism jihad co ogazm ht', 'shocking another muslim burnt alive in rajasthan these ghastly murders in the name of gauraksha amp', 'this is the consequence of love jihad make your daughter alert', 'saffron cyber army yelling about neech as they should but when so called hindutva warrior hacks man to death with', 'retweet mat kar post ko', 'true love jihad', 'rahul kanwal exposes rahul kanwal covering up love jihad ndon miss it', 'bravo indian bsf officer nhe is supporting murderers nwho he killed human in name of love jihad at rajasthan', 'depends what is his stand on ayodhya xian conversions love jihad can tell you mo', 'those who kill people in the name love jihad government should punish strictly irrespective of religion and caste', 'sagar tu chup rahe pitega', 'will any news channel english hindi all regional languages question the prime minister of india about so called love ji', 'md afrajul migrant construction labour brutally killed with fake allegations of love jihad by hindutva fundamentalists', 'paki should stay there hum aa gaye toh maarenge', 'yes it true many pakis made indian girls and boys name in twitter and facebook and the', 'just so knw here was supporting muslim who was being accused of love', 'man hacks labourer burns him my yesterday cartoon for', 'peaceful afrazul was angry because fascist sambhu dared to rescue victim of love jihad from liberated land of malda peac', 'never in history india has been so regressive only bigots bjp politicians can practice love jihad', 'kya pagal aadmi hai yeh', 'sos please help minor girl sachdeva height ft age yrs kidnapped under police station sahiba', 'girl from haridwar was trapped by married muslim man from muzaffarnagar pretending to be hindu when girl found out', 'we talk about awareness and population control we ban condom ads we talk about security and safer environment for', 'germany such guys are sent to merkelland to do sex jihad it called in arabic jihad al nikah this stupid ge', 'we talk about awareness and population control we ban condom ads we talk about security and safer environment for women', 'interesting to note that even when points out that the pm is silent on issues like the rajasthan love jihad sh', 'muslim labourer in rajasthan hacked and burnt to death killer records crime and sends love jihad warning nwatch newsto', 'what kind of sick mind you have that you think in such communal', 'shame on us there should be other way to stop love jihad this is really very bad', 'mr in the case of', 'sir love jihaad to aur bantaa hai happybirthdaydilipkumar', 'don know about islaam because', 'it was great witnessing you at jashn rekhta and your love jihaad explaination smashing conservat', 'namste raam raam sa ye sab hua kyu bataye kyunki love jihaad ho raha hai isliye na ho raha hai toh is', 'when sagarize ghatge does it for zahir khan it is loving jihad nwhen hadiya does it its love jihaad oksaar', 'love jihaad', 'all reports point to facts the killing was motivated by per', 'mera bharat mahan pls can come out of india pakistan mandir masjid shamshaan kabristhan mera baap tera baap st', 'love is blind mere dost hahaha', 'due to jihaad or love triangle that person was murdered and you are rewarding his family with money', 'love jihaad rajasthan humanity killer via lovejehad lovejehadcase', 'maybe he was trying reverse love jihaad', 'look at the raising number of rape love jihaad molestation on women now days don blame men alone remember pink movie', 'guess yahi sahi hai', 'number of hindus in love jihaad married muslim girls how many did the terrorist kill', 'sir love jihaad to aur bantaa hai happybirthdaydilipkumar', 'take back my condemnation of the murder saw the video again and laal was very disturbed by', 'omg jihaad', 'mera ye kehna hai aur sochna bhi hai ki aam aadmi party aap ek behtreen sarkaar hai na hindu na muslim', 'love jihaad acceptable nprem vivaah atrocity on poor minority girl', 'love jihaad got its answer', 'due to jihaad or love triangle that person was murdered and you are rewarding his family with money and govt job', 'love jihaad chutiya musalmaan ka baap', 'is love jihaad is correct', 'neta ji reverse love jihaad ka kuch intazaam krwa dijiye', 'have you seen the result actually it not you problem because you victim of love jih', 'sir person doesn kills hindu or muslim he kills love and humanity nyo', 'lovejihaad or violence mob thrashes muslim man for living with girl of different community via', 'number of hindus in love jihaad married muslim girls how many did the terrorist kill', '', 'happy birthday shahnawaz ji pure example of love jihaad', 'it means you too are going to contribute to the bjp sponsored non sense topics of hidu muslim kashmir pakista', 'no love jihaad now', 'love jihaad ke baad kiss jihaad', 'aajki nasamaj hindu ladki kalki love jihaad ka shikar hai', '', 'their property their call nonveg islamist practices dr cud be no of reasons showi', 'lovejihaad or violence mob thrashes muslim man for living with girl of different community vi', 'love jihaad rajasthan humanity killer lovejihad lovejehadcase lovejehad', 'jo rajshthan me huva vo bohot hi shrm naak love jihaad ka naam leke kisi bujurg insaan ko marna kahan ka in', 'dalaal media what written on ur passport nhindu or indian nwhy spreading hatred against muslim in', 'similarly afrazul was killed on the name of love jihaad he was father husb', 'really love being mom jihaad brings me so much joy', 'aajki nasamaj hindu ladki kalki love jihaad ka shikar hai', 'love jihaad se upar utho', 'hahahha bhai great reverse love jihaad', '', 'these are the only issues in gujrat mandir pakistan love jihaad sergical strike etc etc where is gu', 'aur kro love jihaad', 'hate politics and those people who try to divide india in the name of religi', 'don bother love jihaad will still remain myth and the community still persecuted ncontrast th', 'mera bharat mahan pls can come out of india pakistan mandir masjid shamshaan kabristhan mera baap tera baap stop think', 'amish ji kaha gya aaj apke love jihaad ka mudda', 'tum sale love jihaad kya karoge har taraf raigar milenge ab ma chod denge tumharee', 'propaganda who did about love jihaad should be punished by the supreme court of india', 'should understand that no one takes seriously love jihaad papa', 'every muslims and islam love our hindu brothers what we don have wife and children to do jihaad', 'sirji ap galat keh rhe ho yogdaan kaise nhi atankwaad bhrashtachaar hindu muslim gai gau mutra lo', 'mani shankar iyer and congi leaders will soon experience love jihaad', 'jo log love jihaad pe hlla kiye unko janna chahiye ki muqtaar abbas naqvi shehnawaj hussain ki bivi kis dharm se', 'sirji ap galat keh rhe ho yogdaan kaise nhi atankwaad bhrashtachaar hindu muslim gai gau mu', 'topic hi kya inke paas hindu muslim india pak mandir masjid cow love jihaad triple talaq surgical strike bss', 'love for jihaad vvv', 'you wouldn have to ask questions now', 'haha yes ntriple talaaq challenges the very existence of indian state ve been asking this', 'cong is against triple talaaq and halala practice thanks', 'girl is calling her parents bigots bcoz they oppose lovejihad nand want to save her from fgm burqa triple', '', 'can you write about halala triple talaaq', 'it nothing to do with muslims man are too egoistic and forgot that god created woman as equal yeah situ', 'young voters want clarity of thoughts on employment generation linking of rive', 'sad to see see support fgm halala triple talaaq lovejihad', 'asma shams interview on zee news on triple talaaq via', '', 'in st century the rights which hindu women and daughters enjoy shouldn muslims also enjoy this congress will', 'mr intelligent ninfact this dahez which call jahez is muslim thing nur nikaah', 'but it is surprising that as society we didn debate adultery laws as we did on triple talaaq or we', 'when rajiv gandhi was pm muslim women requested him for rights and to abolish triple talaaq initially he was positive', 'congexposedonayodhya nevery time kapil sibbal is defending the case against the society or against the hindu weath', 'girl is calling her parents bigots bcoz they oppose lovejihad nand want to save her from fgm burqa triple talaaq', 'in st century the rights which hindu women and daughters enjoy shouldn muslims also enjoy this congress will never', 'triple talaaq india considers jail for instant divorce', 'yes it should be dropped completely it will be better if society will start talking on adultery laws', 'special muslim lawyer rohingyas sunni waqf triple talaaq and supporting bharat tere tukde hong', 'which islamic practices of indian muslims pose challenge to the indian state to justify their subjugation and deh', 'sad to see see support fgm halala triple talaaq lovejihad', 'so still sometime for triple talaaq halala four marriages enjoy', 'it nothing to do with muslims man are too egoistic and forgot that god created woman as equal yeah situation', 'is right in calling proposed legislation on triple talaaq as arbitrary amp', 'diwali is about light not noise nthe killing of goats on eid in name of sacrifice is questioned nsat', 'when rajiv gandhi was pm muslim women requested him for rights and to abolish triple talaaq initially he was posi', 'is right in calling proposed legislation on triple talaaq as arbitrary amp', 'surprisingly he reacts to shehzad poonawala shenanigans in his poll speeches wond', 'was stunned by the way person justified all the pathetic customs of islam like triple talaaq hala', 'namaste during your visit pls explain ill effects of triple talaaq burqua fgm to the ultra conservative folks', 'is right in calling proposed legislation on triple talaaq as arbitrary amp', 'ma closely watching ur entire event nobody talked about triple talaaq', 'nlawyer has sent message on behalf of husband that divorced according to shariath no clue how and', 'so who gave rights to musl', 'ioi give kashmir islamic autonomy muslims right to practise sharia amp', 'surprisingly he reacts to shehzad poonawala shenanigans in his poll speeches wonder if he', 'triple talaaq india considers jail for instant divorce', 'the main issue is one sided triple talaaq', 'for all triple talaaq ban lovers plz support them too', 'mein triple talaaq raam mandir article', 'now no need of divorce or triple talaaq simply do not link yr adhaar you free man woman', 'triple talaaq', 'if marry man want the right to triple talaaq him', 'when will us punjes get triple talaaq without getting beaten up by those tough as nails sardarnis', 'what stupid question if man pronounces triple', 'for some hindutvavadis they shed crocodile tears on triple talaaq but turn into crocodiles when muslim is murde', 'which islamic practices of indian muslims pose challenge to the indian state to justify their subjugation and dehuma', 'halala ka pilla triple talaaq ki paidaish', 'what aspersions has he been casting he is against triple talaaq which is banned in saudi too and sch', 'are you with aarif mohamed khan do you agree that law shud be enacted to criminalise triple talaa', 'modi didn mention even once', 'triple talaaq india considers jail for instant divorce', 'shahid bhai triple talaaq pasand karte hain', 'yes he should take responsibility and so pm modi unab', 'yeh galat bat hai', 'as witness to cynical politics what is the duty of journalist', 'truth knew truth said by dr kk mohammed asi archeologist who said that babri masjid was built on top of pre', 'as witness to cynical politics what is the duty of journalist', 'rg is hurt why he being asked now abt building ramtemple when he hadn bn consulted demoli', 'the indian state should never be forgiven for not limited to thackeray state funeral babri masjid akhlaq mur', 'babrimasjiddemolition denying the plurality of the ramayana is tool for fostering hate', 'liked video azam khan speech on babri masjid', 'modi vikas in place of nfood aurangzeb job khilji price rise babri masjid hospitals nehru gandhi family housing', 'muslims destroyed temples amp', 'you the lawyer of those wanting the ram mandir or those wanting the babri masjid none of these are going', 'also agree for argument sake that the ram temple was there in the place of babri masjid but this was almos', 'mk of dmk had told tamil mus', 'alqaeda affiliate ansar ghazwat ul hind in kashmir circulating posters non babrimasjid demolition anniversary threatens', 'ram janmabhoomi babri masjid title dispute case saw war of words between the counsels of the two sides', 'what an incredible story of kar sevaks who later embraced islam babridemolition', 'babrimasjid hearing kapilsibal was supported by senior counsels for all muslim parties present and the nirmohi ak', 'rahul gandhi babri masjid chahete hai qki wo congress noya mughal baadsha aurongozeb hai jai sree raam', 'babrimasjid hearing kapilsibal was supported by senior counsels for all muslim parties present and the nirmohi akhara', 'chal will go now subah milna', 'as witness to cynical politics what is the duty of journalist senior journalist krishna pratap singh remembers the', 'never called her terroist called her separatisrmt sympathizer refer back to the tweets', 'if few days more given he will shift ayudhya and babri masjid to gujurat', 'beautifully written one of the best pieces read on this th anniversary of the demolition of the babri masjid by hi', 'want babri masjid or ram mandir pm modi asks congress vote bjp', 'sab jhooth hai all lies bloody fools', 'to khuda ki jagah manmohan ki hi pooja kara kare muslims kisne mana kiya fir kyu babri', 'first modi should tell what he wants and then he should question others but should say that nhe wants both mandir', 'development in india is due to hard work of congress government not by demolishing babri masjid gujarat violence', 'sab pagal hain yahan', 'kab samajh aayega tujhe', 'hindu journalism kya hai', 'as mongol invader babar was born in uzbekistan died in af tan my ques to supporters of babri masjid who gave bab', 'kya hai bhai teri problem', 'who said bjp doesn have manifesto for gujarat nit is dadhi topi shehzada aurangzeb babar love jihad', 'those who are today celebrating the shameful amp', 'babrimasjiddemolition denying the plurality of the ramayana is tool for fostering hate via', 'masjid mat tod', 'responsible for razing babri masjid guilt ridden karsevaks have embraced islam hindu nahin', 'the die hard beyond redemption liberals amp hindu se pyar hai', 'congresiye kabhi hindu nhi the ko kabhi ram mandir bnne nhi denge', 'aatankwadi hindu machinry jis ka mool sansthapak jawahar lal hai jis ne sab', 'sab jumla hai ise bolte hai asli jumla if he really hindu tell him', 'saudi mein mandir bana bhosdike madaarchod bahanchod', 'shia and sunni pagal hain kya chutiya mulla', 'hum sikh tumhari gaand marenge bitch randi porki', 'pappu chutiya hai mulla saala madarchod', 'abhi bhi chal raha hai yeh', 'porki chutiye sab kutte hain madarchod', 'bloody muslim chutiya gandu', 'har subah shaam muslim chutiya mar ta hai', 'muslim gaandu hain yeh sab', 'hum tumhari gaand maarenge madarchod paki muslim', 'sale sareki sare porkistan hai anti nationals and anti hindus', 'porkistan ke ladko ki st innings se satisfy ni hoti pak ki girls nd actresses isliye ind aati hain nd innings me', 'sahi hai in mullo ki desbhakto se phatti hai khud to jihadi hote hain inka dil to porkistan me rehta hai', 'behen laude tum jaise chutiye log mandir chakkar apni maa behen ko baba', 'raj babar is half katua he doesn know that haiti are also hindus and not muslims he should asked hum bata dete', 'his was also muslim his name was vaseem katua', 'meri muslima namazi family', 'muslim girls beautiful to hoti hai par inki choot bahut badi hoti koi bta skta hai kyun', 'lol aur body to burka mein muslim aurat ki but choot hours khuli rahti hai mul', 'janm se hi hun tujh jaisi rasili raand ki sulagti choot ki aag bujhane ke liye khuda ne mujhe bheja', 'hindu randim ki maa ki choot muslim lun dhond rhi hn kutiya', 'ha har rajpoot hindu ki choot par muslim lund ka naam hai', 'hindu ki choot muslim nam', 'please shiva meri muslim pakiza choot me apna bada sa hindu bina kata lund dal kr mujhe jannati bana do', 'koi hindu choot hai nmuslim lund dosti karai', 'kutiya apnay muslim malik khilaon me apni choot geeli kr rahi or chuchian rubber ki tarah naram or sak', 'hindu randim ki maa ki choot muslim lun dhond rhi hn kutiya', 'meri pakiza nmazi mom raat sy kahan ha', 'aik muslim bhai hi apki ye hijabi tehzeb dekh skta or koi ni apka hijab lajwab or hijabi choot bemisal', 'mullan ki choot fat chooki hai bete by hindu mard ranbir kapoor', 'mullan ki choot fat chooki hai bete by hindu mard ranbir kapoor and in', 'kutiya apnay muslim malik khilaon me apni choot geeli kr rahi or chuchian rubber ki tarah naram or sakht', 'hindu kuton ko meri rani priya mun nahi lagti kutay usay sirf muslim loda ch', 'koi muslim lund ha jo hindu brahmin choot ko sweekar kary raat ko ek muslim jalim ne shaanth keya tha meri choot', 'hindu ki choot muslim nam', 'madarchod kapil bucher tune dekha ramlala also chrislamist', 'chal bhag madarchod hum sirf hindu hai aur apne hindu bhaiyo sath tere jaise jaichando ki wajah se', 'har woh maszid todenge jo hindu mandir todke madarchod mughalon ne banaya hai sirf percent kattar hi', 'mugals giving land for hindu temple lol speaking as if zameen unke baap ki thi humari hi zameen ka', 'madarchod hindu dharm chod bhosdi wlae harami', 'are madarchod kutte hm hindu atankwadi hai sun madarchod ek bhi vote hinduo ka nhi mikega congress ko', 'abay madarchod apni randi hindu maa ko chod meri taraf', 'bhagwan ram ko gali dene wale hindu madarchod hai', 'yeh madarchod modi akhir kab tak mandir aur masjid ke mudde pe hindu ko ullu banayega', 'yeh madarchod januadhari hindu hai parmandir pe chup kyun hai be', 'ye sala mulla hai hindu ke naam se id bana rakhi madarchod mulle ne', 'gujrat election kaise jitoge kyoki waha hindu atankawadi madarchod sale vote hinduo ka chaiye', 'madarchod randi musalman bade bade lawde kam rahe the ky in hindu chote land walo se chudwa rahe hai rand', 'are madarchod kutte hm hindu atankwadi hai sun madarchod ek bhi vote hinduo ka nhi mikega congress ko', 'jeene hindu bhai ko yea madarchod katwa mile bina kuch bole iska garden kaat dena madarchod mulla', 'gujaratround madarchod nizami teri aukat kya hai sorry bhai tumhari hi aukat hai kyunki hum hindu dalle hai jo', 'jeene hindu bhai ko yea madarchod katwa mile bina kuch bole iska garden kaat dena madarchod mulla', 'madarchod hindu agar nahi toh traitor kaise hue behenchod', 'socho percent kattar hindu ban jayenge toh kiya hoga jai sree ram babar ek madarchod tha', 'fuck these madarchod lady madrachod teri baap or maa purvaj bhi hindu the bosdiki', 'jab bhi bharat me dange jase hindu par huye hai jase malda godhra saharanpar mujfarnagar aur hindu ka dharam pariv', 'never donate to any madarchod hindu priests they are chors and lootera', 'hello modi madarchod ak chalane wala ne beti chod ko de diya chalane ke liye or muslimo ke sath indu sarkar jadu', 'januadhari hindu ram mandir pe kuch bol kyun nahi raha hai bata madarchod', 'of musalmaan pray for such asshole jihaadi kuch karo', 'ne kitni ladkiyon ko maara hai sab hindu thi', 'what mondaymotivation jihaadi sent to meet their hoor sopore handwara probably azaadi movement will be carr', 'yeh jihaadi govt ki padaish hai', 'article why salafee ulamaa kya tum bhi jihaadi movements shaykh rabee salafiurdudawah jihadis rh', 'jihaadi john wtf no that islam hai toh hi toh yeh jihad hai', 'thackeray se itni jaldi kyu hai yar jihaadi kutto ki usne gaand mari thi isliye hehe', 'hehe kuch bhi kaho jab kashmir ke jihaadi kutto ko jeep mein maara', 'lag raha hai madam ke muh ko lakwa mar gaya apne jihaadi bhai dawood ka naam sun ke yahi reason hai', 'ye dekha tera islamic kashmiri jihaadi suar bhai jisk', 'all love jihaadi should ne killed aise hi', 'ye dekh madarjaat rand ki aullad tera islamic jihaadi', 'waise jihaadi kutte ki double maut aane wali hai', 'kya madam abhi tak apne aapne hindu ya jihaadi bhai dawood ke liye kuch nahi bola united india']\n"
          ],
          "name": "stdout"
        }
      ]
    },
    {
      "cell_type": "code",
      "metadata": {
        "id": "_V6GFlfdEuYa",
        "colab_type": "code",
        "colab": {
          "base_uri": "https://localhost:8080/",
          "height": 206
        },
        "outputId": "5ea5aebf-ca89-445a-b10d-a77188a2bfc2"
      },
      "source": [
        "cleaned = pd.DataFrame(cleaned_tweet, columns =['Tweet'])  #cleaned is turned to a dataframe\n",
        "cleaned.head()\n"
      ],
      "execution_count": 7,
      "outputs": [
        {
          "output_type": "execute_result",
          "data": {
            "text/html": [
              "<div>\n",
              "<style scoped>\n",
              "    .dataframe tbody tr th:only-of-type {\n",
              "        vertical-align: middle;\n",
              "    }\n",
              "\n",
              "    .dataframe tbody tr th {\n",
              "        vertical-align: top;\n",
              "    }\n",
              "\n",
              "    .dataframe thead th {\n",
              "        text-align: right;\n",
              "    }\n",
              "</style>\n",
              "<table border=\"1\" class=\"dataframe\">\n",
              "  <thead>\n",
              "    <tr style=\"text-align: right;\">\n",
              "      <th></th>\n",
              "      <th>Tweet</th>\n",
              "    </tr>\n",
              "  </thead>\n",
              "  <tbody>\n",
              "    <tr>\n",
              "      <th>0</th>\n",
              "      <td>haa jaise tum bhi abhi</td>\n",
              "    </tr>\n",
              "    <tr>\n",
              "      <th>1</th>\n",
              "      <td>banti hai empowered woman feminism pe gyan pel...</td>\n",
              "    </tr>\n",
              "    <tr>\n",
              "      <th>2</th>\n",
              "      <td>ab usko chhod mjse bat kr tera baap aa gya hai...</td>\n",
              "    </tr>\n",
              "    <tr>\n",
              "      <th>3</th>\n",
              "      <td>punjab in madarchodon ko khila raha hai nokria...</td>\n",
              "    </tr>\n",
              "    <tr>\n",
              "      <th>4</th>\n",
              "      <td>agar koi bole ki ja ke chill maar to madarchod...</td>\n",
              "    </tr>\n",
              "  </tbody>\n",
              "</table>\n",
              "</div>"
            ],
            "text/plain": [
              "                                               Tweet\n",
              "0                             haa jaise tum bhi abhi\n",
              "1  banti hai empowered woman feminism pe gyan pel...\n",
              "2  ab usko chhod mjse bat kr tera baap aa gya hai...\n",
              "3  punjab in madarchodon ko khila raha hai nokria...\n",
              "4  agar koi bole ki ja ke chill maar to madarchod..."
            ]
          },
          "metadata": {
            "tags": []
          },
          "execution_count": 7
        }
      ]
    },
    {
      "cell_type": "markdown",
      "metadata": {
        "id": "7ifdVpHus8NL",
        "colab_type": "text"
      },
      "source": [
        "**Function to remove stop words**"
      ]
    },
    {
      "cell_type": "code",
      "metadata": {
        "id": "GmJjjfOpqDfV",
        "colab_type": "code",
        "colab": {}
      },
      "source": [
        "def create_stopwords_set(filename):\n",
        "  stop_words = pd.read_csv(filename) \n",
        "  stop_words_list = stop_words.values.tolist()\n",
        "  new_list =[]\n",
        "  for stopword in stop_words_list:\n",
        "    for word in stopword:\n",
        "      new_list.append(word)\n",
        "  return set(new_list)\n",
        "\n",
        "set_of_stopwords = create_stopwords_set(\"Hinglish StopWords.csv\")"
      ],
      "execution_count": 8,
      "outputs": []
    },
    {
      "cell_type": "code",
      "metadata": {
        "id": "JpwvsEE-96ia",
        "colab_type": "code",
        "colab": {
          "base_uri": "https://localhost:8080/",
          "height": 206
        },
        "outputId": "3c7a3856-21f0-4baf-823a-a2addb285f9a"
      },
      "source": [
        "cleaned['Tweet'] = cleaned['Tweet'].apply(lambda x: ' '.join([word for word in x.split() if word not in set_of_stopwords]))\n",
        "cleaned.head()"
      ],
      "execution_count": 9,
      "outputs": [
        {
          "output_type": "execute_result",
          "data": {
            "text/html": [
              "<div>\n",
              "<style scoped>\n",
              "    .dataframe tbody tr th:only-of-type {\n",
              "        vertical-align: middle;\n",
              "    }\n",
              "\n",
              "    .dataframe tbody tr th {\n",
              "        vertical-align: top;\n",
              "    }\n",
              "\n",
              "    .dataframe thead th {\n",
              "        text-align: right;\n",
              "    }\n",
              "</style>\n",
              "<table border=\"1\" class=\"dataframe\">\n",
              "  <thead>\n",
              "    <tr style=\"text-align: right;\">\n",
              "      <th></th>\n",
              "      <th>Tweet</th>\n",
              "    </tr>\n",
              "  </thead>\n",
              "  <tbody>\n",
              "    <tr>\n",
              "      <th>0</th>\n",
              "      <td>haa</td>\n",
              "    </tr>\n",
              "    <tr>\n",
              "      <th>1</th>\n",
              "      <td>banti empowered woman feminism gyan pelti din ...</td>\n",
              "    </tr>\n",
              "    <tr>\n",
              "      <th>2</th>\n",
              "      <td>usko chhod mjse bat kr baap aa gya ldki beech ...</td>\n",
              "    </tr>\n",
              "    <tr>\n",
              "      <th>3</th>\n",
              "      <td>punjab madarchodon khila nokrian day imran ma</td>\n",
              "    </tr>\n",
              "    <tr>\n",
              "      <th>4</th>\n",
              "      <td>chill maar madarchod gand maar lene</td>\n",
              "    </tr>\n",
              "  </tbody>\n",
              "</table>\n",
              "</div>"
            ],
            "text/plain": [
              "                                               Tweet\n",
              "0                                                haa\n",
              "1  banti empowered woman feminism gyan pelti din ...\n",
              "2  usko chhod mjse bat kr baap aa gya ldki beech ...\n",
              "3      punjab madarchodon khila nokrian day imran ma\n",
              "4                chill maar madarchod gand maar lene"
            ]
          },
          "metadata": {
            "tags": []
          },
          "execution_count": 9
        }
      ]
    },
    {
      "cell_type": "code",
      "metadata": {
        "id": "fMqC3VcbNBQi",
        "colab_type": "code",
        "colab": {
          "base_uri": "https://localhost:8080/",
          "height": 424
        },
        "outputId": "bef2b78a-9829-4054-b271-bf008d31b7ce"
      },
      "source": [
        "#The Tweet column of the orignal dataset is replaced by the Tweet column of the cleaned dataframe\n",
        "tweets_df['Tweet'] = cleaned['Tweet'] \n",
        "tweets_df"
      ],
      "execution_count": 10,
      "outputs": [
        {
          "output_type": "execute_result",
          "data": {
            "text/html": [
              "<div>\n",
              "<style scoped>\n",
              "    .dataframe tbody tr th:only-of-type {\n",
              "        vertical-align: middle;\n",
              "    }\n",
              "\n",
              "    .dataframe tbody tr th {\n",
              "        vertical-align: top;\n",
              "    }\n",
              "\n",
              "    .dataframe thead th {\n",
              "        text-align: right;\n",
              "    }\n",
              "</style>\n",
              "<table border=\"1\" class=\"dataframe\">\n",
              "  <thead>\n",
              "    <tr style=\"text-align: right;\">\n",
              "      <th></th>\n",
              "      <th>Label</th>\n",
              "      <th>Tweet</th>\n",
              "    </tr>\n",
              "  </thead>\n",
              "  <tbody>\n",
              "    <tr>\n",
              "      <th>0</th>\n",
              "      <td>0</td>\n",
              "      <td>haa</td>\n",
              "    </tr>\n",
              "    <tr>\n",
              "      <th>1</th>\n",
              "      <td>1</td>\n",
              "      <td>banti empowered woman feminism gyan pelti din ...</td>\n",
              "    </tr>\n",
              "    <tr>\n",
              "      <th>2</th>\n",
              "      <td>1</td>\n",
              "      <td>usko chhod mjse bat kr baap aa gya ldki beech ...</td>\n",
              "    </tr>\n",
              "    <tr>\n",
              "      <th>3</th>\n",
              "      <td>1</td>\n",
              "      <td>punjab madarchodon khila nokrian day imran ma</td>\n",
              "    </tr>\n",
              "    <tr>\n",
              "      <th>4</th>\n",
              "      <td>1</td>\n",
              "      <td>chill maar madarchod gand maar lene</td>\n",
              "    </tr>\n",
              "    <tr>\n",
              "      <th>...</th>\n",
              "      <td>...</td>\n",
              "      <td>...</td>\n",
              "    </tr>\n",
              "    <tr>\n",
              "      <th>3151</th>\n",
              "      <td>1</td>\n",
              "      <td>islamic kashmiri jihaadi suar jisk</td>\n",
              "    </tr>\n",
              "    <tr>\n",
              "      <th>3152</th>\n",
              "      <td>1</td>\n",
              "      <td>love jihaadi killed</td>\n",
              "    </tr>\n",
              "    <tr>\n",
              "      <th>3153</th>\n",
              "      <td>1</td>\n",
              "      <td>madarjaat rand aullad islamic jihaadi</td>\n",
              "    </tr>\n",
              "    <tr>\n",
              "      <th>3154</th>\n",
              "      <td>1</td>\n",
              "      <td>jihaadi kutte double maut aane</td>\n",
              "    </tr>\n",
              "    <tr>\n",
              "      <th>3155</th>\n",
              "      <td>1</td>\n",
              "      <td>madam hindu jihaadi dawood united india</td>\n",
              "    </tr>\n",
              "  </tbody>\n",
              "</table>\n",
              "<p>3156 rows × 2 columns</p>\n",
              "</div>"
            ],
            "text/plain": [
              "      Label                                              Tweet\n",
              "0         0                                                haa\n",
              "1         1  banti empowered woman feminism gyan pelti din ...\n",
              "2         1  usko chhod mjse bat kr baap aa gya ldki beech ...\n",
              "3         1      punjab madarchodon khila nokrian day imran ma\n",
              "4         1                chill maar madarchod gand maar lene\n",
              "...     ...                                                ...\n",
              "3151      1                 islamic kashmiri jihaadi suar jisk\n",
              "3152      1                                love jihaadi killed\n",
              "3153      1              madarjaat rand aullad islamic jihaadi\n",
              "3154      1                     jihaadi kutte double maut aane\n",
              "3155      1            madam hindu jihaadi dawood united india\n",
              "\n",
              "[3156 rows x 2 columns]"
            ]
          },
          "metadata": {
            "tags": []
          },
          "execution_count": 10
        }
      ]
    },
    {
      "cell_type": "code",
      "metadata": {
        "id": "LWE3_h1-hMxz",
        "colab_type": "code",
        "colab": {}
      },
      "source": [
        "tweets_df.to_csv('Cleaned Tweets.csv')"
      ],
      "execution_count": 11,
      "outputs": []
    },
    {
      "cell_type": "code",
      "metadata": {
        "id": "K9kPbl9bnJvx",
        "colab_type": "code",
        "colab": {
          "base_uri": "https://localhost:8080/",
          "height": 424
        },
        "outputId": "92a35563-9bd6-48fe-8f70-10ded9632cf1"
      },
      "source": [
        "tweets_df.dropna(inplace = True)\n",
        "tweets_df"
      ],
      "execution_count": 12,
      "outputs": [
        {
          "output_type": "execute_result",
          "data": {
            "text/html": [
              "<div>\n",
              "<style scoped>\n",
              "    .dataframe tbody tr th:only-of-type {\n",
              "        vertical-align: middle;\n",
              "    }\n",
              "\n",
              "    .dataframe tbody tr th {\n",
              "        vertical-align: top;\n",
              "    }\n",
              "\n",
              "    .dataframe thead th {\n",
              "        text-align: right;\n",
              "    }\n",
              "</style>\n",
              "<table border=\"1\" class=\"dataframe\">\n",
              "  <thead>\n",
              "    <tr style=\"text-align: right;\">\n",
              "      <th></th>\n",
              "      <th>Label</th>\n",
              "      <th>Tweet</th>\n",
              "    </tr>\n",
              "  </thead>\n",
              "  <tbody>\n",
              "    <tr>\n",
              "      <th>0</th>\n",
              "      <td>0</td>\n",
              "      <td>haa</td>\n",
              "    </tr>\n",
              "    <tr>\n",
              "      <th>1</th>\n",
              "      <td>1</td>\n",
              "      <td>banti empowered woman feminism gyan pelti din ...</td>\n",
              "    </tr>\n",
              "    <tr>\n",
              "      <th>2</th>\n",
              "      <td>1</td>\n",
              "      <td>usko chhod mjse bat kr baap aa gya ldki beech ...</td>\n",
              "    </tr>\n",
              "    <tr>\n",
              "      <th>3</th>\n",
              "      <td>1</td>\n",
              "      <td>punjab madarchodon khila nokrian day imran ma</td>\n",
              "    </tr>\n",
              "    <tr>\n",
              "      <th>4</th>\n",
              "      <td>1</td>\n",
              "      <td>chill maar madarchod gand maar lene</td>\n",
              "    </tr>\n",
              "    <tr>\n",
              "      <th>...</th>\n",
              "      <td>...</td>\n",
              "      <td>...</td>\n",
              "    </tr>\n",
              "    <tr>\n",
              "      <th>3151</th>\n",
              "      <td>1</td>\n",
              "      <td>islamic kashmiri jihaadi suar jisk</td>\n",
              "    </tr>\n",
              "    <tr>\n",
              "      <th>3152</th>\n",
              "      <td>1</td>\n",
              "      <td>love jihaadi killed</td>\n",
              "    </tr>\n",
              "    <tr>\n",
              "      <th>3153</th>\n",
              "      <td>1</td>\n",
              "      <td>madarjaat rand aullad islamic jihaadi</td>\n",
              "    </tr>\n",
              "    <tr>\n",
              "      <th>3154</th>\n",
              "      <td>1</td>\n",
              "      <td>jihaadi kutte double maut aane</td>\n",
              "    </tr>\n",
              "    <tr>\n",
              "      <th>3155</th>\n",
              "      <td>1</td>\n",
              "      <td>madam hindu jihaadi dawood united india</td>\n",
              "    </tr>\n",
              "  </tbody>\n",
              "</table>\n",
              "<p>3156 rows × 2 columns</p>\n",
              "</div>"
            ],
            "text/plain": [
              "      Label                                              Tweet\n",
              "0         0                                                haa\n",
              "1         1  banti empowered woman feminism gyan pelti din ...\n",
              "2         1  usko chhod mjse bat kr baap aa gya ldki beech ...\n",
              "3         1      punjab madarchodon khila nokrian day imran ma\n",
              "4         1                chill maar madarchod gand maar lene\n",
              "...     ...                                                ...\n",
              "3151      1                 islamic kashmiri jihaadi suar jisk\n",
              "3152      1                                love jihaadi killed\n",
              "3153      1              madarjaat rand aullad islamic jihaadi\n",
              "3154      1                     jihaadi kutte double maut aane\n",
              "3155      1            madam hindu jihaadi dawood united india\n",
              "\n",
              "[3156 rows x 2 columns]"
            ]
          },
          "metadata": {
            "tags": []
          },
          "execution_count": 12
        }
      ]
    },
    {
      "cell_type": "markdown",
      "metadata": {
        "id": "NrIygpYTKBCT",
        "colab_type": "text"
      },
      "source": [
        "## **EXTRACTION OF FEATURES FROM THE DATA SET**"
      ]
    },
    {
      "cell_type": "markdown",
      "metadata": {
        "id": "AlIFa59ynPQ_",
        "colab_type": "text"
      },
      "source": [
        "Splitting the clean Dataset into Train and Test in 80:20 ratio"
      ]
    },
    {
      "cell_type": "code",
      "metadata": {
        "id": "hf1VAINDnSqw",
        "colab_type": "code",
        "colab": {}
      },
      "source": [
        "from sklearn.model_selection import train_test_split\n",
        "train, test = train_test_split(tweets_df, test_size=0.2)"
      ],
      "execution_count": 13,
      "outputs": []
    },
    {
      "cell_type": "code",
      "metadata": {
        "id": "jRaTY-xqnXLK",
        "colab_type": "code",
        "colab": {}
      },
      "source": [
        "#save the test set\n",
        "test.to_csv(\"test.csv\")"
      ],
      "execution_count": 14,
      "outputs": []
    },
    {
      "cell_type": "markdown",
      "metadata": {
        "id": "gROisTlIRcyF",
        "colab_type": "text"
      },
      "source": [
        "**Bag of word features**"
      ]
    },
    {
      "cell_type": "code",
      "metadata": {
        "id": "OLLSR11Zneok",
        "colab_type": "code",
        "colab": {}
      },
      "source": [
        "from sklearn.feature_extraction.text import CountVectorizer\n",
        "bow_vectorizer = CountVectorizer()\n",
        "train_bow = bow_vectorizer.fit_transform(train['Tweet'])"
      ],
      "execution_count": 15,
      "outputs": []
    },
    {
      "cell_type": "code",
      "metadata": {
        "id": "5VOCSvYtngOm",
        "colab_type": "code",
        "colab": {}
      },
      "source": [
        "test_bow = bow_vectorizer.transform(test['Tweet'])"
      ],
      "execution_count": 16,
      "outputs": []
    },
    {
      "cell_type": "markdown",
      "metadata": {
        "id": "mnLDqAasnnqa",
        "colab_type": "text"
      },
      "source": [
        "**TF-IDF Features**"
      ]
    },
    {
      "cell_type": "code",
      "metadata": {
        "id": "kpPMtL4fnmjm",
        "colab_type": "code",
        "colab": {}
      },
      "source": [
        "from sklearn.feature_extraction.text import TfidfVectorizer\n",
        "tfidf_vectorizer = TfidfVectorizer()\n",
        "# TF-IDF feature matrix\n",
        "train_tfidf = tfidf_vectorizer.fit_transform(train['Tweet'])"
      ],
      "execution_count": 17,
      "outputs": []
    },
    {
      "cell_type": "code",
      "metadata": {
        "id": "lTMD5VfrnrH_",
        "colab_type": "code",
        "colab": {}
      },
      "source": [
        "test_tfidf = tfidf_vectorizer.transform(test['Tweet'])"
      ],
      "execution_count": 18,
      "outputs": []
    },
    {
      "cell_type": "markdown",
      "metadata": {
        "id": "oOuE375cnwfQ",
        "colab_type": "text"
      },
      "source": [
        "# **Model Building**"
      ]
    },
    {
      "cell_type": "markdown",
      "metadata": {
        "id": "w3AO0MGNn3yE",
        "colab_type": "text"
      },
      "source": [
        "splitting data into training and validation set"
      ]
    },
    {
      "cell_type": "code",
      "metadata": {
        "id": "YJoxgc0tntZl",
        "colab_type": "code",
        "colab": {}
      },
      "source": [
        "#splitting the bow features\n",
        "xtrain_bow, xvalid_bow, ytrain_bow, yvalid_bow = train_test_split(train_bow, train['Label'], random_state=1000, test_size=0.1)"
      ],
      "execution_count": 19,
      "outputs": []
    },
    {
      "cell_type": "code",
      "metadata": {
        "id": "tL0F8J2in8t1",
        "colab_type": "code",
        "colab": {}
      },
      "source": [
        "#splitting the tfidf features\n",
        "xtrain_tfidf, xvalid_tfidf, ytrain_tfidf, yvalid_tfidf = train_test_split(train_tfidf, train['Label'], random_state=1000, test_size = 0.1)"
      ],
      "execution_count": 20,
      "outputs": []
    },
    {
      "cell_type": "markdown",
      "metadata": {
        "id": "oiGeBllVoAHL",
        "colab_type": "text"
      },
      "source": [
        "**1. Logistic Regression**"
      ]
    },
    {
      "cell_type": "code",
      "metadata": {
        "id": "pYVxCl7yoCtU",
        "colab_type": "code",
        "colab": {}
      },
      "source": [
        "from sklearn.linear_model import LogisticRegression\n",
        "from sklearn.model_selection import train_test_split\n",
        "from sklearn.metrics import f1_score, confusion_matrix, accuracy_score, precision_score, recall_score\n",
        "\n",
        "import numpy as np"
      ],
      "execution_count": 21,
      "outputs": []
    },
    {
      "cell_type": "markdown",
      "metadata": {
        "id": "veeRYaS6oHJe",
        "colab_type": "text"
      },
      "source": [
        "**Using Bag-of-Words features**"
      ]
    },
    {
      "cell_type": "code",
      "metadata": {
        "id": "jQagGFFQoJAY",
        "colab_type": "code",
        "colab": {}
      },
      "source": [
        "logistic_classifier_bow = LogisticRegression()\n",
        "logistic_classifier_bow.fit(xtrain_bow, ytrain_bow)\n",
        "\n",
        "#predicting on the validation set\n",
        "prediction_bow = logistic_classifier_bow.predict_proba(xvalid_bow)\n",
        "prediction_bow_int = prediction_bow[:,1] >= 0.6\n",
        "prediction_bow_int = prediction_bow_int.astype(np.int)"
      ],
      "execution_count": 22,
      "outputs": []
    },
    {
      "cell_type": "markdown",
      "metadata": {
        "id": "eAl-fNSUoUFt",
        "colab_type": "text"
      },
      "source": [
        "Printing out the metrics of performance measure for the Bag of Word features"
      ]
    },
    {
      "cell_type": "code",
      "metadata": {
        "id": "7S6G0DK1oQzL",
        "colab_type": "code",
        "colab": {
          "base_uri": "https://localhost:8080/",
          "height": 121
        },
        "outputId": "607033f4-5202-4855-fbe7-6e7024a0a708"
      },
      "source": [
        "print(\"F1 Score= \", f1_score(yvalid_bow, prediction_bow_int)) # calculating f1 score\n",
        "print(confusion_matrix(yvalid_bow, prediction_bow_int))\n",
        "print(\"Accuracy Score= \", accuracy_score(yvalid_bow, prediction_bow_int))\n",
        "print(\"Precision Score= \", precision_score(yvalid_bow, prediction_bow_int))\n",
        "print(\"Recall Score= \", recall_score(yvalid_bow, prediction_bow_int))"
      ],
      "execution_count": 23,
      "outputs": [
        {
          "output_type": "stream",
          "text": [
            "F1 Score=  0.9006622516556292\n",
            "[[ 87   8]\n",
            " [ 22 136]]\n",
            "Accuracy Score=  0.8814229249011858\n",
            "Precision Score=  0.9444444444444444\n",
            "Recall Score=  0.8607594936708861\n"
          ],
          "name": "stdout"
        }
      ]
    },
    {
      "cell_type": "markdown",
      "metadata": {
        "id": "3aSSXJ1YoZcQ",
        "colab_type": "text"
      },
      "source": [
        "Testing the performance of the BoW Logistic Regression model on the Test set"
      ]
    },
    {
      "cell_type": "code",
      "metadata": {
        "id": "FficQmyooaID",
        "colab_type": "code",
        "colab": {}
      },
      "source": [
        "test_bow_prediction = logistic_classifier_bow.predict_proba(test_bow)\n",
        "test_bow_prediction_int = test_bow_prediction[:, 1] >= 0.6\n",
        "test_bow_prediction_int = test_bow_prediction_int.astype(np.int)"
      ],
      "execution_count": 24,
      "outputs": []
    },
    {
      "cell_type": "code",
      "metadata": {
        "id": "gxeWUix5ogGl",
        "colab_type": "code",
        "colab": {
          "base_uri": "https://localhost:8080/",
          "height": 121
        },
        "outputId": "5b233853-269c-42af-d140-75ed21e9ccc6"
      },
      "source": [
        "print(\"F1 Score= \", f1_score(test['Label'], test_bow_prediction_int)) \n",
        "print(confusion_matrix(test['Label'], test_bow_prediction_int))\n",
        "print(\"Accuracy Score= \", accuracy_score(test['Label'], test_bow_prediction_int))\n",
        "print(\"Precision Score= \", precision_score(test['Label'], test_bow_prediction_int))\n",
        "print(\"Recall Score= \", recall_score(test['Label'],test_bow_prediction_int))"
      ],
      "execution_count": 25,
      "outputs": [
        {
          "output_type": "stream",
          "text": [
            "F1 Score=  0.9174757281553398\n",
            "[[186  19]\n",
            " [ 49 378]]\n",
            "Accuracy Score=  0.8924050632911392\n",
            "Precision Score=  0.9521410579345088\n",
            "Recall Score=  0.8852459016393442\n"
          ],
          "name": "stdout"
        }
      ]
    },
    {
      "cell_type": "markdown",
      "metadata": {
        "id": "sMta8bFkohjX",
        "colab_type": "text"
      },
      "source": [
        "**Using TF-IDF Features**"
      ]
    },
    {
      "cell_type": "code",
      "metadata": {
        "id": "-hx2RFgAog0e",
        "colab_type": "code",
        "colab": {}
      },
      "source": [
        "logistic_classifier_tfidf = LogisticRegression()\n",
        "logistic_classifier_tfidf.fit(xtrain_tfidf, ytrain_tfidf)\n",
        "\n",
        "#predicting on the validation set\n",
        "prediction_tfidf = logistic_classifier_tfidf.predict_proba(xvalid_bow)\n",
        "prediction_tfidf_int = prediction_tfidf[:, 1] >= 0.6\n",
        "prediction_tfidf_int = prediction_tfidf_int.astype(np.int)"
      ],
      "execution_count": 26,
      "outputs": []
    },
    {
      "cell_type": "markdown",
      "metadata": {
        "id": "vc2R2zIYotr0",
        "colab_type": "text"
      },
      "source": [
        "Printing out the metrics of performance measure for the TF-IDF features"
      ]
    },
    {
      "cell_type": "code",
      "metadata": {
        "id": "91zldeJTorGv",
        "colab_type": "code",
        "colab": {
          "base_uri": "https://localhost:8080/",
          "height": 121
        },
        "outputId": "df95bb4e-14b6-46d8-8d2b-592b0d36c8dc"
      },
      "source": [
        "print(\"F1 Score= \", f1_score(yvalid_tfidf, prediction_tfidf_int))\n",
        "print(confusion_matrix(yvalid_tfidf, prediction_tfidf_int))\n",
        "print(\"Accuracy Score= \", accuracy_score(yvalid_tfidf, prediction_tfidf_int))\n",
        "print(\"Precision Score= \", precision_score(yvalid_tfidf, prediction_tfidf_int))\n",
        "print(\"Recall Score= \", recall_score(yvalid_tfidf, prediction_tfidf_int))"
      ],
      "execution_count": 27,
      "outputs": [
        {
          "output_type": "stream",
          "text": [
            "F1 Score=  0.910828025477707\n",
            "[[ 82  13]\n",
            " [ 15 143]]\n",
            "Accuracy Score=  0.8893280632411067\n",
            "Precision Score=  0.9166666666666666\n",
            "Recall Score=  0.9050632911392406\n"
          ],
          "name": "stdout"
        }
      ]
    },
    {
      "cell_type": "markdown",
      "metadata": {
        "id": "CtqxGf_Zo2BO",
        "colab_type": "text"
      },
      "source": [
        "Testing the performance of the TF-IDF Logistic Regression Model on the test set"
      ]
    },
    {
      "cell_type": "code",
      "metadata": {
        "id": "PR4qMLNWo1QJ",
        "colab_type": "code",
        "colab": {}
      },
      "source": [
        "test_tfidf_prediction = logistic_classifier_tfidf.predict_proba(test_tfidf)\n",
        "test_tfidf_prediction_int = test_tfidf_prediction[:, 1] >= 0.6\n",
        "test_tfidf_prediction_int = test_tfidf_prediction_int.astype(np.int)"
      ],
      "execution_count": 28,
      "outputs": []
    },
    {
      "cell_type": "code",
      "metadata": {
        "id": "zuYm44elo4oK",
        "colab_type": "code",
        "colab": {
          "base_uri": "https://localhost:8080/",
          "height": 121
        },
        "outputId": "82e084d2-0e7c-435c-ea92-ee2856d59871"
      },
      "source": [
        "print(\"F1 Score= \", f1_score(test['Label'], test_tfidf_prediction_int))\n",
        "print(confusion_matrix(test['Label'], test_tfidf_prediction_int))\n",
        "print(\"Accuracy Score= \", accuracy_score(test['Label'], test_tfidf_prediction_int))\n",
        "print(\"Precision Score= \", precision_score(test['Label'], test_tfidf_prediction_int))\n",
        "print(\"Recall Score= \", recall_score(test['Label'], test_tfidf_prediction_int))"
      ],
      "execution_count": 29,
      "outputs": [
        {
          "output_type": "stream",
          "text": [
            "F1 Score=  0.923444976076555\n",
            "[[182  23]\n",
            " [ 41 386]]\n",
            "Accuracy Score=  0.8987341772151899\n",
            "Precision Score=  0.9437652811735942\n",
            "Recall Score=  0.9039812646370023\n"
          ],
          "name": "stdout"
        }
      ]
    },
    {
      "cell_type": "markdown",
      "metadata": {
        "id": "USfVI-1Jo6ZI",
        "colab_type": "text"
      },
      "source": [
        "**2. Support Vector Machine**"
      ]
    },
    {
      "cell_type": "code",
      "metadata": {
        "id": "m_9Y5ywEo9KL",
        "colab_type": "code",
        "colab": {}
      },
      "source": [
        "from sklearn import svm"
      ],
      "execution_count": 30,
      "outputs": []
    },
    {
      "cell_type": "markdown",
      "metadata": {
        "id": "bU7vQqKKo_jo",
        "colab_type": "text"
      },
      "source": [
        "Using Bag of Words Features"
      ]
    },
    {
      "cell_type": "code",
      "metadata": {
        "id": "ntIvFk27pB15",
        "colab_type": "code",
        "colab": {}
      },
      "source": [
        "svc_bow = svm.SVC(kernel='linear', C=1, probability=True).fit(xtrain_bow, ytrain_bow)\n",
        "\n",
        "prediction_svc = svc_bow.predict_proba(xvalid_bow)\n",
        "prediction_svc_int = prediction_svc[:,1] >= 0.6\n",
        "prediction_svc_int = prediction_svc_int.astype(np.int)"
      ],
      "execution_count": 31,
      "outputs": []
    },
    {
      "cell_type": "markdown",
      "metadata": {
        "id": "XyGNyItepENk",
        "colab_type": "text"
      },
      "source": [
        "Printing out the metrics of performance measure for the BoW features"
      ]
    },
    {
      "cell_type": "code",
      "metadata": {
        "id": "8o9lZSEkpIXJ",
        "colab_type": "code",
        "colab": {
          "base_uri": "https://localhost:8080/",
          "height": 121
        },
        "outputId": "9041f5d9-a24a-45a5-b3f6-bd615a8068a7"
      },
      "source": [
        "print(\"F1 Score= \", f1_score(yvalid_bow, prediction_svc_int))\n",
        "print(confusion_matrix(yvalid_bow, prediction_svc_int))\n",
        "print(\"Accuracy Score= \", accuracy_score(yvalid_bow, prediction_svc_int))\n",
        "print(\"Precision Score= \", precision_score(yvalid_bow, prediction_svc_int))\n",
        "print(\"Recall Score= \", recall_score(yvalid_bow, prediction_svc_int))"
      ],
      "execution_count": 32,
      "outputs": [
        {
          "output_type": "stream",
          "text": [
            "F1 Score=  0.926517571884984\n",
            "[[ 85  10]\n",
            " [ 13 145]]\n",
            "Accuracy Score=  0.9090909090909091\n",
            "Precision Score=  0.9354838709677419\n",
            "Recall Score=  0.9177215189873418\n"
          ],
          "name": "stdout"
        }
      ]
    },
    {
      "cell_type": "markdown",
      "metadata": {
        "id": "yYsVSqmPpLpV",
        "colab_type": "text"
      },
      "source": [
        "Testing the performance of BoW SVM"
      ]
    },
    {
      "cell_type": "code",
      "metadata": {
        "id": "NCAxcqt3pLFD",
        "colab_type": "code",
        "colab": {}
      },
      "source": [
        "test_bow_prediction_SVM = svc_bow.predict_proba(test_bow)\n",
        "test_bow_prediction_SVM_int = test_bow_prediction_SVM[:, 1] >= 0.6\n",
        "test_bow_prediction_SVM_int = test_bow_prediction_SVM_int.astype(np.int)"
      ],
      "execution_count": 33,
      "outputs": []
    },
    {
      "cell_type": "code",
      "metadata": {
        "id": "8qWyf9lPpSzp",
        "colab_type": "code",
        "colab": {
          "base_uri": "https://localhost:8080/",
          "height": 121
        },
        "outputId": "0ac6a9c7-2406-472f-c396-4ae943151ad9"
      },
      "source": [
        "print(\"F1 Score= \", f1_score(test['Label'], test_bow_prediction_SVM_int))\n",
        "print(confusion_matrix(test['Label'], test_bow_prediction_SVM_int))\n",
        "print(\"Accuracy Score= \", accuracy_score(test['Label'], test_bow_prediction_SVM_int))\n",
        "print(\"Precision Score= \", precision_score(test['Label'], test_bow_prediction_SVM_int))\n",
        "print(\"Recall Score= \", recall_score(test['Label'], test_bow_prediction_SVM_int))"
      ],
      "execution_count": 34,
      "outputs": [
        {
          "output_type": "stream",
          "text": [
            "F1 Score=  0.9182692307692307\n",
            "[[182  23]\n",
            " [ 45 382]]\n",
            "Accuracy Score=  0.8924050632911392\n",
            "Precision Score=  0.9432098765432099\n",
            "Recall Score=  0.8946135831381733\n"
          ],
          "name": "stdout"
        }
      ]
    },
    {
      "cell_type": "markdown",
      "metadata": {
        "id": "Gn0h4Pp7pYtV",
        "colab_type": "text"
      },
      "source": [
        "Using TF-IDF Features"
      ]
    },
    {
      "cell_type": "code",
      "metadata": {
        "id": "40kyxjqvpbO-",
        "colab_type": "code",
        "colab": {}
      },
      "source": [
        "svc_tfidf = svm.SVC(kernel='linear', C=1, probability=True).fit(xtrain_tfidf, ytrain_tfidf)\n",
        "prediction_tfidf_svc = svc_tfidf.predict_proba(xvalid_tfidf)\n",
        "prediction_tfidf_svc_int = prediction_tfidf_svc[:,1] >= 0.6\n",
        "prediction_tfidf_svc_int = prediction_tfidf_svc_int.astype(np.int)"
      ],
      "execution_count": 35,
      "outputs": []
    },
    {
      "cell_type": "markdown",
      "metadata": {
        "id": "pzosgAJ_pcIB",
        "colab_type": "text"
      },
      "source": [
        "Printing out the metrics of performance measure for the TFIDF features"
      ]
    },
    {
      "cell_type": "code",
      "metadata": {
        "id": "uiPxvknmpcWm",
        "colab_type": "code",
        "colab": {
          "base_uri": "https://localhost:8080/",
          "height": 121
        },
        "outputId": "d6d9db69-a4f1-4f9c-c54e-e5b99ffc6e48"
      },
      "source": [
        "print(\"F1 Score= \", f1_score(yvalid_tfidf, prediction_tfidf_svc_int))\n",
        "print(confusion_matrix(yvalid_tfidf, prediction_tfidf_svc_int))\n",
        "print(\"Accuracy Score= \", accuracy_score(yvalid_tfidf, prediction_tfidf_svc_int))\n",
        "print(\"Precision Score= \", precision_score(yvalid_tfidf, prediction_tfidf_svc_int))\n",
        "print(\"Recall Score= \", recall_score(yvalid_tfidf, prediction_tfidf_svc_int))"
      ],
      "execution_count": 36,
      "outputs": [
        {
          "output_type": "stream",
          "text": [
            "F1 Score=  0.9032258064516129\n",
            "[[ 83  12]\n",
            " [ 18 140]]\n",
            "Accuracy Score=  0.8814229249011858\n",
            "Precision Score=  0.9210526315789473\n",
            "Recall Score=  0.8860759493670886\n"
          ],
          "name": "stdout"
        }
      ]
    },
    {
      "cell_type": "markdown",
      "metadata": {
        "id": "GiH972V9peRy",
        "colab_type": "text"
      },
      "source": [
        "Testing the performance of TF-IDF SVM"
      ]
    },
    {
      "cell_type": "code",
      "metadata": {
        "id": "yzD9g0VBph-7",
        "colab_type": "code",
        "colab": {}
      },
      "source": [
        "test_tfidf_prediction_SVM = svc_tfidf.predict_proba(test_tfidf)\n",
        "test_tfidf_prediction_SVM_int = test_tfidf_prediction_SVM[:, 1] >= 0.6\n",
        "test_tfidf_prediction_SVM_int = test_tfidf_prediction_SVM_int.astype(np.int)"
      ],
      "execution_count": 37,
      "outputs": []
    },
    {
      "cell_type": "code",
      "metadata": {
        "id": "22QBOnrLpi3C",
        "colab_type": "code",
        "colab": {
          "base_uri": "https://localhost:8080/",
          "height": 121
        },
        "outputId": "f526dce8-876a-477c-d916-a92d7650938b"
      },
      "source": [
        "print(\"F1 Score= \", f1_score(test['Label'], test_tfidf_prediction_SVM_int))\n",
        "print(confusion_matrix(test['Label'], test_tfidf_prediction_SVM_int))\n",
        "print(\"Accuracy Score= \", accuracy_score(test['Label'], test_tfidf_prediction_SVM_int))\n",
        "print(\"Precision Score= \", precision_score(test['Label'], test_tfidf_prediction_SVM_int))\n",
        "print(\"Recall Score= \", recall_score(test['Label'], test_tfidf_prediction_SVM_int))"
      ],
      "execution_count": 38,
      "outputs": [
        {
          "output_type": "stream",
          "text": [
            "F1 Score=  0.9140164899882214\n",
            "[[171  34]\n",
            " [ 39 388]]\n",
            "Accuracy Score=  0.884493670886076\n",
            "Precision Score=  0.919431279620853\n",
            "Recall Score=  0.9086651053864169\n"
          ],
          "name": "stdout"
        }
      ]
    },
    {
      "cell_type": "markdown",
      "metadata": {
        "id": "07gtY9S5ppw2",
        "colab_type": "text"
      },
      "source": [
        "**3. Random Forrest Classifier**"
      ]
    },
    {
      "cell_type": "code",
      "metadata": {
        "id": "7QlJxo3xpvH1",
        "colab_type": "code",
        "colab": {}
      },
      "source": [
        "from sklearn.ensemble import RandomForestClassifier"
      ],
      "execution_count": 39,
      "outputs": []
    },
    {
      "cell_type": "markdown",
      "metadata": {
        "id": "ASid3lMNps2c",
        "colab_type": "text"
      },
      "source": [
        "Using BoW features"
      ]
    },
    {
      "cell_type": "code",
      "metadata": {
        "id": "W24bcQ4ppt2Q",
        "colab_type": "code",
        "colab": {}
      },
      "source": [
        "rf = RandomForestClassifier(n_estimators=50, random_state=11).fit(xtrain_bow, ytrain_bow)\n",
        "\n",
        "prediction_bow_rf = rf.predict_proba(xvalid_bow)\n",
        "prediction_bow_rf_int = prediction_bow_rf[:,1] >= 0.6\n",
        "prediction_bow_rf_int = prediction_bow_rf_int.astype(np.int)"
      ],
      "execution_count": 40,
      "outputs": []
    },
    {
      "cell_type": "markdown",
      "metadata": {
        "id": "jMsTkT33p7mU",
        "colab_type": "text"
      },
      "source": [
        "Printing out the metrics of performance measure for the BoW features"
      ]
    },
    {
      "cell_type": "code",
      "metadata": {
        "id": "RYldqYZ4p6rK",
        "colab_type": "code",
        "colab": {
          "base_uri": "https://localhost:8080/",
          "height": 121
        },
        "outputId": "765d3bf8-0871-4deb-e1ce-3ee4cfb97e01"
      },
      "source": [
        "print(\"F1 Score= \", f1_score(yvalid_bow, prediction_bow_rf_int))\n",
        "print(confusion_matrix(yvalid_bow, prediction_bow_rf_int))\n",
        "print(\"Accuracy Score= \", accuracy_score(yvalid_bow, prediction_bow_rf_int))\n",
        "print(\"Precision Score= \", precision_score(yvalid_bow, prediction_bow_rf_int))\n",
        "print(\"Recall Score= \", recall_score(yvalid_bow, prediction_bow_rf_int))"
      ],
      "execution_count": 41,
      "outputs": [
        {
          "output_type": "stream",
          "text": [
            "F1 Score=  0.9133333333333333\n",
            "[[ 90   5]\n",
            " [ 21 137]]\n",
            "Accuracy Score=  0.8972332015810277\n",
            "Precision Score=  0.9647887323943662\n",
            "Recall Score=  0.8670886075949367\n"
          ],
          "name": "stdout"
        }
      ]
    },
    {
      "cell_type": "markdown",
      "metadata": {
        "id": "Igft2G7nqNdS",
        "colab_type": "text"
      },
      "source": [
        "Testing the performance of BoW Random Forest Classifier"
      ]
    },
    {
      "cell_type": "code",
      "metadata": {
        "id": "EH5mVhsHqOTL",
        "colab_type": "code",
        "colab": {}
      },
      "source": [
        "test_bow_prediction_rf = rf.predict_proba(test_bow)\n",
        "test_bow_prediction_rf_int = test_bow_prediction_rf[:, 1] >= 0.6\n",
        "test_bow_prediction_rf_int = test_bow_prediction_rf_int.astype(np.int)"
      ],
      "execution_count": 42,
      "outputs": []
    },
    {
      "cell_type": "code",
      "metadata": {
        "id": "vOI2mo6OqPEH",
        "colab_type": "code",
        "colab": {
          "base_uri": "https://localhost:8080/",
          "height": 121
        },
        "outputId": "fd4b71d4-8b5b-485c-e26d-84ff8bd37060"
      },
      "source": [
        "print(\"F1 Score= \", f1_score(test['Label'], test_bow_prediction_rf_int))\n",
        "print(confusion_matrix(test['Label'], test_bow_prediction_rf_int))\n",
        "print(\"Accuracy Score= \", accuracy_score(test['Label'], test_bow_prediction_rf_int))\n",
        "print(\"Precision Score= \", precision_score(test['Label'], test_bow_prediction_rf_int))\n",
        "print(\"Recall Score= \", recall_score(test['Label'],test_bow_prediction_rf_int))"
      ],
      "execution_count": 43,
      "outputs": [
        {
          "output_type": "stream",
          "text": [
            "F1 Score=  0.8981132075471698\n",
            "[[194  11]\n",
            " [ 70 357]]\n",
            "Accuracy Score=  0.8718354430379747\n",
            "Precision Score=  0.970108695652174\n",
            "Recall Score=  0.8360655737704918\n"
          ],
          "name": "stdout"
        }
      ]
    },
    {
      "cell_type": "markdown",
      "metadata": {
        "id": "gsjNeGgHrcVr",
        "colab_type": "text"
      },
      "source": [
        "Using TF-IDF features"
      ]
    },
    {
      "cell_type": "code",
      "metadata": {
        "id": "JlENklp2rbqN",
        "colab_type": "code",
        "colab": {}
      },
      "source": [
        "rf_tfidf = RandomForestClassifier(n_estimators=50, random_state=11).fit(xtrain_tfidf, ytrain_tfidf)\n",
        "\n",
        "prediction_tfidf_rf = rf_tfidf.predict_proba(xvalid_tfidf)\n",
        "prediction_tfidf_rf_int = prediction_tfidf_rf[:,1] >= 0.6\n",
        "prediction_tfidf_rf_int = prediction_tfidf_rf_int.astype(np.int)"
      ],
      "execution_count": 44,
      "outputs": []
    },
    {
      "cell_type": "markdown",
      "metadata": {
        "id": "1oUqYki9rmhF",
        "colab_type": "text"
      },
      "source": [
        "Printing out the metrics of performance measure for the TF-IDF features"
      ]
    },
    {
      "cell_type": "code",
      "metadata": {
        "id": "G7YxcWSDrpjF",
        "colab_type": "code",
        "colab": {
          "base_uri": "https://localhost:8080/",
          "height": 121
        },
        "outputId": "5dfd2909-b29e-4a2c-a5db-136ff80febeb"
      },
      "source": [
        "print(\"F1 Score= \", f1_score(yvalid_tfidf, prediction_tfidf_rf_int))\n",
        "print(confusion_matrix(yvalid_tfidf, prediction_tfidf_rf_int))\n",
        "print(\"Accuracy Score= \", accuracy_score(yvalid_tfidf, prediction_tfidf_rf_int))\n",
        "print(\"Precision Score= \", precision_score(yvalid_tfidf, prediction_tfidf_rf_int))\n",
        "print(\"Recall Score= \", recall_score(yvalid_tfidf, prediction_tfidf_rf_int))"
      ],
      "execution_count": 45,
      "outputs": [
        {
          "output_type": "stream",
          "text": [
            "F1 Score=  0.9016949152542374\n",
            "[[ 91   4]\n",
            " [ 25 133]]\n",
            "Accuracy Score=  0.8853754940711462\n",
            "Precision Score=  0.9708029197080292\n",
            "Recall Score=  0.8417721518987342\n"
          ],
          "name": "stdout"
        }
      ]
    },
    {
      "cell_type": "markdown",
      "metadata": {
        "id": "i6hQUSsDrr1J",
        "colab_type": "text"
      },
      "source": [
        "Testing the performance of TF-IDF Random Forest Classifier"
      ]
    },
    {
      "cell_type": "code",
      "metadata": {
        "id": "IqCDR4a9rv_U",
        "colab_type": "code",
        "colab": {}
      },
      "source": [
        "test_tfidf_prediction_rf = rf_tfidf.predict_proba(test_bow)\n",
        "test_tfidf_prediction_rf_int = test_tfidf_prediction_rf[:, 1] >= 0.6\n",
        "test_tfidf_prediction_rf_int = test_tfidf_prediction_rf_int.astype(np.int)"
      ],
      "execution_count": 46,
      "outputs": []
    },
    {
      "cell_type": "code",
      "metadata": {
        "id": "MrVlBuqYryAY",
        "colab_type": "code",
        "colab": {
          "base_uri": "https://localhost:8080/",
          "height": 121
        },
        "outputId": "ab893ef5-1cd3-432f-a4ba-ec99e47d9171"
      },
      "source": [
        "print(\"F1 Score= \", f1_score(test['Label'], test_tfidf_prediction_rf_int))\n",
        "print(confusion_matrix(test['Label'], test_tfidf_prediction_rf_int))\n",
        "print(\"Accuracy Score= \", accuracy_score(test['Label'], test_tfidf_prediction_rf_int))\n",
        "print(\"Precision Score= \", precision_score(test['Label'], test_tfidf_prediction_rf_int))\n",
        "print(\"Recall Score= \", recall_score(test['Label'],test_tfidf_prediction_rf_int))"
      ],
      "execution_count": 47,
      "outputs": [
        {
          "output_type": "stream",
          "text": [
            "F1 Score=  0.8902900378310213\n",
            "[[192  13]\n",
            " [ 74 353]]\n",
            "Accuracy Score=  0.8623417721518988\n",
            "Precision Score=  0.9644808743169399\n",
            "Recall Score=  0.8266978922716628\n"
          ],
          "name": "stdout"
        }
      ]
    }
  ]
}